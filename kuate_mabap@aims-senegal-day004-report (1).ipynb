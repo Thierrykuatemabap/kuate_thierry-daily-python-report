{
 "cells": [
  {
   "cell_type": "markdown",
   "id": "68de2817-96dc-49be-bdcf-896983873e93",
   "metadata": {},
   "source": [
    "## Exercise 1:"
   ]
  },
  {
   "cell_type": "code",
   "execution_count": 1,
   "id": "66a4a7b8-0b57-4fd8-91f1-7f20e160ed32",
   "metadata": {},
   "outputs": [
    {
     "name": "stdout",
     "output_type": "stream",
     "text": [
      "Python is amazing!\n"
     ]
    }
   ],
   "source": [
    "text = \"Python is amazing!\"\n",
    "\n",
    "print(text)\n"
   ]
  },
  {
   "cell_type": "markdown",
   "id": "ab398769-d690-4194-9aa5-1e60c3c272d1",
   "metadata": {},
   "source": [
    "## Exercise 2:"
   ]
  },
  {
   "cell_type": "code",
   "execution_count": 2,
   "id": "08a719cb-ef08-412e-9e82-3c2dc39c1230",
   "metadata": {},
   "outputs": [
    {
     "name": "stdout",
     "output_type": "stream",
     "text": [
      "13\n"
     ]
    }
   ],
   "source": [
    "text = \"Hello, World!\"\n",
    "\n",
    "length = len(text)\n",
    "\n",
    "print(length)\n"
   ]
  },
  {
   "cell_type": "markdown",
   "id": "87a120b8-ced8-4f6b-9e1c-da6f6cf6fff9",
   "metadata": {},
   "source": [
    "## Exercise 3:"
   ]
  },
  {
   "cell_type": "code",
   "execution_count": 3,
   "id": "68e9cbf3-afd1-4a29-8062-b1d0bbcbc662",
   "metadata": {},
   "outputs": [
    {
     "name": "stdout",
     "output_type": "stream",
     "text": [
      "PYTHON PROGRAMMING\n"
     ]
    }
   ],
   "source": [
    "text = \"python programming\"\n",
    "\n",
    "upper_text = text.upper()\n",
    "\n",
    "print(upper_text)\n"
   ]
  },
  {
   "cell_type": "markdown",
   "id": "a6ea3484-1f05-4e7f-9a92-47947304529d",
   "metadata": {},
   "source": [
    "## Exercise 4:"
   ]
  },
  {
   "cell_type": "code",
   "execution_count": 4,
   "id": "1f8e0473-1c8f-42be-bd02-825fae1d6602",
   "metadata": {},
   "outputs": [
    {
     "name": "stdout",
     "output_type": "stream",
     "text": [
      "Artif\n"
     ]
    }
   ],
   "source": [
    "text = \"Artificial Intelligence\"\n",
    "\n",
    "first_five = text[:5]\n",
    "\n",
    "print(first_five)\n"
   ]
  },
  {
   "cell_type": "markdown",
   "id": "a77057ef-24f0-4f5d-87f7-07559f69fe34",
   "metadata": {},
   "source": [
    "## Exercise 5:"
   ]
  },
  {
   "cell_type": "code",
   "execution_count": 5,
   "id": "f642a9e2-ca76-4fee-afcf-c8f2786fa1e4",
   "metadata": {},
   "outputs": [
    {
     "name": "stdout",
     "output_type": "stream",
     "text": [
      "Hello World\n"
     ]
    }
   ],
   "source": [
    "str1 = \"Hello\"\n",
    "str2 = \"World\"\n",
    "\n",
    "result = str1 + \" \" + str2\n",
    "\n",
    "print(result)\n"
   ]
  },
  {
   "cell_type": "markdown",
   "id": "5168e7e7-dda8-4277-9847-64a654932ffa",
   "metadata": {},
   "source": [
    "## Exercise 6:"
   ]
  },
  {
   "cell_type": "code",
   "execution_count": 6,
   "id": "a84c2754-ed73-41e3-85f8-8dc3d1893b7e",
   "metadata": {},
   "outputs": [
    {
     "name": "stdout",
     "output_type": "stream",
     "text": [
      "The quick brown cat jumps over the lazy cat.\n"
     ]
    }
   ],
   "source": [
    "text = \"The quick brown dog jumps over the lazy dog.\"\n",
    "\n",
    "new_text = text.replace(\"dog\", \"cat\")\n",
    "\n",
    "print(new_text)\n"
   ]
  },
  {
   "cell_type": "markdown",
   "id": "c0694c93-4620-4b2d-9c1f-c475b6dff569",
   "metadata": {},
   "source": [
    "## Exercise 7:"
   ]
  },
  {
   "cell_type": "code",
   "execution_count": 7,
   "id": "1b6c27d9-3d0f-4452-a695-7d1dd8b73b3d",
   "metadata": {},
   "outputs": [
    {
     "name": "stdout",
     "output_type": "stream",
     "text": [
      "['apple', 'banana', 'orange']\n"
     ]
    }
   ],
   "source": [
    "text = \"apple,banana,orange\"\n",
    "\n",
    "fruits_list = text.split(\",\")\n",
    "\n",
    "print(fruits_list)\n"
   ]
  },
  {
   "cell_type": "markdown",
   "id": "4d3655f6-eb19-4dcd-8305-59e50a986ec6",
   "metadata": {},
   "source": [
    "## Exercise 8:"
   ]
  },
  {
   "cell_type": "code",
   "execution_count": 8,
   "id": "bfab2bc2-333d-4c4b-a3b2-eecad1ee382c",
   "metadata": {},
   "outputs": [
    {
     "name": "stdout",
     "output_type": "stream",
     "text": [
      "My name is Alice and I am 25 years old.\n"
     ]
    }
   ],
   "source": [
    "name = \"Alice\"\n",
    "age = 25\n",
    "\n",
    "sentence = f\"My name is {name} and I am {age} years old.\"\n",
    "\n",
    "print(sentence)\n"
   ]
  },
  {
   "cell_type": "markdown",
   "id": "be06d60d-4b31-4600-8381-b71a9fb762f9",
   "metadata": {},
   "source": [
    "## Exercise 9:"
   ]
  },
  {
   "cell_type": "code",
   "execution_count": 9,
   "id": "4dc19bda-d0dc-4ff7-9076-098b89ce536c",
   "metadata": {},
   "outputs": [
    {
     "name": "stdout",
     "output_type": "stream",
     "text": [
      "True\n"
     ]
    }
   ],
   "source": [
    "sentence = \"I love python programming\"\n",
    "\n",
    "is_present = \"python\" in sentence\n",
    "\n",
    "print(is_present)\n"
   ]
  },
  {
   "cell_type": "markdown",
   "id": "f066500f-7066-461c-a4a3-e6db05122509",
   "metadata": {},
   "source": [
    "## Exercise 10:"
   ]
  },
  {
   "cell_type": "code",
   "execution_count": 10,
   "id": "5f249da2-2186-4651-8597-318bdc8dbb3c",
   "metadata": {},
   "outputs": [
    {
     "name": "stdout",
     "output_type": "stream",
     "text": [
      "3\n"
     ]
    }
   ],
   "source": [
    "text = \"Elephant is an elegant animal\"\n",
    "\n",
    "count_e = text.count(\"e\")\n",
    "\n",
    "print(count_e)\n"
   ]
  },
  {
   "cell_type": "markdown",
   "id": "6bb3b37a-19c8-4f9a-8923-d21ca9b29a61",
   "metadata": {},
   "source": [
    "## Exercise 11:"
   ]
  },
  {
   "cell_type": "code",
   "execution_count": 11,
   "id": "58c14097-6b31-492e-b4e4-094411d2ed65",
   "metadata": {},
   "outputs": [
    {
     "name": "stdout",
     "output_type": "stream",
     "text": [
      "Data Science\n"
     ]
    }
   ],
   "source": [
    "text = \"   Data Science   \"\n",
    "\n",
    "clean_text = text.strip()\n",
    "\n",
    "print(clean_text)\n"
   ]
  },
  {
   "cell_type": "markdown",
   "id": "7964288a-2d46-4253-9bbd-a9e8c861d2c2",
   "metadata": {},
   "source": [
    "## Exercise 12:"
   ]
  },
  {
   "cell_type": "code",
   "execution_count": 12,
   "id": "8252e3fc-b307-4d33-b7d2-e855b6dc60f4",
   "metadata": {},
   "outputs": [
    {
     "name": "stdout",
     "output_type": "stream",
     "text": [
      "100\n"
     ]
    }
   ],
   "source": [
    "text = \"100\"\n",
    "\n",
    "int_value = int(text)\n",
    "\n",
    "print(int_value)\n"
   ]
  },
  {
   "cell_type": "markdown",
   "id": "ea5d2185-4a94-4abf-a96e-041ca14d6d63",
   "metadata": {},
   "source": [
    "## Exercise 13:"
   ]
  },
  {
   "cell_type": "code",
   "execution_count": 13,
   "id": "b1326b8b-232f-4831-acbd-f75cd5a934ed",
   "metadata": {},
   "outputs": [
    {
     "name": "stdout",
     "output_type": "stream",
     "text": [
      "pro\n"
     ]
    }
   ],
   "source": [
    "text = \"programming\"\n",
    "\n",
    "substring = text[:3]\n",
    "\n",
    "print(substring)\n"
   ]
  },
  {
   "cell_type": "markdown",
   "id": "21e9c3b6-d380-4159-b176-19211bc9eb05",
   "metadata": {},
   "source": [
    "## Exercise 14:"
   ]
  },
  {
   "cell_type": "code",
   "execution_count": 14,
   "id": "a0c42ec7-2bb2-4f17-979d-feaff6ee3fcc",
   "metadata": {},
   "outputs": [
    {
     "name": "stdout",
     "output_type": "stream",
     "text": [
      "Starts with 'da': True\n",
      "Ends with 'ta': True\n"
     ]
    }
   ],
   "source": [
    "text = \"data\"\n",
    "\n",
    "starts_with_da = text.startswith(\"da\")\n",
    "ends_with_ta = text.endswith(\"ta\")\n",
    "\n",
    "print(\"Starts with 'da':\", starts_with_da)\n",
    "print(\"Ends with 'ta':\", ends_with_ta)\n"
   ]
  },
  {
   "cell_type": "markdown",
   "id": "af0a0f28-cbaa-482f-b406-282d91d8f73e",
   "metadata": {},
   "source": [
    "## Exercise 15:"
   ]
  },
  {
   "cell_type": "code",
   "execution_count": 15,
   "id": "e40369f3-2ad5-48c7-a21f-2c39bee3cadd",
   "metadata": {},
   "outputs": [
    {
     "name": "stdout",
     "output_type": "stream",
     "text": [
      "gninrael enihcam\n"
     ]
    }
   ],
   "source": [
    "text = \"machine learning\"\n",
    "\n",
    "reversed_text = text[::-1]\n",
    "\n",
    "print(reversed_text)\n"
   ]
  },
  {
   "cell_type": "markdown",
   "id": "7e5fd61d-ef52-42b8-aa22-acc05264db69",
   "metadata": {},
   "source": [
    "## Exercise 16:"
   ]
  },
  {
   "cell_type": "code",
   "execution_count": 16,
   "id": "aa37b089-ea09-4dd2-803e-6c7ee56e11d7",
   "metadata": {},
   "outputs": [
    {
     "name": "stdout",
     "output_type": "stream",
     "text": [
      "Machine Learning Is Fun\n"
     ]
    }
   ],
   "source": [
    "text = \"machine learning is fun\"\n",
    "\n",
    "capitalized_text = text.title()\n",
    "\n",
    "print(capitalized_text)\n"
   ]
  },
  {
   "cell_type": "markdown",
   "id": "13547e9f-ea3a-4a2c-a50d-27c7cd4eb24a",
   "metadata": {},
   "source": [
    "## Exercise 17:"
   ]
  },
  {
   "cell_type": "code",
   "execution_count": 17,
   "id": "a7c59bd1-1e91-430b-99b7-c21eefebafa3",
   "metadata": {},
   "outputs": [
    {
     "name": "stdout",
     "output_type": "stream",
     "text": [
      "Roses are red,\n",
      "Violets are blue,\n",
      "Python is fun,\n",
      "And so are you.\n"
     ]
    }
   ],
   "source": [
    "poem = \"\"\"Roses are red,\n",
    "Violets are blue,\n",
    "Python is fun,\n",
    "And so are you.\"\"\"\n",
    "\n",
    "print(poem)\n"
   ]
  },
  {
   "cell_type": "markdown",
   "id": "a7376a2f-0408-4316-848b-1f7a24efeb66",
   "metadata": {},
   "source": [
    "## Exercise 18:"
   ]
  },
  {
   "cell_type": "code",
   "execution_count": 18,
   "id": "835c52a8-c8b1-4693-b993-86a47807eea6",
   "metadata": {},
   "outputs": [
    {
     "name": "stdout",
     "output_type": "stream",
     "text": [
      "Text has been written to output.txt\n"
     ]
    }
   ],
   "source": [
    "text = \"Hello, this is a sample text.\"\n",
    "\n",
    "with open(\"output.txt\", \"w\") as file:\n",
    "    file.write(text)\n",
    "\n",
    "print(\"Text has been written to output.txt\")\n"
   ]
  },
  {
   "cell_type": "markdown",
   "id": "962e3edd-ab0d-44b7-bc30-9acab8ccc07c",
   "metadata": {},
   "source": [
    "## Exercise 19:"
   ]
  },
  {
   "cell_type": "code",
   "execution_count": 21,
   "id": "f909b7ec-6e02-43d4-9cb0-6c87aa4a86a5",
   "metadata": {},
   "outputs": [],
   "source": [
    "with open(\"data.txt\", \"r\") as file:\n",
    "    for line in file:\n",
    "        print(line, end=\"\")  \n"
   ]
  },
  {
   "cell_type": "markdown",
   "id": "238dbd61-dce4-413f-9183-a05823cee183",
   "metadata": {},
   "source": [
    "## Exercise 20:"
   ]
  },
  {
   "cell_type": "code",
   "execution_count": 22,
   "id": "e3a9ca40-ec6e-457e-a1c4-70e6625e8b86",
   "metadata": {},
   "outputs": [
    {
     "name": "stdout",
     "output_type": "stream",
     "text": [
      "The file 'example.txt' does not exist.\n"
     ]
    }
   ],
   "source": [
    "import os\n",
    "\n",
    "filename = \"example.txt\"\n",
    "\n",
    "if os.path.exists(filename):\n",
    "    with open(filename, \"r\") as file:\n",
    "        content = file.read()\n",
    "        print(content)\n",
    "else:\n",
    "    print(f\"The file '{filename}' does not exist.\")\n"
   ]
  },
  {
   "cell_type": "markdown",
   "id": "e0147777-629d-44bd-98e9-dcab10b15ef7",
   "metadata": {},
   "source": [
    "## Exercise 21:"
   ]
  },
  {
   "cell_type": "code",
   "execution_count": 23,
   "id": "43074664-85a4-4f74-82d1-fbf3cd2f6f5c",
   "metadata": {},
   "outputs": [
    {
     "name": "stdout",
     "output_type": "stream",
     "text": [
      "New line has been appended to notes.txt\n"
     ]
    }
   ],
   "source": [
    "with open(\"notes.txt\", \"a\") as file:\n",
    "    file.write(\"This is a new line\\n\")\n",
    "\n",
    "print(\"New line has been appended to notes.txt\")\n"
   ]
  },
  {
   "cell_type": "markdown",
   "id": "157511fe-206d-43a5-a741-b3c074cddc88",
   "metadata": {},
   "source": [
    "## Exercise 22:"
   ]
  },
  {
   "cell_type": "code",
   "execution_count": 25,
   "id": "844f6888-3331-45c1-955b-19c5fef76238",
   "metadata": {},
   "outputs": [],
   "source": [
    "with open(\"log.txt\", \"r\") as file:\n",
    "    log_lines = file.readlines()\n",
    "\n",
    "print(log_lines)\n"
   ]
  },
  {
   "cell_type": "markdown",
   "id": "c8776161-080c-4d37-b4f1-79c3edf489a4",
   "metadata": {},
   "source": [
    "## Exercise 23:"
   ]
  },
  {
   "cell_type": "code",
   "execution_count": null,
   "id": "4d2bec83-e459-4ed0-aeb3-e8c44144aa10",
   "metadata": {},
   "outputs": [],
   "source": [
    "text = \"Data analysis report\"\n",
    "\n",
    "with open(\"report.txt\", \"w\") as file:\n",
    "    file.write(text)\n",
    "\n",
    "print(\"Text has been written to report.txt\")\n"
   ]
  },
  {
   "cell_type": "markdown",
   "id": "c23d79d2-2bb8-4877-82b5-3c1414b1c5a2",
   "metadata": {},
   "source": [
    "## Exercise 24:"
   ]
  },
  {
   "cell_type": "code",
   "execution_count": null,
   "id": "2158f700-fd2b-49a5-933a-0f34fca12ea4",
   "metadata": {},
   "outputs": [],
   "source": [
    "with open(\"log.txt\", \"r\") as file:\n",
    "    content = file.read()\n",
    "\n",
    "new_content = content.replace(\"error\", \"issue\")\n",
    "\n",
    "with open(\"log.txt\", \"w\") as file:\n",
    "    file.write(new_content)\n",
    "\n",
    "print(\"All occurrences of 'error' have been replaced with 'issue' in log.txt\")\n"
   ]
  },
  {
   "cell_type": "markdown",
   "id": "42a0a0d7-fe03-4d36-8178-bfc6d8604b66",
   "metadata": {},
   "source": [
    "## Exercise 25:"
   ]
  },
  {
   "cell_type": "code",
   "execution_count": null,
   "id": "a7ef9fc5-78d0-4a9e-9748-43dec188e0c8",
   "metadata": {},
   "outputs": [],
   "source": [
    "with open(\"document.txt\", \"r\") as file:\n",
    "    content = file.read()\n",
    "\n",
    "words = content.split()\n",
    "\n",
    "word_count = len(words)\n",
    "\n",
    "print(\"Number of words in the file:\", word_count)\n"
   ]
  },
  {
   "cell_type": "markdown",
   "id": "41d378cc-bb2a-4a73-b334-6938dada2fc4",
   "metadata": {},
   "source": [
    "## Exercise 26:"
   ]
  },
  {
   "cell_type": "code",
   "execution_count": null,
   "id": "293aa885-60f4-412d-b6c9-1a8319aa4cda",
   "metadata": {},
   "outputs": [],
   "source": [
    "line_count = 0\n",
    "word_count = 0\n",
    "char_count = 0\n",
    "\n",
    "with open(\"essay.txt\", \"r\") as file:\n",
    "    for line in file:\n",
    "        line_count += 1                \n",
    "        word_count += len(line.split()) \n",
    "        char_count += len(line)        \n",
    "\n",
    "print(\"Total lines:\", line_count)\n",
    "print(\"Total words:\", word_count)\n",
    "print(\"Total characters:\", char_count)\n"
   ]
  },
  {
   "cell_type": "markdown",
   "id": "93997478-f17d-4a8d-8d64-6f7f9c67f1b6",
   "metadata": {},
   "source": [
    "## Exercise 27:"
   ]
  },
  {
   "cell_type": "code",
   "execution_count": null,
   "id": "7d930dd8-255f-4853-bd3d-e996c5aa46de",
   "metadata": {},
   "outputs": [],
   "source": [
    "with open(\"source.txt\", \"r\") as src_file, open(\"destination.txt\", \"w\") as dest_file:\n",
    "    content = src_file.read()\n",
    "    dest_file.write(content)\n",
    "\n",
    "print(\"Contents have been copied from source.txt to destination.txt\")\n"
   ]
  },
  {
   "cell_type": "markdown",
   "id": "c6d5de6b-30c0-47a9-b134-7ad2ff30f242",
   "metadata": {},
   "source": [
    "## Exercise 28:"
   ]
  },
  {
   "cell_type": "code",
   "execution_count": 26,
   "id": "9a41a30d-56aa-4f33-86d3-fad75761de22",
   "metadata": {},
   "outputs": [],
   "source": [
    "def count_lines(filename):\n",
    "   \n",
    "    try:\n",
    "        with open(filename, 'r') as file:\n",
    "            return sum(1 for line in file)\n",
    "    except FileNotFoundError:\n",
    "        print(f\"Error: The file '{filename}' does not exist.\")\n",
    "        return 0\n",
    "    except Exception as e:\n",
    "        print(f\"An error occurred: {e}\")\n",
    "        return 0\n"
   ]
  },
  {
   "cell_type": "markdown",
   "id": "0f3590eb-fb53-453a-9c05-2863becc5eef",
   "metadata": {},
   "source": [
    "## Exercise 29:"
   ]
  },
  {
   "cell_type": "code",
   "execution_count": 27,
   "id": "55956c1d-6af7-4886-bdfb-77d757fe0926",
   "metadata": {},
   "outputs": [
    {
     "name": "stdout",
     "output_type": "stream",
     "text": [
      "Error: The file 'article.txt' does not exist.\n",
      "[]\n"
     ]
    }
   ],
   "source": [
    "def extract_long_words(filename):\n",
    "   \n",
    "    long_words = []\n",
    "    try:\n",
    "        with open(filename, 'r') as file:\n",
    "            for line in file:\n",
    "                words = line.split()  \n",
    "                for word in words:\n",
    "                    clean_word = ''.join(char for char in word if char.isalnum())\n",
    "                    if len(clean_word) > 5:\n",
    "                        long_words.append(clean_word)\n",
    "        return long_words\n",
    "    except FileNotFoundError:\n",
    "        print(f\"Error: The file '{filename}' does not exist.\")\n",
    "        return []\n",
    "\n",
    "words = extract_long_words(\"article.txt\")\n",
    "print(words)\n"
   ]
  },
  {
   "cell_type": "markdown",
   "id": "962b255f-1607-486f-803e-6cf6b7e17aed",
   "metadata": {},
   "source": [
    "## Exercise 30:"
   ]
  },
  {
   "cell_type": "code",
   "execution_count": 28,
   "id": "b2c971cb-1d05-45c1-a64f-8ac415dcd781",
   "metadata": {},
   "outputs": [
    {
     "name": "stdout",
     "output_type": "stream",
     "text": [
      "File converted to uppercase and saved as 'uppercase_notes.txt'.\n"
     ]
    }
   ],
   "source": [
    "def convert_to_uppercase(input_file, output_file):\n",
    "    \n",
    "    try:\n",
    "        with open(input_file, 'r') as infile:\n",
    "            content = infile.read()  \n",
    "        content_upper = content.upper()  \n",
    "        with open(output_file, 'w') as outfile:\n",
    "            outfile.write(content_upper) \n",
    "        print(f\"File converted to uppercase and saved as '{output_file}'.\")\n",
    "    except FileNotFoundError:\n",
    "        print(f\"Error: The file '{input_file}' does not exist.\")\n",
    "    except Exception as e:\n",
    "        print(f\"An error occurred: {e}\")\n",
    "\n",
    "convert_to_uppercase(\"notes.txt\", \"uppercase_notes.txt\")\n"
   ]
  },
  {
   "cell_type": "markdown",
   "id": "24934d8e-6806-4c57-8504-56cd30561eab",
   "metadata": {},
   "source": [
    "## Exercise 31:"
   ]
  },
  {
   "cell_type": "code",
   "execution_count": 29,
   "id": "c6aaf57e-0910-463e-b09a-ac913a179764",
   "metadata": {},
   "outputs": [
    {
     "name": "stdout",
     "output_type": "stream",
     "text": [
      "Error: The file 'input.txt' does not exist.\n"
     ]
    }
   ],
   "source": [
    "def remove_empty_lines(input_file, output_file):\n",
    "\n",
    "    try:\n",
    "        with open(input_file, 'r') as infile:\n",
    "            lines = infile.readlines()\n",
    "\n",
    "        non_empty_lines = [line for line in lines if line.strip()]\n",
    "\n",
    "        with open(output_file, 'w') as outfile:\n",
    "            outfile.writelines(non_empty_lines)\n",
    "\n",
    "        print(f\"Empty lines removed. Result saved to '{output_file}'.\")\n",
    "    except FileNotFoundError:\n",
    "        print(f\"Error: The file '{input_file}' does not exist.\")\n",
    "    except Exception as e:\n",
    "        print(f\"An error occurred: {e}\")\n",
    "\n",
    "remove_empty_lines(\"input.txt\", \"output.txt\")\n"
   ]
  },
  {
   "cell_type": "markdown",
   "id": "5c079f75-63d5-485f-9cf8-0b8fbef89439",
   "metadata": {},
   "source": [
    "## Exercise 32:"
   ]
  },
  {
   "cell_type": "code",
   "execution_count": 30,
   "id": "4c6dbaac-5405-4064-b4c7-40279bbf6ba4",
   "metadata": {},
   "outputs": [
    {
     "name": "stdout",
     "output_type": "stream",
     "text": [
      "Error: The file 'config.txt' does not exist.\n"
     ]
    }
   ],
   "source": [
    "try:\n",
    "    with open(\"config.txt\", \"r+\") as file:\n",
    "        content = file.read()\n",
    "        print(\"Current content of the file:\")\n",
    "        print(content)\n",
    "        file.write(\"\\n# New configuration added\")\n",
    "\n",
    "    print(\"File read and write operations completed.\")\n",
    "except FileNotFoundError:\n",
    "    print(\"Error: The file 'config.txt' does not exist.\")\n",
    "except Exception as e:\n",
    "    print(f\"An error occurred: {e}\")\n"
   ]
  },
  {
   "cell_type": "markdown",
   "id": "d2621e94-dda3-4fae-872f-d54b73e7db73",
   "metadata": {},
   "source": [
    "## Exercise 33:"
   ]
  },
  {
   "cell_type": "code",
   "execution_count": 31,
   "id": "bc536d0c-78f6-40ef-a6f7-bb92b677d92e",
   "metadata": {},
   "outputs": [
    {
     "name": "stdout",
     "output_type": "stream",
     "text": [
      "Error: The file 'example.txt' does not exist.\n"
     ]
    }
   ],
   "source": [
    "def print_longest_line(filename):\n",
    "\n",
    "    try:\n",
    "        with open(filename, 'r') as file:\n",
    "            longest_line = \"\"\n",
    "            for line in file:\n",
    "                if len(line) > len(longest_line):\n",
    "                    longest_line = line\n",
    "        print(\"Longest line in the file:\")\n",
    "        print(longest_line.strip()) \n",
    "    except FileNotFoundError:\n",
    "        print(f\"Error: The file '{filename}' does not exist.\")\n",
    "    except Exception as e:\n",
    "        print(f\"An error occurred: {e}\")\n",
    "\n",
    "print_longest_line(\"example.txt\")\n"
   ]
  },
  {
   "cell_type": "markdown",
   "id": "a5727ef2-bd11-4c55-8cef-bdc3868a54fd",
   "metadata": {},
   "source": [
    "## Exercise 34:"
   ]
  },
  {
   "cell_type": "code",
   "execution_count": 32,
   "id": "5a12cf98-9e0c-4c05-ba29-e1db4e0a2373",
   "metadata": {},
   "outputs": [
    {
     "name": "stdout",
     "output_type": "stream",
     "text": [
      "Error: The file 'message.txt' does not exist.\n"
     ]
    }
   ],
   "source": [
    "def letter_frequency(filename):\n",
    "    \n",
    "    frequency = {}\n",
    "    try:\n",
    "        with open(filename, 'r') as file:\n",
    "            for line in file:\n",
    "                for char in line:\n",
    "                    if char.isalpha():  \n",
    "                        char = char.lower()  \n",
    "                        frequency[char] = frequency.get(char, 0) + 1\n",
    "        return frequency\n",
    "    except FileNotFoundError:\n",
    "        print(f\"Error: The file '{filename}' does not exist.\")\n",
    "        return {}\n",
    "    except Exception as e:\n",
    "        print(f\"An error occurred: {e}\")\n",
    "        return {}\n",
    "\n",
    "freq = letter_frequency(\"message.txt\")\n",
    "for letter, count in sorted(freq.items()):\n",
    "    print(f\"{letter}: {count}\")\n"
   ]
  },
  {
   "cell_type": "markdown",
   "id": "3ca5a70f-5b1a-412d-8857-94db79a9a7de",
   "metadata": {},
   "source": [
    "## Exercise 35:"
   ]
  },
  {
   "cell_type": "code",
   "execution_count": 33,
   "id": "3716c2e2-94b4-4fc0-81b4-738f18c9d11a",
   "metadata": {},
   "outputs": [
    {
     "name": "stdout",
     "output_type": "stream",
     "text": [
      "Error: The file 'example.txt' does not exist.\n"
     ]
    }
   ],
   "source": [
    "def count_characters(filename):\n",
    "    \n",
    "    try:\n",
    "        total_chars = 0\n",
    "        with open(filename, 'r') as file:\n",
    "            for line in file:\n",
    "                total_chars += len(line.replace(\" \", \"\"))\n",
    "        print(f\"Total number of characters (excluding spaces): {total_chars}\")\n",
    "    except FileNotFoundError:\n",
    "        print(f\"Error: The file '{filename}' does not exist.\")\n",
    "    except Exception as e:\n",
    "        print(f\"An error occurred: {e}\")\n",
    "\n",
    "count_characters(\"example.txt\")\n"
   ]
  },
  {
   "cell_type": "markdown",
   "id": "1d82967e-c78b-42fb-9be5-11e4a2dd24fc",
   "metadata": {},
   "source": [
    "## Exercise 36:"
   ]
  },
  {
   "cell_type": "code",
   "execution_count": 34,
   "id": "f4dc3802-56cc-4121-9937-a4c746991c8f",
   "metadata": {},
   "outputs": [
    {
     "name": "stdout",
     "output_type": "stream",
     "text": [
      "Error: The file 'example.txt' does not exist.\n"
     ]
    }
   ],
   "source": [
    "def is_file_empty(filename):\n",
    "    \n",
    "    try:\n",
    "        with open(filename, 'r') as file:\n",
    "            content = file.read()\n",
    "            if not content:\n",
    "                print(f\"The file '{filename}' is empty.\")\n",
    "                return True\n",
    "            else:\n",
    "                print(f\"The file '{filename}' is not empty.\")\n",
    "                return False\n",
    "    except FileNotFoundError:\n",
    "        print(f\"Error: The file '{filename}' does not exist.\")\n",
    "        return None\n",
    "    except Exception as e:\n",
    "        print(f\"An error occurred: {e}\")\n",
    "        return None\n",
    "\n",
    "is_file_empty(\"example.txt\")\n"
   ]
  },
  {
   "cell_type": "markdown",
   "id": "bee6da2c-8e02-4294-9361-3a2fc9e51304",
   "metadata": {},
   "source": [
    "## Exercise 37:"
   ]
  },
  {
   "cell_type": "code",
   "execution_count": 35,
   "id": "6bb9720b-3f71-43b8-8a96-340ccee01e11",
   "metadata": {},
   "outputs": [
    {
     "name": "stdout",
     "output_type": "stream",
     "text": [
      "Error: The file 'example.txt' does not exist.\n"
     ]
    }
   ],
   "source": [
    "import string\n",
    "\n",
    "def remove_punctuation(input_file, output_file):\n",
    "   \n",
    "    try:\n",
    "        with open(input_file, 'r') as file:\n",
    "            text = file.read()\n",
    "\n",
    "        clean_text = text.translate(str.maketrans('', '', string.punctuation))\n",
    "\n",
    "        with open(output_file, 'w') as file:\n",
    "            file.write(clean_text)\n",
    "\n",
    "        print(f\"Punctuation removed. Result saved to '{output_file}'.\")\n",
    "    except FileNotFoundError:\n",
    "        print(f\"Error: The file '{input_file}' does not exist.\")\n",
    "    except Exception as e:\n",
    "        print(f\"An error occurred: {e}\")\n",
    "\n",
    "remove_punctuation(\"example.txt\", \"cleaned_example.txt\")\n"
   ]
  },
  {
   "cell_type": "markdown",
   "id": "1c669796-70d4-4819-9d28-be1b734eba02",
   "metadata": {},
   "source": [
    "## Exercise 38:"
   ]
  },
  {
   "cell_type": "code",
   "execution_count": 36,
   "id": "43b93341-de20-4cb6-b377-6071c46a9ab5",
   "metadata": {},
   "outputs": [
    {
     "name": "stdout",
     "output_type": "stream",
     "text": [
      "List written to 'output.txt' successfully.\n"
     ]
    }
   ],
   "source": [
    "def write_list_to_file(strings, filename):\n",
    "    try:\n",
    "        with open(filename, 'w') as file:\n",
    "            for string in strings:\n",
    "                file.write(string + '\\n')\n",
    "        print(f\"List written to '{filename}' successfully.\")\n",
    "    except Exception as e:\n",
    "        print(f\"An error occurred: {e}\")\n",
    "\n",
    "my_strings = [\"Hello\", \"World\", \"Python\", \"File Handling\"]\n",
    "write_list_to_file(my_strings, \"output.txt\")\n"
   ]
  },
  {
   "cell_type": "markdown",
   "id": "773fe45e-1b7a-4d4b-a64f-f320b332284a",
   "metadata": {},
   "source": [
    "## Exercise 39:"
   ]
  },
  {
   "cell_type": "code",
   "execution_count": 37,
   "id": "59f19dd6-8bdd-4fbc-937e-70d2d7348a24",
   "metadata": {},
   "outputs": [
    {
     "name": "stdout",
     "output_type": "stream",
     "text": [
      "Error: The file 'example.txt' does not exist.\n"
     ]
    },
    {
     "data": {
      "text/plain": [
       "0"
      ]
     },
     "execution_count": 37,
     "metadata": {},
     "output_type": "execute_result"
    }
   ],
   "source": [
    "def count_lines_starting_with(filename, letter):\n",
    "   \n",
    "    count = 0\n",
    "    try:\n",
    "        with open(filename, 'r') as file:\n",
    "            for line in file:\n",
    "                if line.strip().startswith(letter):\n",
    "                    count += 1\n",
    "        print(f\"Number of lines starting with '{letter}': {count}\")\n",
    "        return count\n",
    "    except FileNotFoundError:\n",
    "        print(f\"Error: The file '{filename}' does not exist.\")\n",
    "        return 0\n",
    "    except Exception as e:\n",
    "        print(f\"An error occurred: {e}\")\n",
    "        return 0\n",
    "\n",
    "count_lines_starting_with(\"example.txt\", \"A\")\n"
   ]
  },
  {
   "cell_type": "markdown",
   "id": "5c4c9d23-53f7-488c-9764-c7e0a5425ecc",
   "metadata": {},
   "source": [
    "## Exercise 40:"
   ]
  },
  {
   "cell_type": "code",
   "execution_count": 38,
   "id": "4f79ec21-9718-4009-82e8-15bdb9588da2",
   "metadata": {},
   "outputs": [
    {
     "name": "stdout",
     "output_type": "stream",
     "text": [
      "Reversed text written to 'output.txt' successfully.\n"
     ]
    }
   ],
   "source": [
    "def write_reverse_to_file(text):\n",
    "\n",
    "    try:\n",
    "        reversed_text = text[::-1]  \n",
    "        with open(\"output.txt\", 'w') as file:\n",
    "            file.write(reversed_text)\n",
    "        print(\"Reversed text written to 'output.txt' successfully.\")\n",
    "    except Exception as e:\n",
    "        print(f\"An error occurred: {e}\")\n",
    "\n",
    "write_reverse_to_file(\"Hello, Python!\")\n"
   ]
  },
  {
   "cell_type": "markdown",
   "id": "72a7e284-c41d-44d0-8f70-03cc968e1ccf",
   "metadata": {},
   "source": [
    "## Exercise 41:"
   ]
  },
  {
   "cell_type": "code",
   "execution_count": 39,
   "id": "b5f140f7-5c55-45bc-b698-5895f4e159b8",
   "metadata": {},
   "outputs": [
    {
     "name": "stdout",
     "output_type": "stream",
     "text": [
      "Error: The file 'example.txt' does not exist.\n"
     ]
    }
   ],
   "source": [
    "def print_lines_with_word(filename, word=\"Python\"):\n",
    "    \n",
    "    try:\n",
    "        with open(filename, 'r') as file:\n",
    "            for line in file:\n",
    "                if word in line:\n",
    "                    print(line.strip())\n",
    "    except FileNotFoundError:\n",
    "        print(f\"Error: The file '{filename}' does not exist.\")\n",
    "    except Exception as e:\n",
    "        print(f\"An error occurred: {e}\")\n",
    "\n",
    "print_lines_with_word(\"example.txt\")\n"
   ]
  },
  {
   "cell_type": "markdown",
   "id": "67852cb9-3c06-433e-9aa8-e305746d597c",
   "metadata": {},
   "source": [
    "## Exercise 42:"
   ]
  },
  {
   "cell_type": "code",
   "execution_count": 40,
   "id": "8d108ea5-984d-474e-8f68-2fc88425b26e",
   "metadata": {},
   "outputs": [
    {
     "name": "stdout",
     "output_type": "stream",
     "text": [
      "Error: The file 'input.txt' does not exist.\n"
     ]
    }
   ],
   "source": [
    "def remove_digits(input_file, output_file):\n",
    "   \n",
    "    try:\n",
    "        with open(input_file, 'r') as file:\n",
    "            text = file.read()\n",
    "\n",
    "        cleaned_text = ''.join(char for char in text if not char.isdigit())\n",
    "\n",
    "        with open(output_file, 'w') as file:\n",
    "            file.write(cleaned_text)\n",
    "\n",
    "        print(f\"All numeric digits removed. Result saved to '{output_file}'.\")\n",
    "    except FileNotFoundError:\n",
    "        print(f\"Error: The file '{input_file}' does not exist.\")\n",
    "    except Exception as e:\n",
    "        print(f\"An error occurred: {e}\")\n",
    "\n",
    "remove_digits(\"input.txt\", \"output.txt\")\n"
   ]
  },
  {
   "cell_type": "markdown",
   "id": "b1faf48e-9db8-470e-ac6e-481601ea71a1",
   "metadata": {},
   "source": [
    "## Exercise 43:"
   ]
  },
  {
   "cell_type": "code",
   "execution_count": 41,
   "id": "abfd9fa2-8b58-4761-912b-8288a8ed9790",
   "metadata": {},
   "outputs": [
    {
     "name": "stdout",
     "output_type": "stream",
     "text": [
      "Error: The file 'book.txt' does not exist.\n"
     ]
    }
   ],
   "source": [
    "from collections import Counter\n",
    "import string\n",
    "\n",
    "def most_frequent_word(filename):\n",
    "    \n",
    "    try:\n",
    "        with open(filename, 'r') as file:\n",
    "            text = file.read().lower()  \n",
    "\n",
    "        text = text.translate(str.maketrans('', '', string.punctuation))\n",
    "\n",
    "        words = text.split()  # Split text into words\n",
    "        if not words:\n",
    "            print(\"The file is empty or contains no words.\")\n",
    "            return\n",
    "\n",
    "        word_counts = Counter(words)\n",
    "        most_common_word, count = word_counts.most_common(1)[0]\n",
    "\n",
    "        print(f\"The most frequent word is '{most_common_word}' which appears {count} times.\")\n",
    "\n",
    "    except FileNotFoundError:\n",
    "        print(f\"Error: The file '{filename}' does not exist.\")\n",
    "    except Exception as e:\n",
    "        print(f\"An error occurred: {e}\")\n",
    "\n",
    "most_frequent_word(\"book.txt\")\n"
   ]
  },
  {
   "cell_type": "markdown",
   "id": "e0ccd3bc-7d12-4d5b-820b-4b112cbfeeeb",
   "metadata": {},
   "source": [
    "## Exercise 44:"
   ]
  },
  {
   "cell_type": "code",
   "execution_count": 42,
   "id": "869e292e-21fb-447e-99eb-9b1a5ab75c07",
   "metadata": {},
   "outputs": [
    {
     "name": "stdout",
     "output_type": "stream",
     "text": [
      "Error: The file 'example.txt' does not exist.\n"
     ]
    }
   ],
   "source": [
    "def print_lines_with_five_words(filename):\n",
    "    try:\n",
    "        with open(filename, 'r') as file:\n",
    "            for line in file:\n",
    "                words = line.split()  \n",
    "                if len(words) == 5:\n",
    "                    print(line.strip())  \n",
    "    except FileNotFoundError:\n",
    "        print(f\"Error: The file '{filename}' does not exist.\")\n",
    "    except Exception as e:\n",
    "        print(f\"An error occurred: {e}\")\n",
    "\n",
    "print_lines_with_five_words(\"example.txt\")\n"
   ]
  },
  {
   "cell_type": "markdown",
   "id": "60475f27-f53c-4979-b9b7-0ffeb09d5228",
   "metadata": {},
   "source": [
    "## Exercise 45:"
   ]
  },
  {
   "cell_type": "code",
   "execution_count": 43,
   "id": "bc9e3f6e-7d90-4111-95c1-f639f283f869",
   "metadata": {},
   "outputs": [
    {
     "name": "stdout",
     "output_type": "stream",
     "text": [
      "Error: The file 'example.txt' does not exist.\n"
     ]
    }
   ],
   "source": [
    "def print_first_and_last_line(filename):\n",
    "    \n",
    "    try:\n",
    "        with open(filename, 'r') as file:\n",
    "            lines = file.readlines()\n",
    "            if not lines:\n",
    "                print(\"The file is empty.\")\n",
    "                return\n",
    "            print(\"First line:\")\n",
    "            print(lines[0].strip())\n",
    "            print(\"Last line:\")\n",
    "            print(lines[-1].strip())\n",
    "    except FileNotFoundError:\n",
    "        print(f\"Error: The file '{filename}' does not exist.\")\n",
    "    except Exception as e:\n",
    "        print(f\"An error occurred: {e}\")\n",
    "\n",
    "print_first_and_last_line(\"example.txt\")\n"
   ]
  },
  {
   "cell_type": "markdown",
   "id": "4d4f0be4-39d1-4651-bb80-b295f1d9637a",
   "metadata": {},
   "source": [
    "## Exercise 46:"
   ]
  },
  {
   "cell_type": "code",
   "execution_count": 44,
   "id": "3c8f73e8-7ed0-4419-bd02-655edf50939f",
   "metadata": {},
   "outputs": [
    {
     "name": "stdout",
     "output_type": "stream",
     "text": [
      "The file 'students.txt' is writable.\n"
     ]
    },
    {
     "data": {
      "text/plain": [
       "True"
      ]
     },
     "execution_count": 44,
     "metadata": {},
     "output_type": "execute_result"
    }
   ],
   "source": [
    "def is_file_writable(filename):\n",
    "   \n",
    "    try:\n",
    "        with open(filename, 'a'):\n",
    "            print(f\"The file '{filename}' is writable.\")\n",
    "            return True\n",
    "    except FileNotFoundError:\n",
    "        print(f\"Error: The file '{filename}' does not exist.\")\n",
    "        return False\n",
    "    except PermissionError:\n",
    "        print(f\"The file '{filename}' is not writable due to permission issues.\")\n",
    "        return False\n",
    "    except Exception as e:\n",
    "        print(f\"An error occurred: {e}\")\n",
    "        return False\n",
    "\n",
    "is_file_writable(\"students.txt\")\n"
   ]
  },
  {
   "cell_type": "markdown",
   "id": "13a65461-cf14-4611-b12c-b48c3ba51252",
   "metadata": {},
   "source": [
    "## Exercise 47:"
   ]
  },
  {
   "cell_type": "code",
   "execution_count": 45,
   "id": "38804b97-6e3f-475f-b0e6-b8e30381b080",
   "metadata": {},
   "outputs": [
    {
     "name": "stdout",
     "output_type": "stream",
     "text": [
      "Error: The file 'example.txt' does not exist.\n"
     ]
    },
    {
     "data": {
      "text/plain": [
       "0"
      ]
     },
     "execution_count": 45,
     "metadata": {},
     "output_type": "execute_result"
    }
   ],
   "source": [
    "import string\n",
    "\n",
    "def count_unique_words(filename):\n",
    "    \n",
    "    try:\n",
    "        with open(filename, 'r') as file:\n",
    "            text = file.read().lower()  \n",
    "\n",
    "        text = text.translate(str.maketrans('', '', string.punctuation))\n",
    "\n",
    "        words = text.split()  \n",
    "        unique_words = set(words)  \n",
    "\n",
    "        print(f\"Number of unique words in '{filename}': {len(unique_words)}\")\n",
    "        return len(unique_words)\n",
    "\n",
    "    except FileNotFoundError:\n",
    "        print(f\"Error: The file '{filename}' does not exist.\")\n",
    "        return 0\n",
    "    except Exception as e:\n",
    "        print(f\"An error occurred: {e}\")\n",
    "        return 0\n",
    "\n",
    "count_unique_words(\"example.txt\")\n"
   ]
  },
  {
   "cell_type": "markdown",
   "id": "703011c2-44a5-448c-8f6f-2336ed7a2b66",
   "metadata": {},
   "source": [
    "## Exercise 48:"
   ]
  },
  {
   "cell_type": "code",
   "execution_count": 46,
   "id": "83384fe4-ddc0-492b-a695-bf9d96a65e87",
   "metadata": {},
   "outputs": [
    {
     "name": "stdout",
     "output_type": "stream",
     "text": [
      "Error: The file 'example.txt' does not exist.\n"
     ]
    }
   ],
   "source": [
    "def print_lines_in_reverse(filename):\n",
    "   \n",
    "    try:\n",
    "        with open(filename, 'r') as file:\n",
    "            lines = file.readlines()  \n",
    "\n",
    "        for line in reversed(lines):\n",
    "            print(line.strip())\n",
    "    except FileNotFoundError:\n",
    "        print(f\"Error: The file '{filename}' does not exist.\")\n",
    "    except Exception as e:\n",
    "        print(f\"An error occurred: {e}\")\n",
    "\n",
    "print_lines_in_reverse(\"example.txt\")\n"
   ]
  },
  {
   "cell_type": "markdown",
   "id": "b7acee21-3c9b-4491-8e20-d0943f3f8ea9",
   "metadata": {},
   "source": [
    "## Exercise 49:"
   ]
  },
  {
   "cell_type": "code",
   "execution_count": 47,
   "id": "4ffd881e-7606-4d85-bf01-9ba24344a4dc",
   "metadata": {},
   "outputs": [
    {
     "name": "stdout",
     "output_type": "stream",
     "text": [
      "Error: The file 'example.txt' does not exist.\n"
     ]
    },
    {
     "data": {
      "text/plain": [
       "(None, 0)"
      ]
     },
     "execution_count": 47,
     "metadata": {},
     "output_type": "execute_result"
    }
   ],
   "source": [
    "from collections import Counter\n",
    "import string\n",
    "\n",
    "def most_common_letter(filename):\n",
    "\n",
    "    try:\n",
    "        with open(filename, 'r') as file:\n",
    "            text = file.read().lower()  \n",
    "\n",
    "        letters = [char for char in text if char.isalpha()]\n",
    "\n",
    "        if not letters:\n",
    "            print(\"No letters found in the file.\")\n",
    "            return None, 0\n",
    "\n",
    "        letter_counts = Counter(letters)\n",
    "        most_common = letter_counts.most_common(1)[0]\n",
    "\n",
    "        print(f\"The most common letter is '{most_common[0]}' which appears {most_common[1]} times.\")\n",
    "        return most_common\n",
    "\n",
    "    except FileNotFoundError:\n",
    "        print(f\"Error: The file '{filename}' does not exist.\")\n",
    "        return None, 0\n",
    "    except Exception as e:\n",
    "        print(f\"An error occurred: {e}\")\n",
    "        return None, 0\n",
    "\n",
    "most_common_letter(\"example.txt\")\n"
   ]
  },
  {
   "cell_type": "markdown",
   "id": "ad62dee6-533c-423f-9a64-0f9bba2d5100",
   "metadata": {},
   "source": [
    "## Exercise 50:"
   ]
  },
  {
   "cell_type": "code",
   "execution_count": 48,
   "id": "f5be7a55-0b33-4bff-afd7-4d7b804a5717",
   "metadata": {},
   "outputs": [
    {
     "name": "stdout",
     "output_type": "stream",
     "text": [
      "Error: The file 'example.txt' does not exist.\n"
     ]
    }
   ],
   "source": [
    "def replace_python_with_java(input_file, output_file):\n",
    "   \n",
    "    try:\n",
    "        with open(input_file, 'r') as file:\n",
    "            content = file.read()\n",
    "\n",
    "        updated_content = content.replace(\"Python\", \"Java\")\n",
    "\n",
    "        with open(output_file, 'w') as file:\n",
    "            file.write(updated_content)\n",
    "\n",
    "        print(f\"All occurrences of 'Python' replaced with 'Java' in '{output_file}'.\")\n",
    "    except FileNotFoundError:\n",
    "        print(f\"Error: The file '{input_file}' does not exist.\")\n",
    "    except Exception as e:\n",
    "        print(f\"An error occurred: {e}\")\n",
    "\n",
    "replace_python_with_java(\"example.txt\", \"updated_example.txt\")\n"
   ]
  },
  {
   "cell_type": "code",
   "execution_count": null,
   "id": "f2b38505-3ca3-4129-87ab-dc30381b6090",
   "metadata": {},
   "outputs": [],
   "source": []
  }
 ],
 "metadata": {
  "kernelspec": {
   "display_name": "Python [conda env:base] *",
   "language": "python",
   "name": "conda-base-py"
  },
  "language_info": {
   "codemirror_mode": {
    "name": "ipython",
    "version": 3
   },
   "file_extension": ".py",
   "mimetype": "text/x-python",
   "name": "python",
   "nbconvert_exporter": "python",
   "pygments_lexer": "ipython3",
   "version": "3.11.5"
  }
 },
 "nbformat": 4,
 "nbformat_minor": 5
}
