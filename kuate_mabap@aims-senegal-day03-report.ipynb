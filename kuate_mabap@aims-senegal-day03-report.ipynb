{
 "cells": [
  {
   "cell_type": "markdown",
   "id": "f557db52",
   "metadata": {},
   "source": [
    "## Exercise 1:"
   ]
  },
  {
   "cell_type": "code",
   "execution_count": 4,
   "id": "0181c5ff",
   "metadata": {},
   "outputs": [
    {
     "data": {
      "text/plain": [
       "10"
      ]
     },
     "execution_count": 4,
     "metadata": {},
     "output_type": "execute_result"
    }
   ],
   "source": [
    "x = 10\n",
    "x"
   ]
  },
  {
   "cell_type": "markdown",
   "id": "a2f72487",
   "metadata": {},
   "source": [
    "## Exercise 2:"
   ]
  },
  {
   "cell_type": "code",
   "execution_count": 5,
   "id": "ad6fcb72",
   "metadata": {},
   "outputs": [
    {
     "data": {
      "text/plain": [
       "True"
      ]
     },
     "execution_count": 5,
     "metadata": {},
     "output_type": "execute_result"
    }
   ],
   "source": [
    "is_valid = True\n",
    "is_valid"
   ]
  },
  {
   "cell_type": "markdown",
   "id": "11aba367",
   "metadata": {},
   "source": [
    "## Exercise 3:"
   ]
  },
  {
   "cell_type": "code",
   "execution_count": 6,
   "id": "0d4c5157",
   "metadata": {},
   "outputs": [
    {
     "data": {
      "text/plain": [
       "'Python Programming'"
      ]
     },
     "execution_count": 6,
     "metadata": {},
     "output_type": "execute_result"
    }
   ],
   "source": [
    "name = \"Python Programming\"\n",
    "name"
   ]
  },
  {
   "cell_type": "markdown",
   "id": "0553c78b",
   "metadata": {},
   "source": [
    "## Exercise 4:"
   ]
  },
  {
   "cell_type": "code",
   "execution_count": 7,
   "id": "d38c83a3",
   "metadata": {},
   "outputs": [
    {
     "data": {
      "text/plain": [
       "8"
      ]
     },
     "execution_count": 7,
     "metadata": {},
     "output_type": "execute_result"
    }
   ],
   "source": [
    "sum_result = 5 + 3\n",
    "sum_result"
   ]
  },
  {
   "cell_type": "markdown",
   "id": "ac0f2403",
   "metadata": {},
   "source": [
    "## Exercise 5:"
   ]
  },
  {
   "cell_type": "code",
   "execution_count": 8,
   "id": "0d7756c1",
   "metadata": {},
   "outputs": [
    {
     "data": {
      "text/plain": [
       "750"
      ]
     },
     "execution_count": 8,
     "metadata": {},
     "output_type": "execute_result"
    }
   ],
   "source": [
    "a, b, c = 5, 10, 15\n",
    "\n",
    "a * b * c"
   ]
  },
  {
   "cell_type": "markdown",
   "id": "b85c4c4f",
   "metadata": {},
   "source": [
    "## Exercise 6:"
   ]
  },
  {
   "cell_type": "code",
   "execution_count": 9,
   "id": "cfa38690",
   "metadata": {},
   "outputs": [
    {
     "data": {
      "text/plain": [
       "10"
      ]
     },
     "execution_count": 9,
     "metadata": {},
     "output_type": "execute_result"
    }
   ],
   "source": [
    "y = x\n",
    "y"
   ]
  },
  {
   "cell_type": "markdown",
   "id": "5506ce45",
   "metadata": {},
   "source": [
    "## Exercise 7:"
   ]
  },
  {
   "cell_type": "code",
   "execution_count": 10,
   "id": "e491ee3c",
   "metadata": {},
   "outputs": [
    {
     "data": {
      "text/plain": [
       "9.8"
      ]
     },
     "execution_count": 10,
     "metadata": {},
     "output_type": "execute_result"
    }
   ],
   "source": [
    "gravity = 9.8\n",
    "gravity"
   ]
  },
  {
   "cell_type": "markdown",
   "id": "17a5a4dc",
   "metadata": {},
   "source": [
    "## Exercise 8:"
   ]
  },
  {
   "cell_type": "code",
   "execution_count": 11,
   "id": "2f88a30e",
   "metadata": {},
   "outputs": [
    {
     "data": {
      "text/plain": [
       "'CAMEROON'"
      ]
     },
     "execution_count": 11,
     "metadata": {},
     "output_type": "execute_result"
    }
   ],
   "source": [
    "country = \"CAMEROON\"\n",
    "country"
   ]
  },
  {
   "cell_type": "markdown",
   "id": "765626a8",
   "metadata": {},
   "source": [
    "## Exercise 9:"
   ]
  },
  {
   "cell_type": "code",
   "execution_count": 12,
   "id": "c057efa4",
   "metadata": {},
   "outputs": [
    {
     "data": {
      "text/plain": [
       "26"
      ]
     },
     "execution_count": 12,
     "metadata": {},
     "output_type": "execute_result"
    }
   ],
   "source": [
    "age = 25\n",
    "\n",
    "age = 26\n",
    "\n",
    "age"
   ]
  },
  {
   "cell_type": "markdown",
   "id": "6abef689",
   "metadata": {},
   "source": [
    "## Exercise 10:"
   ]
  },
  {
   "cell_type": "code",
   "execution_count": 13,
   "id": "59a6a8a6",
   "metadata": {},
   "outputs": [
    {
     "data": {
      "text/plain": [
       "13"
      ]
     },
     "execution_count": 13,
     "metadata": {},
     "output_type": "execute_result"
    }
   ],
   "source": [
    "s = 20 - 7\n",
    "s"
   ]
  },
  {
   "cell_type": "markdown",
   "id": "0908f2ba",
   "metadata": {},
   "source": [
    "## Exercise 11:"
   ]
  },
  {
   "cell_type": "code",
   "execution_count": 14,
   "id": "863d3c9b",
   "metadata": {},
   "outputs": [
    {
     "name": "stdout",
     "output_type": "stream",
     "text": [
      "5 7.8\n"
     ]
    }
   ],
   "source": [
    "a, b = 5, 7.8\n",
    "print(a, b)"
   ]
  },
  {
   "cell_type": "markdown",
   "id": "fa5c54f2",
   "metadata": {},
   "source": [
    "## Exercise 12:"
   ]
  },
  {
   "cell_type": "code",
   "execution_count": 15,
   "id": "5b19f0b2",
   "metadata": {},
   "outputs": [
    {
     "data": {
      "text/plain": [
       "False"
      ]
     },
     "execution_count": 15,
     "metadata": {},
     "output_type": "execute_result"
    }
   ],
   "source": [
    "is_completed = False\n",
    "is_completed"
   ]
  },
  {
   "cell_type": "markdown",
   "id": "8221ccab",
   "metadata": {},
   "source": [
    "## Exercise 13:"
   ]
  },
  {
   "cell_type": "code",
   "execution_count": 19,
   "id": "bcfe8084",
   "metadata": {},
   "outputs": [
    {
     "name": "stdout",
     "output_type": "stream",
     "text": [
      "9.67 6\n"
     ]
    }
   ],
   "source": [
    "x, y = 6, 9.67\n",
    "\n",
    "x, y = y, x\n",
    "\n",
    "print(x, y)\n"
   ]
  },
  {
   "cell_type": "markdown",
   "id": "c5df8cad",
   "metadata": {},
   "source": [
    "## Exercise 14:"
   ]
  },
  {
   "cell_type": "code",
   "execution_count": 20,
   "id": "61c6dab5",
   "metadata": {},
   "outputs": [
    {
     "data": {
      "text/plain": [
       "(3+4j)"
      ]
     },
     "execution_count": 20,
     "metadata": {},
     "output_type": "execute_result"
    }
   ],
   "source": [
    "complex_num = complex(3, 4)\n",
    "complex_num"
   ]
  },
  {
   "cell_type": "markdown",
   "id": "9231184a",
   "metadata": {},
   "source": [
    "## Exercise 15:"
   ]
  },
  {
   "cell_type": "code",
   "execution_count": 21,
   "id": "475b7b14",
   "metadata": {},
   "outputs": [
    {
     "data": {
      "text/plain": [
       "'56'"
      ]
     },
     "execution_count": 21,
     "metadata": {},
     "output_type": "execute_result"
    }
   ],
   "source": [
    "x = 56\n",
    "\n",
    "x = str(x)\n",
    "x"
   ]
  },
  {
   "cell_type": "markdown",
   "id": "9f2a910c",
   "metadata": {},
   "source": [
    "## Exercise 16:"
   ]
  },
  {
   "cell_type": "code",
   "execution_count": 22,
   "id": "b622fb13",
   "metadata": {},
   "outputs": [
    {
     "name": "stdout",
     "output_type": "stream",
     "text": [
      "thierry kuate mabap\n"
     ]
    }
   ],
   "source": [
    "first_name = \"thierry\"\n",
    "last_name = \"kuate mabap\"\n",
    "\n",
    "print(first_name, last_name)"
   ]
  },
  {
   "cell_type": "markdown",
   "id": "60497252",
   "metadata": {},
   "source": [
    "## Exercise 17:"
   ]
  },
  {
   "cell_type": "code",
   "execution_count": 23,
   "id": "0fc53e69",
   "metadata": {},
   "outputs": [
    {
     "data": {
      "text/plain": [
       "35.5"
      ]
     },
     "execution_count": 23,
     "metadata": {},
     "output_type": "execute_result"
    }
   ],
   "source": [
    "temperature = 35.5\n",
    "temperature"
   ]
  },
  {
   "cell_type": "markdown",
   "id": "b706b6d8",
   "metadata": {},
   "source": [
    "## Exercise 18:"
   ]
  },
  {
   "cell_type": "code",
   "execution_count": 24,
   "id": "5a750267",
   "metadata": {},
   "outputs": [
    {
     "data": {
      "text/plain": [
       "48"
      ]
     },
     "execution_count": 24,
     "metadata": {},
     "output_type": "execute_result"
    }
   ],
   "source": [
    "product = 8 * 6\n",
    "product"
   ]
  },
  {
   "cell_type": "markdown",
   "id": "fb24a551",
   "metadata": {},
   "source": [
    "## Exercise 19:"
   ]
  },
  {
   "cell_type": "code",
   "execution_count": 25,
   "id": "68b8afd7",
   "metadata": {},
   "outputs": [
    {
     "data": {
      "text/plain": [
       "\"I'm student in AIMS SENEGAL.\""
      ]
     },
     "execution_count": 25,
     "metadata": {},
     "output_type": "execute_result"
    }
   ],
   "source": [
    "sentence = \"I'm student in AIMS SENEGAL.\"\n",
    "sentence"
   ]
  },
  {
   "cell_type": "markdown",
   "id": "359d7913",
   "metadata": {},
   "source": [
    "## Exercise 20:"
   ]
  },
  {
   "cell_type": "code",
   "execution_count": 30,
   "id": "529c340a",
   "metadata": {},
   "outputs": [
    {
     "name": "stdout",
     "output_type": "stream",
     "text": [
      "50 <class 'int'>\n"
     ]
    }
   ],
   "source": [
    "a = \"50\"\n",
    "int_value = int(a)\n",
    "print(int_value, type(int_value))"
   ]
  },
  {
   "cell_type": "markdown",
   "id": "90db1d55",
   "metadata": {},
   "source": [
    "## Exercise 21:"
   ]
  },
  {
   "cell_type": "code",
   "execution_count": 32,
   "id": "4f700782",
   "metadata": {},
   "outputs": [
    {
     "data": {
      "text/plain": [
       "12.0"
      ]
     },
     "execution_count": 32,
     "metadata": {},
     "output_type": "execute_result"
    }
   ],
   "source": [
    "quotient = 144 / 12\n",
    "quotient"
   ]
  },
  {
   "cell_type": "markdown",
   "id": "84ab324d",
   "metadata": {},
   "source": [
    "## Exercise 22:"
   ]
  },
  {
   "cell_type": "code",
   "execution_count": 33,
   "id": "08bd381c",
   "metadata": {},
   "outputs": [
    {
     "data": {
      "text/plain": [
       "2"
      ]
     },
     "execution_count": 33,
     "metadata": {},
     "output_type": "execute_result"
    }
   ],
   "source": [
    "remainder = 47 % 5\n",
    "remainder"
   ]
  },
  {
   "cell_type": "markdown",
   "id": "96d3f0ab",
   "metadata": {},
   "source": [
    "## Exercise 23:"
   ]
  },
  {
   "cell_type": "code",
   "execution_count": 34,
   "id": "209115bd",
   "metadata": {},
   "outputs": [
    {
     "data": {
      "text/plain": [
       "True"
      ]
     },
     "execution_count": 34,
     "metadata": {},
     "output_type": "execute_result"
    }
   ],
   "source": [
    "is_student = True\n",
    "is_student"
   ]
  },
  {
   "cell_type": "markdown",
   "id": "14c2c495",
   "metadata": {},
   "source": [
    "## Exercise 24:"
   ]
  },
  {
   "cell_type": "code",
   "execution_count": 35,
   "id": "1a79dfdf",
   "metadata": {},
   "outputs": [
    {
     "data": {
      "text/plain": [
       "1"
      ]
     },
     "execution_count": 35,
     "metadata": {},
     "output_type": "execute_result"
    }
   ],
   "source": [
    "a = 45 % 4\n",
    "a"
   ]
  },
  {
   "cell_type": "markdown",
   "id": "627f6ce4",
   "metadata": {},
   "source": [
    "## Exercise 25:"
   ]
  },
  {
   "cell_type": "code",
   "execution_count": 36,
   "id": "f56ccfb3",
   "metadata": {},
   "outputs": [
    {
     "data": {
      "text/plain": [
       "3.14159"
      ]
     },
     "execution_count": 36,
     "metadata": {},
     "output_type": "execute_result"
    }
   ],
   "source": [
    "pi = 3.14159\n",
    "pi"
   ]
  },
  {
   "cell_type": "markdown",
   "id": "fbb05555",
   "metadata": {},
   "source": [
    "## Exercise 26:"
   ]
  },
  {
   "cell_type": "code",
   "execution_count": 37,
   "id": "0bb02a9d",
   "metadata": {},
   "outputs": [
    {
     "data": {
      "text/plain": [
       "60"
      ]
     },
     "execution_count": 37,
     "metadata": {},
     "output_type": "execute_result"
    }
   ],
   "source": [
    "length = 12\n",
    "width = 5\n",
    "\n",
    "area_rectangle = length * width\n",
    "area_rectangle"
   ]
  },
  {
   "cell_type": "markdown",
   "id": "d3b78299",
   "metadata": {},
   "source": [
    "## Exercise 27:"
   ]
  },
  {
   "cell_type": "code",
   "execution_count": 38,
   "id": "c456b04c",
   "metadata": {},
   "outputs": [
    {
     "data": {
      "text/plain": [
       "-3"
      ]
     },
     "execution_count": 38,
     "metadata": {},
     "output_type": "execute_result"
    }
   ],
   "source": [
    "negative_value = -3\n",
    "negative_value"
   ]
  },
  {
   "cell_type": "markdown",
   "id": "490bf897",
   "metadata": {},
   "source": [
    "## Exercise 28:"
   ]
  },
  {
   "cell_type": "code",
   "execution_count": 39,
   "id": "0535ccd2",
   "metadata": {},
   "outputs": [
    {
     "data": {
      "text/plain": [
       "'Hello, World!'"
      ]
     },
     "execution_count": 39,
     "metadata": {},
     "output_type": "execute_result"
    }
   ],
   "source": [
    "greeting = \"Hello, World!\"\n",
    "greeting"
   ]
  },
  {
   "cell_type": "markdown",
   "id": "9f55905a",
   "metadata": {},
   "source": [
    "## Exercise 29:"
   ]
  },
  {
   "cell_type": "code",
   "execution_count": 40,
   "id": "80c33092",
   "metadata": {},
   "outputs": [
    {
     "data": {
      "text/plain": [
       "25000000"
      ]
     },
     "execution_count": 40,
     "metadata": {},
     "output_type": "execute_result"
    }
   ],
   "source": [
    "population = 25000000\n",
    "population"
   ]
  },
  {
   "cell_type": "markdown",
   "id": "5a2ac1e2",
   "metadata": {},
   "source": [
    "## Exercise 30:"
   ]
  },
  {
   "cell_type": "code",
   "execution_count": 41,
   "id": "78ce4adc",
   "metadata": {},
   "outputs": [
    {
     "data": {
      "text/plain": [
       "256"
      ]
     },
     "execution_count": 41,
     "metadata": {},
     "output_type": "execute_result"
    }
   ],
   "source": [
    "a = 2 ** 8\n",
    "a"
   ]
  },
  {
   "cell_type": "markdown",
   "id": "81afea15",
   "metadata": {},
   "source": [
    "## Exercise 31:"
   ]
  },
  {
   "cell_type": "code",
   "execution_count": 42,
   "id": "e266d38b",
   "metadata": {},
   "outputs": [
    {
     "data": {
      "text/plain": [
       "['orange', 'banana', 'apple']"
      ]
     },
     "execution_count": 42,
     "metadata": {},
     "output_type": "execute_result"
    }
   ],
   "source": [
    "fruits = [\"orange\", \"banana\", \"apple\"]\n",
    "fruits"
   ]
  },
  {
   "cell_type": "markdown",
   "id": "53298240",
   "metadata": {},
   "source": [
    "## Exercise 32:"
   ]
  },
  {
   "cell_type": "code",
   "execution_count": 43,
   "id": "7b8a5704",
   "metadata": {},
   "outputs": [
    {
     "data": {
      "text/plain": [
       "(2, 5, 7)"
      ]
     },
     "execution_count": 43,
     "metadata": {},
     "output_type": "execute_result"
    }
   ],
   "source": [
    "coordinates = (2, 5, 7)\n",
    "coordinates"
   ]
  },
  {
   "cell_type": "markdown",
   "id": "188286e1",
   "metadata": {},
   "source": [
    "## Execise 33:"
   ]
  },
  {
   "cell_type": "code",
   "execution_count": 45,
   "id": "bcac478a",
   "metadata": {},
   "outputs": [
    {
     "data": {
      "text/plain": [
       "{'kuate': 12, 'mareme': 13, 'tikome': 10, 'thierry': 55}"
      ]
     },
     "execution_count": 45,
     "metadata": {},
     "output_type": "execute_result"
    }
   ],
   "source": [
    "person = {\n",
    "    \"kuate\" : 12, \"mareme\" : 13, \"tikome\" : 10, \"thierry\" : 55\n",
    "}\n",
    "person"
   ]
  },
  {
   "cell_type": "markdown",
   "id": "53040c51",
   "metadata": {},
   "source": [
    "## Exercise 34:"
   ]
  },
  {
   "cell_type": "code",
   "execution_count": 46,
   "id": "b670f611",
   "metadata": {},
   "outputs": [
    {
     "data": {
      "text/plain": [
       "7.95"
      ]
     },
     "execution_count": 46,
     "metadata": {},
     "output_type": "execute_result"
    }
   ],
   "source": [
    "a = 3.45 + 4.5\n",
    "a"
   ]
  },
  {
   "cell_type": "markdown",
   "id": "44ca1a4a",
   "metadata": {},
   "source": [
    "## Exercise 35:"
   ]
  },
  {
   "cell_type": "code",
   "execution_count": 47,
   "id": "ce441e04",
   "metadata": {},
   "outputs": [
    {
     "data": {
      "text/plain": [
       "True"
      ]
     },
     "execution_count": 47,
     "metadata": {},
     "output_type": "execute_result"
    }
   ],
   "source": [
    "is_sunny = 10 > 5\n",
    "is_sunny"
   ]
  },
  {
   "cell_type": "markdown",
   "id": "c2528875",
   "metadata": {},
   "source": [
    "## Exercise 36:"
   ]
  },
  {
   "cell_type": "code",
   "execution_count": 48,
   "id": "c3cb3061",
   "metadata": {},
   "outputs": [
    {
     "name": "stdout",
     "output_type": "stream",
     "text": [
      "3 thierry\n"
     ]
    }
   ],
   "source": [
    "a, name = 3, \"thierry\"\n",
    "print(a, name)"
   ]
  },
  {
   "cell_type": "markdown",
   "id": "d509a7d4",
   "metadata": {},
   "source": [
    "## Exercise 37:"
   ]
  },
  {
   "cell_type": "code",
   "execution_count": 49,
   "id": "9ccb29f7",
   "metadata": {},
   "outputs": [
    {
     "data": {
      "text/plain": [
       "False"
      ]
     },
     "execution_count": 49,
     "metadata": {},
     "output_type": "execute_result"
    }
   ],
   "source": [
    "a = 60\n",
    "a = a == 0\n",
    "a"
   ]
  },
  {
   "cell_type": "markdown",
   "id": "6f410388",
   "metadata": {},
   "source": [
    "## Exercise 38:"
   ]
  },
  {
   "cell_type": "code",
   "execution_count": 50,
   "id": "6758fa52",
   "metadata": {},
   "outputs": [
    {
     "data": {
      "text/plain": [
       "False"
      ]
     },
     "execution_count": 50,
     "metadata": {},
     "output_type": "execute_result"
    }
   ],
   "source": [
    "is_weekend = False\n",
    "is_weekend"
   ]
  },
  {
   "cell_type": "markdown",
   "id": "3e087808",
   "metadata": {},
   "source": [
    "## Exercise 39:"
   ]
  },
  {
   "cell_type": "code",
   "execution_count": 53,
   "id": "d33f825d",
   "metadata": {},
   "outputs": [
    {
     "data": {
      "text/plain": [
       "' I am a student in AIMS SENEGAL. \\nEvery day, I improve my english. \\nWhat how you doing on my computer? \\nI am writing a python code.'"
      ]
     },
     "execution_count": 53,
     "metadata": {},
     "output_type": "execute_result"
    }
   ],
   "source": [
    "description = ''' I am a student in AIMS SENEGAL. \n",
    "Every day, I improve my english. \n",
    "What how you doing on my computer? \n",
    "I am writing a python code.'''\n",
    "description"
   ]
  },
  {
   "cell_type": "markdown",
   "id": "f639a90c",
   "metadata": {},
   "source": [
    "## Exercise 40:"
   ]
  },
  {
   "cell_type": "code",
   "execution_count": 54,
   "id": "d7dac1d7",
   "metadata": {},
   "outputs": [
    {
     "data": {
      "text/plain": [
       "25"
      ]
     },
     "execution_count": 54,
     "metadata": {},
     "output_type": "execute_result"
    }
   ],
   "source": [
    "a = abs(-25)\n",
    "a"
   ]
  },
  {
   "cell_type": "markdown",
   "id": "a44a6013",
   "metadata": {},
   "source": [
    "## Exercise 41:"
   ]
  },
  {
   "cell_type": "code",
   "execution_count": 55,
   "id": "74e0d665",
   "metadata": {},
   "outputs": [
    {
     "data": {
      "text/plain": [
       "16"
      ]
     },
     "execution_count": 55,
     "metadata": {},
     "output_type": "execute_result"
    }
   ],
   "source": [
    "floor_div_result = 100 // 6\n",
    "floor_div_result"
   ]
  },
  {
   "cell_type": "markdown",
   "id": "87ea9a05",
   "metadata": {},
   "source": [
    "## Exercise 42:"
   ]
  },
  {
   "cell_type": "code",
   "execution_count": 56,
   "id": "1a21d6b2",
   "metadata": {},
   "outputs": [
    {
     "data": {
      "text/plain": [
       "59.56"
      ]
     },
     "execution_count": 56,
     "metadata": {},
     "output_type": "execute_result"
    }
   ],
   "source": [
    "mixed_sum = 5.56 + 54\n",
    "mixed_sum"
   ]
  },
  {
   "cell_type": "markdown",
   "id": "7c3efb05",
   "metadata": {},
   "source": [
    "## Exercise 43:"
   ]
  },
  {
   "cell_type": "code",
   "execution_count": 57,
   "id": "01f4ae88",
   "metadata": {},
   "outputs": [
    {
     "data": {
      "text/plain": [
       "True"
      ]
     },
     "execution_count": 57,
     "metadata": {},
     "output_type": "execute_result"
    }
   ],
   "source": [
    "a,b = 10, 15\n",
    "c = a < b\n",
    "c"
   ]
  },
  {
   "cell_type": "markdown",
   "id": "535838b4",
   "metadata": {},
   "source": [
    "## Exercise 44:"
   ]
  },
  {
   "cell_type": "code",
   "execution_count": 58,
   "id": "a04a54d5",
   "metadata": {},
   "outputs": [
    {
     "data": {
      "text/plain": [
       "69"
      ]
     },
     "execution_count": 58,
     "metadata": {},
     "output_type": "execute_result"
    }
   ],
   "source": [
    "Welcome = \"I am coming. So don't worry mun. Today, I will cook a rice with mean.\"\n",
    "long = len(Welcome)\n",
    "long"
   ]
  },
  {
   "cell_type": "markdown",
   "id": "2404b01f",
   "metadata": {},
   "source": [
    "## Exercise 45:  "
   ]
  },
  {
   "cell_type": "code",
   "execution_count": 59,
   "id": "1cf0219b",
   "metadata": {},
   "outputs": [
    {
     "data": {
      "text/plain": [
       "2.3333333333333335"
      ]
     },
     "execution_count": 59,
     "metadata": {},
     "output_type": "execute_result"
    }
   ],
   "source": [
    "division_result = 7 / 3\n",
    "division_result"
   ]
  },
  {
   "cell_type": "markdown",
   "id": "33d88076",
   "metadata": {},
   "source": [
    "## Exercise 46:"
   ]
  },
  {
   "cell_type": "code",
   "execution_count": 62,
   "id": "1a6f813e",
   "metadata": {},
   "outputs": [
    {
     "data": {
      "text/plain": [
       "20.0"
      ]
     },
     "execution_count": 62,
     "metadata": {},
     "output_type": "execute_result"
    }
   ],
   "source": [
    "distant_kilometers = 100\n",
    "time = 5\n",
    "\n",
    "speed = distant_kilometers / time\n",
    "\n",
    "speed\n",
    " "
   ]
  },
  {
   "cell_type": "markdown",
   "id": "3316c7ce",
   "metadata": {},
   "source": [
    "## Exercise 47:"
   ]
  },
  {
   "cell_type": "code",
   "execution_count": 63,
   "id": "bb410d31",
   "metadata": {},
   "outputs": [
    {
     "data": {
      "text/plain": [
       "17"
      ]
     },
     "execution_count": 63,
     "metadata": {},
     "output_type": "execute_result"
    }
   ],
   "source": [
    "x = 4\n",
    "y = 3 * x + 5\n",
    "y"
   ]
  },
  {
   "cell_type": "markdown",
   "id": "240268d1",
   "metadata": {},
   "source": [
    "## Exercise 48:"
   ]
  },
  {
   "cell_type": "code",
   "execution_count": 64,
   "id": "8f639ba4",
   "metadata": {},
   "outputs": [
    {
     "data": {
      "text/plain": [
       "120.0"
      ]
     },
     "execution_count": 64,
     "metadata": {},
     "output_type": "execute_result"
    }
   ],
   "source": [
    "a, b, c = 5, 8, 9\n",
    "\n",
    "average = (a * b * c) / 3\n",
    "\n",
    "average\n"
   ]
  },
  {
   "cell_type": "code",
   "execution_count": null,
   "id": "f45af7a3",
   "metadata": {},
   "outputs": [],
   "source": []
  }
 ],
 "metadata": {
  "kernelspec": {
   "display_name": "Python 3 (ipykernel)",
   "language": "python",
   "name": "python3"
  },
  "language_info": {
   "codemirror_mode": {
    "name": "ipython",
    "version": 3
   },
   "file_extension": ".py",
   "mimetype": "text/x-python",
   "name": "python",
   "nbconvert_exporter": "python",
   "pygments_lexer": "ipython3",
   "version": "3.10.12"
  }
 },
 "nbformat": 4,
 "nbformat_minor": 5
}
