{
 "cells": [
  {
   "cell_type": "markdown",
   "id": "7d50f664-50f5-42c9-a743-c47da4f871d2",
   "metadata": {},
   "source": [
    "## Exercise 1:"
   ]
  },
  {
   "cell_type": "code",
   "execution_count": 1,
   "id": "40b41261-b2b3-4d54-b840-aaa5ab01515e",
   "metadata": {},
   "outputs": [
    {
     "name": "stdin",
     "output_type": "stream",
     "text": [
      "Enter a number:  0\n"
     ]
    },
    {
     "name": "stdout",
     "output_type": "stream",
     "text": [
      "The number is zero.\n"
     ]
    }
   ],
   "source": [
    "num = float(input(\"Enter a number: \"))\n",
    "\n",
    "if num > 0:\n",
    "    print(\"The number is positive.\")\n",
    "elif num < 0:\n",
    "    print(\"The number is negative.\")\n",
    "else:\n",
    "    print(\"The number is zero.\")\n"
   ]
  },
  {
   "cell_type": "markdown",
   "id": "f7ab076e-26db-45d5-bc43-d7cc890858a5",
   "metadata": {},
   "source": [
    "## Exercise 2:"
   ]
  },
  {
   "cell_type": "code",
   "execution_count": 2,
   "id": "058ef789-12cb-47e1-ac43-d946d90d5259",
   "metadata": {},
   "outputs": [
    {
     "name": "stdin",
     "output_type": "stream",
     "text": [
      "Enter a word:  bwehbfiue\n"
     ]
    },
    {
     "name": "stdout",
     "output_type": "stream",
     "text": [
      "The word does not start with a vowel.\n"
     ]
    }
   ],
   "source": [
    "def starts_with_vowel(s):\n",
    "    if s and s[0].lower() in 'aeiou':\n",
    "        return True\n",
    "    else:\n",
    "        return False\n",
    "        \n",
    "word = input(\"Enter a word: \")\n",
    "if starts_with_vowel(word):\n",
    "    print(\"The word starts with a vowel.\")\n",
    "else:\n",
    "    print(\"The word does not start with a vowel.\")\n"
   ]
  },
  {
   "cell_type": "markdown",
   "id": "a6ccb5a7-4d71-4f9c-98a2-2f24dd7483b6",
   "metadata": {},
   "source": [
    "## Exercise 3:"
   ]
  },
  {
   "cell_type": "code",
   "execution_count": 4,
   "id": "4c7bdd20-d490-42cf-ba71-db7b72ac4718",
   "metadata": {},
   "outputs": [
    {
     "name": "stdout",
     "output_type": "stream",
     "text": [
      "1 is Odd\n",
      "2 is Even\n",
      "3 is Odd\n",
      "4 is Even\n",
      "5 is Odd\n",
      "6 is Even\n"
     ]
    }
   ],
   "source": [
    "numbers = [1, 2, 3, 4, 5, 6]\n",
    "\n",
    "for num in numbers:\n",
    "    if num % 2 == 0:\n",
    "        print(f\"{num} is Even\")\n",
    "    else:\n",
    "        print(f\"{num} is Odd\")\n"
   ]
  },
  {
   "cell_type": "markdown",
   "id": "a910e771-16b7-499c-9b5d-1dfdc6fb7dfa",
   "metadata": {},
   "source": [
    "## Exercise 4:"
   ]
  },
  {
   "cell_type": "code",
   "execution_count": 5,
   "id": "663fb02a-31a5-44a4-812f-a355a53590b0",
   "metadata": {},
   "outputs": [
    {
     "name": "stdin",
     "output_type": "stream",
     "text": [
      "Enter a year:  4546\n"
     ]
    },
    {
     "name": "stdout",
     "output_type": "stream",
     "text": [
      "4546 is not a leap year.\n"
     ]
    }
   ],
   "source": [
    "year = int(input(\"Enter a year: \"))\n",
    "\n",
    "if (year % 4 == 0 and year % 100 != 0) or (year % 400 == 0):\n",
    "    print(f\"{year} is a leap year.\")\n",
    "else:\n",
    "    print(f\"{year} is not a leap year.\")\n"
   ]
  },
  {
   "cell_type": "markdown",
   "id": "8c35aa37-a293-45b0-b4cb-5d772fd54dd4",
   "metadata": {},
   "source": [
    "## Exercise 5:"
   ]
  },
  {
   "cell_type": "code",
   "execution_count": 6,
   "id": "51f5130a-f347-4cb3-bec7-e139a50d36b7",
   "metadata": {},
   "outputs": [
    {
     "name": "stdin",
     "output_type": "stream",
     "text": [
      "Enter a number:  5654\n"
     ]
    },
    {
     "name": "stdout",
     "output_type": "stream",
     "text": [
      "5654 is not divisible by both 3 and 5.\n"
     ]
    }
   ],
   "source": [
    "def divisible_by_3_and_5(num):\n",
    "    if num % 3 == 0 and num % 5 == 0:\n",
    "        return True\n",
    "    else:\n",
    "        return False\n",
    "\n",
    "number = int(input(\"Enter a number: \"))\n",
    "if divisible_by_3_and_5(number):\n",
    "    print(f\"{number} is divisible by both 3 and 5.\")\n",
    "else:\n",
    "    print(f\"{number} is not divisible by both 3 and 5.\")\n"
   ]
  },
  {
   "cell_type": "markdown",
   "id": "31a372e7-f515-430c-bade-9957cbc0a46e",
   "metadata": {},
   "source": [
    "## Exercise 6:"
   ]
  },
  {
   "cell_type": "code",
   "execution_count": 7,
   "id": "f905d30b-f520-40c7-8825-e2abf34dd6c0",
   "metadata": {},
   "outputs": [
    {
     "name": "stdin",
     "output_type": "stream",
     "text": [
      "Enter the temperature in °C:  56\n"
     ]
    },
    {
     "name": "stdout",
     "output_type": "stream",
     "text": [
      "Hot\n"
     ]
    }
   ],
   "source": [
    "temperature = float(input(\"Enter the temperature in °C: \"))\n",
    "\n",
    "if temperature > 30:\n",
    "    print(\"Hot\")\n",
    "elif 15 <= temperature <= 30:\n",
    "    print(\"Warm\")\n",
    "else:\n",
    "    print(\"Cold\")\n"
   ]
  },
  {
   "cell_type": "markdown",
   "id": "c2b647c8-26ad-426e-8db8-3b14cf828d31",
   "metadata": {},
   "source": [
    "## Exercise 7:"
   ]
  },
  {
   "cell_type": "code",
   "execution_count": 8,
   "id": "36eaaeff-0508-4193-bd04-192946afab23",
   "metadata": {},
   "outputs": [
    {
     "name": "stdin",
     "output_type": "stream",
     "text": [
      "Enter a string:  tfsadsj\n"
     ]
    },
    {
     "name": "stdout",
     "output_type": "stream",
     "text": [
      "The string contains the letter 'a'.\n"
     ]
    }
   ],
   "source": [
    "text = input(\"Enter a string: \")\n",
    "\n",
    "if 'a' in text:\n",
    "    print(\"The string contains the letter 'a'.\")\n",
    "else:\n",
    "    print(\"The string does not contain the letter 'a'.\")\n"
   ]
  },
  {
   "cell_type": "markdown",
   "id": "f5a33c4e-1121-469d-abff-1e1bf90c81be",
   "metadata": {},
   "source": [
    "## Exercise 8:"
   ]
  },
  {
   "cell_type": "code",
   "execution_count": 9,
   "id": "68d832b0-edb2-4731-b56e-d4d26633e489",
   "metadata": {},
   "outputs": [
    {
     "name": "stdin",
     "output_type": "stream",
     "text": [
      "Enter the first number:  4\n",
      "Enter the second number:  6\n"
     ]
    },
    {
     "name": "stdout",
     "output_type": "stream",
     "text": [
      "6.0 is larger than 4.0.\n"
     ]
    }
   ],
   "source": [
    "def compare_numbers(a, b):\n",
    "    if a == b:\n",
    "        print(\"Both numbers are equal.\")\n",
    "    elif a > b:\n",
    "        print(f\"{a} is larger than {b}.\")\n",
    "    else:\n",
    "        print(f\"{b} is larger than {a}.\")\n",
    "\n",
    "num1 = float(input(\"Enter the first number: \"))\n",
    "num2 = float(input(\"Enter the second number: \"))\n",
    "\n",
    "compare_numbers(num1, num2)\n"
   ]
  },
  {
   "cell_type": "markdown",
   "id": "ef7d691f-3bb5-418e-b68b-fb6393775a95",
   "metadata": {},
   "source": [
    "## Exercise 9:"
   ]
  },
  {
   "cell_type": "code",
   "execution_count": 13,
   "id": "2d866a28-bc00-4036-800f-f85962d13817",
   "metadata": {},
   "outputs": [
    {
     "name": "stdout",
     "output_type": "stream",
     "text": [
      "The list is empty.\n"
     ]
    }
   ],
   "source": [
    "my_list = []\n",
    "\n",
    "if not my_list:\n",
    "    print(\"The list is empty.\")\n",
    "else:\n",
    "    print(\"The list is not empty.\")\n"
   ]
  },
  {
   "cell_type": "markdown",
   "id": "f3c5c65d-5cfb-4caf-9eac-c3f733b86a5c",
   "metadata": {},
   "source": [
    "## Exercise 10:"
   ]
  },
  {
   "cell_type": "code",
   "execution_count": 14,
   "id": "47f97e40-45d0-4176-9053-fac84be32d18",
   "metadata": {},
   "outputs": [
    {
     "name": "stdin",
     "output_type": "stream",
     "text": [
      "Enter the first string:  agtr\n",
      "Enter the second string:  tsgg\n"
     ]
    },
    {
     "name": "stdout",
     "output_type": "stream",
     "text": [
      "The strings are not anagrams.\n"
     ]
    }
   ],
   "source": [
    "def are_anagrams(str1, str2):\n",
    "    str1 = str1.replace(\" \", \"\").lower()\n",
    "    str2 = str2.replace(\" \", \"\").lower()\n",
    "\n",
    "    return sorted(str1) == sorted(str2)\n",
    "\n",
    "word1 = input(\"Enter the first string: \")\n",
    "word2 = input(\"Enter the second string: \")\n",
    "\n",
    "if are_anagrams(word1, word2):\n",
    "    print(\"The strings are anagrams.\")\n",
    "else:\n",
    "    print(\"The strings are not anagrams.\")\n"
   ]
  },
  {
   "cell_type": "markdown",
   "id": "7eae82ec-a762-4bec-9492-b1d06df2c13f",
   "metadata": {},
   "source": [
    "## Exercise 11:"
   ]
  },
  {
   "cell_type": "code",
   "execution_count": 18,
   "id": "99e212c0-b185-4e9d-9b30-a37f03d04b96",
   "metadata": {},
   "outputs": [
    {
     "name": "stdin",
     "output_type": "stream",
     "text": [
      "Enter a number:  65\n"
     ]
    },
    {
     "name": "stdout",
     "output_type": "stream",
     "text": [
      "65 is not a\n"
     ]
    }
   ],
   "source": [
    "num = int(input(\"Enter a number: \"))\n",
    "\n",
    "# Prime number check\n",
    "if num <= 1:\n",
    "    print(f\"{num} is not a prime number.\")\n",
    "else:\n",
    "    is_prime = True\n",
    "    for i in range(2, int(num**0.5) + 1):\n",
    "        if num % i == 0:\n",
    "            is_prime = False\n",
    "            break\n",
    "    if is_prime:\n",
    "        print(f\"{num} is a prime number.\")\n",
    "    else:\n",
    "        print(f\"{num} is not a\")\n"
   ]
  },
  {
   "cell_type": "markdown",
   "id": "7151bce5-44b4-4c4f-a53d-9ba1df321d46",
   "metadata": {},
   "source": [
    "## Exercise 12:"
   ]
  },
  {
   "cell_type": "code",
   "execution_count": 19,
   "id": "bf36ad47-08c0-4f40-8f28-fa6ef43d46da",
   "metadata": {},
   "outputs": [
    {
     "name": "stdout",
     "output_type": "stream",
     "text": [
      "The list is sorted in ascending order.\n"
     ]
    }
   ],
   "source": [
    "numbers = [1, 2, 3, 4, 5]\n",
    "\n",
    "is_sorted = all(numbers[i] <= numbers[i+1] for i in range(len(numbers)-1))\n",
    "\n",
    "if is_sorted:\n",
    "    print(\"The list is sorted in ascending order.\")\n"
   ]
  },
  {
   "cell_type": "markdown",
   "id": "82acc96d-20ff-4686-afce-7c22f17992df",
   "metadata": {},
   "source": [
    "## Exercise 13:"
   ]
  },
  {
   "cell_type": "code",
   "execution_count": 20,
   "id": "1fc26bf7-dc95-4482-a0db-02beb6c66b1e",
   "metadata": {},
   "outputs": [
    {
     "name": "stdin",
     "output_type": "stream",
     "text": [
      "Enter a character:  a\n"
     ]
    },
    {
     "name": "stdout",
     "output_type": "stream",
     "text": [
      "'a' is not a digit.\n"
     ]
    }
   ],
   "source": [
    "def is_digit(char):\n",
    "    if char.isdigit():\n",
    "        return True\n",
    "    else:\n",
    "        return False\n",
    "        \n",
    "ch = input(\"Enter a character: \")\n",
    "\n",
    "if is_digit(ch):\n",
    "    print(f\"'{ch}' is a digit.\")\n",
    "else:\n",
    "    print(f\"'{ch}' is not a digit.\")\n"
   ]
  },
  {
   "cell_type": "markdown",
   "id": "b8a0515c-362c-4a47-952d-4dea05347078",
   "metadata": {},
   "source": [
    "## Exercise 14:"
   ]
  },
  {
   "cell_type": "code",
   "execution_count": 21,
   "id": "f147f51b-66f9-435b-86a9-6e1c8346d938",
   "metadata": {},
   "outputs": [
    {
     "name": "stdin",
     "output_type": "stream",
     "text": [
      "Enter a string:  bonjour\n"
     ]
    },
    {
     "name": "stdout",
     "output_type": "stream",
     "text": [
      "The string does not contain only uppercase letters.\n"
     ]
    }
   ],
   "source": [
    "def is_all_uppercase(s):\n",
    "    return s.isupper() and s.isalpha()\n",
    "\n",
    "text = input(\"Enter a string: \")\n",
    "\n",
    "if is_all_uppercase(text):\n",
    "    print(\"The string contains only uppercase letters.\")\n",
    "else:\n",
    "    print(\"The string does not contain only uppercase letters.\")\n"
   ]
  },
  {
   "cell_type": "markdown",
   "id": "12701f18-e70a-4548-a450-436ed6e9b8d3",
   "metadata": {},
   "source": [
    "## Exercise 15:"
   ]
  },
  {
   "cell_type": "code",
   "execution_count": 22,
   "id": "c44c58d8-9aa1-43b5-9371-1455cb442f54",
   "metadata": {},
   "outputs": [
    {
     "name": "stdin",
     "output_type": "stream",
     "text": [
      "Enter a number:  23\n"
     ]
    },
    {
     "name": "stdout",
     "output_type": "stream",
     "text": [
      "23 is not a multiple of 10.\n"
     ]
    }
   ],
   "source": [
    "num = int(input(\"Enter a number: \"))\n",
    "\n",
    "if num % 10 == 0:\n",
    "    print(f\"{num} is a multiple of 10.\")\n",
    "else:\n",
    "    print(f\"{num} is not a multiple of 10.\")\n"
   ]
  },
  {
   "cell_type": "markdown",
   "id": "664941a9-d574-4af9-9430-637d5a037382",
   "metadata": {},
   "source": [
    "## Exercise 16:"
   ]
  },
  {
   "cell_type": "code",
   "execution_count": 23,
   "id": "6115e58d-a87e-4525-b563-ab6e1c394871",
   "metadata": {},
   "outputs": [
    {
     "name": "stdout",
     "output_type": "stream",
     "text": [
      "The list contains duplicates.\n"
     ]
    }
   ],
   "source": [
    "def has_duplicates(lst):\n",
    "    return len(lst) != len(set(lst))\n",
    "\n",
    "numbers = [1, 2, 3, 4, 2]\n",
    "\n",
    "if has_duplicates(numbers):\n",
    "    print(\"The list contains duplicates.\")\n",
    "else:\n",
    "    print(\"The list does not contain duplicates.\")\n"
   ]
  },
  {
   "cell_type": "markdown",
   "id": "8afc6d47-ac6d-462c-a4c5-d5af13fbf108",
   "metadata": {},
   "source": [
    "## Exercise 17:"
   ]
  },
  {
   "cell_type": "code",
   "execution_count": 24,
   "id": "0c7ed293-645f-48a2-88f2-435a8e7a4283",
   "metadata": {},
   "outputs": [
    {
     "name": "stdin",
     "output_type": "stream",
     "text": [
      "Enter your age:  24\n"
     ]
    },
    {
     "name": "stdout",
     "output_type": "stream",
     "text": [
      "Not a teenager.\n"
     ]
    }
   ],
   "source": [
    "age = int(input(\"Enter your age: \"))\n",
    "\n",
    "if 13 <= age <= 19:\n",
    "    print(\"Teenager\")\n",
    "else:\n",
    "    print(\"Not a teenager.\")\n"
   ]
  },
  {
   "cell_type": "markdown",
   "id": "ac211e92-6746-42c7-a713-6eeb2d5c27ae",
   "metadata": {},
   "source": [
    "## Exercise 18:"
   ]
  },
  {
   "cell_type": "code",
   "execution_count": 25,
   "id": "f6058117-8565-48a7-ad17-0f7babde0a5c",
   "metadata": {},
   "outputs": [
    {
     "name": "stdout",
     "output_type": "stream",
     "text": [
      "The list contains an element greater than 100.\n"
     ]
    }
   ],
   "source": [
    "def has_greater_than_100(lst):\n",
    "    for num in lst:\n",
    "        if num > 100:\n",
    "            return True\n",
    "    return False\n",
    "\n",
    "numbers = [10, 50, 120, 30]\n",
    "\n",
    "if has_greater_than_100(numbers):\n",
    "    print(\"The list contains an element greater than 100.\")\n",
    "else:\n",
    "    print(\"The list does not contain any element greater than 100.\")\n"
   ]
  },
  {
   "cell_type": "markdown",
   "id": "dbaddf9d-73d2-4a39-a02b-1589cae71a01",
   "metadata": {},
   "source": [
    "## Exercise 19:"
   ]
  },
  {
   "cell_type": "code",
   "execution_count": 26,
   "id": "f4941855-409b-4276-8fb8-943c5deae93d",
   "metadata": {},
   "outputs": [
    {
     "name": "stdin",
     "output_type": "stream",
     "text": [
      "Enter a number:  67\n"
     ]
    },
    {
     "name": "stdout",
     "output_type": "stream",
     "text": [
      "67 is odd.\n"
     ]
    }
   ],
   "source": [
    "num = int(input(\"Enter a number: \"))\n",
    "\n",
    "if num % 2 == 0:\n",
    "    print(f\"{num} is even.\")\n",
    "else:\n",
    "    print(f\"{num} is odd.\")\n"
   ]
  },
  {
   "cell_type": "markdown",
   "id": "f6769aef-4bb0-497c-9beb-0ca99ab5fa69",
   "metadata": {},
   "source": [
    "## Exercise 20:"
   ]
  },
  {
   "cell_type": "code",
   "execution_count": 27,
   "id": "d243eb27-3b76-4928-8a9a-c88985b29541",
   "metadata": {},
   "outputs": [
    {
     "name": "stdin",
     "output_type": "stream",
     "text": [
      "Enter a string:  nhyuiuoir.\n"
     ]
    },
    {
     "name": "stdout",
     "output_type": "stream",
     "text": [
      "The string ends with a punctuation mark.\n"
     ]
    }
   ],
   "source": [
    "import string\n",
    "\n",
    "def ends_with_punctuation(s):\n",
    "    return bool(s) and s[-1] in string.punctuation\n",
    "\n",
    "text = input(\"Enter a string: \")\n",
    "\n",
    "if ends_with_punctuation(text):\n",
    "    print(\"The string ends with a punctuation mark.\")\n",
    "else:\n",
    "    print(\"The string does not end with a punctuation mark.\")\n"
   ]
  },
  {
   "cell_type": "markdown",
   "id": "411ce28b-69fe-4576-8e15-c3ac14f06600",
   "metadata": {},
   "source": [
    "## Exercise 21:"
   ]
  },
  {
   "cell_type": "code",
   "execution_count": 28,
   "id": "db376595-57fd-4a05-8d05-6d58aec58b82",
   "metadata": {},
   "outputs": [
    {
     "name": "stdin",
     "output_type": "stream",
     "text": [
      "Enter a number:  56\n"
     ]
    },
    {
     "name": "stdout",
     "output_type": "stream",
     "text": [
      "Yes\n"
     ]
    }
   ],
   "source": [
    "num = float(input(\"Enter a number: \"))\n",
    "\n",
    "if 1 <= num <= 100:\n",
    "    print(\"Yes\")\n",
    "else:\n",
    "    print(\"No\")\n"
   ]
  },
  {
   "cell_type": "markdown",
   "id": "ae5971a4-bb4f-4b43-8e00-5523591ec0e4",
   "metadata": {},
   "source": [
    "## Exercise 22:"
   ]
  },
  {
   "cell_type": "code",
   "execution_count": 29,
   "id": "bc74e843-3536-47e2-8787-7c7065bbdefb",
   "metadata": {},
   "outputs": [
    {
     "name": "stdin",
     "output_type": "stream",
     "text": [
      "Enter the first string:  huygJHBYH\n",
      "Enter the second string:  JHBwuev\n"
     ]
    },
    {
     "name": "stdout",
     "output_type": "stream",
     "text": [
      "The strings do not have the same length.\n"
     ]
    }
   ],
   "source": [
    "str1 = input(\"Enter the first string: \")\n",
    "str2 = input(\"Enter the second string: \")\n",
    "\n",
    "if len(str1) == len(str2):\n",
    "    print(\"The strings have the same length.\")\n",
    "else:\n",
    "    print(\"The strings do not have the same length.\")\n"
   ]
  },
  {
   "cell_type": "markdown",
   "id": "ddb96f21-a19a-45e7-b655-a841093c4d77",
   "metadata": {},
   "source": [
    "## Exercise 23:"
   ]
  },
  {
   "cell_type": "code",
   "execution_count": 31,
   "id": "94078c42-ff60-413b-8089-e92944a8a522",
   "metadata": {},
   "outputs": [
    {
     "name": "stdin",
     "output_type": "stream",
     "text": [
      "Enter a number:  456\n"
     ]
    },
    {
     "name": "stdout",
     "output_type": "stream",
     "text": [
      "456 is not greater than its reverse.\n"
     ]
    }
   ],
   "source": [
    "def is_greater_than_reverse(num):\n",
    "    reversed_num = int(str(num)[::-1])\n",
    "    return num > reversed_num\n",
    "    \n",
    "number = int(input(\"Enter a number: \"))\n",
    "\n",
    "if is_greater_than_reverse(number):\n",
    "    print(f\"{number} is greater than its reverse.\")\n",
    "else:\n",
    "    print(f\"{number} is not greater than its reverse.\")\n",
    "\n"
   ]
  },
  {
   "cell_type": "markdown",
   "id": "efb9e829-d4e4-4af7-8292-d91766b713be",
   "metadata": {},
   "source": [
    "## Exercise 24:"
   ]
  },
  {
   "cell_type": "code",
   "execution_count": 32,
   "id": "6f62a3f6-2763-4483-b0e0-8bca641a60e1",
   "metadata": {},
   "outputs": [
    {
     "name": "stdin",
     "output_type": "stream",
     "text": [
      "Enter your password:  byft45gu7\n"
     ]
    },
    {
     "name": "stdout",
     "output_type": "stream",
     "text": [
      "The password contains both letters and numbers.\n"
     ]
    }
   ],
   "source": [
    "password = input(\"Enter your password: \")\n",
    "\n",
    "has_letter = any(char.isalpha() for char in password)\n",
    "has_number = any(char.isdigit() for char in password)\n",
    "\n",
    "if has_letter and has_number:\n",
    "    print(\"The password contains both letters and numbers.\")\n",
    "else:\n",
    "    print(\"The password does not contain both letters and numbers.\")\n"
   ]
  },
  {
   "cell_type": "markdown",
   "id": "228c894b-db5a-42bb-9563-47c6b1724446",
   "metadata": {},
   "source": [
    "## Exercise 25:"
   ]
  },
  {
   "cell_type": "code",
   "execution_count": 33,
   "id": "2608adb6-9cd5-4cdc-a5e3-274dbacdf088",
   "metadata": {},
   "outputs": [
    {
     "name": "stdin",
     "output_type": "stream",
     "text": [
      "Enter the number:  67554\n",
      "Enter the lower bound:  89\n",
      "Enter the upper bound:  76\n"
     ]
    },
    {
     "name": "stdout",
     "output_type": "stream",
     "text": [
      "67554.0 is not between 89.0 and 76.0.\n"
     ]
    }
   ],
   "source": [
    "num = float(input(\"Enter the number: \"))\n",
    "lower = float(input(\"Enter the lower bound: \"))\n",
    "upper = float(input(\"Enter the upper bound: \"))\n",
    "\n",
    "if lower < num < upper:\n",
    "    print(f\"{num} is between {lower} and {upper}.\")\n",
    "else:\n",
    "    print(f\"{num} is not between {lower} and {upper}.\")\n"
   ]
  },
  {
   "cell_type": "markdown",
   "id": "605337bc-b1f4-45cc-b888-0b9a52405ece",
   "metadata": {},
   "source": [
    "## Exercise 26:"
   ]
  },
  {
   "cell_type": "code",
   "execution_count": 34,
   "id": "bf9464b8-b667-47e4-b422-52100c19f451",
   "metadata": {},
   "outputs": [
    {
     "name": "stdin",
     "output_type": "stream",
     "text": [
      "Enter a string:  ertydru\n"
     ]
    },
    {
     "name": "stdout",
     "output_type": "stream",
     "text": [
      "The string contains duplicate characters.\n"
     ]
    }
   ],
   "source": [
    "def all_unique_characters(s):\n",
    "    return len(s) == len(set(s))\n",
    "\n",
    "text = input(\"Enter a string: \")\n",
    "\n",
    "if all_unique_characters(text):\n",
    "    print(\"All characters in the string are unique.\")\n",
    "else:\n",
    "    print(\"The string contains duplicate characters.\")\n"
   ]
  },
  {
   "cell_type": "markdown",
   "id": "37dae53e-8800-4318-ad83-c53c0fefc67a",
   "metadata": {},
   "source": [
    "## Exercise 27:"
   ]
  },
  {
   "cell_type": "code",
   "execution_count": 35,
   "id": "1b1701aa-1c06-43ba-b7e8-693c661049e3",
   "metadata": {},
   "outputs": [
    {
     "name": "stdin",
     "output_type": "stream",
     "text": [
      "Enter a number:  34\n"
     ]
    },
    {
     "name": "stdout",
     "output_type": "stream",
     "text": [
      "34 is not a perfect square.\n"
     ]
    }
   ],
   "source": [
    "num = int(input(\"Enter a number: \"))\n",
    "\n",
    "if num >= 0:\n",
    "    square_root = int(num ** 0.5)\n",
    "    if square_root ** 2 == num:\n",
    "        print(f\"{num} is a perfect square.\")\n",
    "    else:\n",
    "        print(f\"{num} is not a perfect square.\")\n",
    "else:\n",
    "    print(f\"{num} is not a perfect square.\")\n"
   ]
  },
  {
   "cell_type": "markdown",
   "id": "2b1db22e-6b2b-453a-8a41-c09fcf832c66",
   "metadata": {},
   "source": [
    "## Exercise 28:"
   ]
  },
  {
   "cell_type": "code",
   "execution_count": 36,
   "id": "4abd28c3-4f8f-432d-9d21-fe2e1f784c4f",
   "metadata": {},
   "outputs": [
    {
     "name": "stdin",
     "output_type": "stream",
     "text": [
      "Enter a word:  ttrhftr\n"
     ]
    },
    {
     "name": "stdout",
     "output_type": "stream",
     "text": [
      "'ttrhftr' is not a palindrome.\n"
     ]
    }
   ],
   "source": [
    "def is_palindrome(word):\n",
    "    word = word.lower()\n",
    "    return word == word[::-1]\n",
    "\n",
    "text = input(\"Enter a word: \")\n",
    "\n",
    "if is_palindrome(text):\n",
    "    print(f\"'{text}' is a palindrome.\")\n",
    "else:\n",
    "    print(f\"'{text}' is not a palindrome.\")\n"
   ]
  },
  {
   "cell_type": "markdown",
   "id": "e545818b-7d57-4a25-9b3d-42f58d511d76",
   "metadata": {},
   "source": [
    "## Exercise 29:"
   ]
  },
  {
   "cell_type": "code",
   "execution_count": 37,
   "id": "8aac777f-9d74-47c8-8d38-be4d3fe26964",
   "metadata": {},
   "outputs": [
    {
     "name": "stdin",
     "output_type": "stream",
     "text": [
      "Enter a number:  5678\n"
     ]
    },
    {
     "name": "stdout",
     "output_type": "stream",
     "text": [
      "5678\n"
     ]
    }
   ],
   "source": [
    "num = int(input(\"Enter a number: \"))\n",
    "\n",
    "if num % 3 == 0 and num % 5 == 0:\n",
    "    print(\"FizzBuzz\")\n",
    "elif num % 3 == 0:\n",
    "    print(\"Fizz\")\n",
    "elif num % 5 == 0:\n",
    "    print(\"Buzz\")\n",
    "else:\n",
    "    print(num)\n"
   ]
  },
  {
   "cell_type": "markdown",
   "id": "1191ef46-ce54-4b79-ab04-95fcab45e643",
   "metadata": {},
   "source": [
    "## Exercise 30:"
   ]
  },
  {
   "cell_type": "code",
   "execution_count": 38,
   "id": "64656af0-4718-476d-b9e4-66fd37b565c4",
   "metadata": {},
   "outputs": [
    {
     "name": "stdin",
     "output_type": "stream",
     "text": [
      "Enter a number:  66\n"
     ]
    },
    {
     "name": "stdout",
     "output_type": "stream",
     "text": [
      "The sum of the digits of 66 is even.\n"
     ]
    }
   ],
   "source": [
    "num = int(input(\"Enter a number: \"))\n",
    "\n",
    "sum_of_digits = sum(int(digit) for digit in str(abs(num)))\n",
    "\n",
    "if sum_of_digits % 2 == 0:\n",
    "    print(f\"The sum of the digits of {num} is even.\")\n",
    "else:\n",
    "    print(f\"The sum of the digits of {num} is odd.\")\n"
   ]
  },
  {
   "cell_type": "markdown",
   "id": "d1e28c9f-6b4d-49c9-aaea-3d23c811d13e",
   "metadata": {},
   "source": [
    "## Exercise 31:"
   ]
  },
  {
   "cell_type": "code",
   "execution_count": 40,
   "id": "00fde217-9156-4774-b494-69ce6069077c",
   "metadata": {},
   "outputs": [
    {
     "name": "stdin",
     "output_type": "stream",
     "text": [
      "Enter an email address:  kuate@gmail\n"
     ]
    },
    {
     "name": "stdout",
     "output_type": "stream",
     "text": [
      "The email address is invalid.\n"
     ]
    }
   ],
   "source": [
    "email = input(\"Enter an email address: \")\n",
    "\n",
    "if \"@\" in email and email.count(\"@\") == 1:\n",
    "    local, domain = email.split(\"@\")\n",
    "    if local and \".\" in domain and not domain.startswith(\".\") and not domain.endswith(\".\"):\n",
    "        print(\"The email address is valid.\")\n",
    "    else:\n",
    "        print(\"The email address is invalid.\")\n",
    "else:\n",
    "    print(\"The email address is invalid.\")\n",
    "\n"
   ]
  },
  {
   "cell_type": "markdown",
   "id": "2bcca924-da85-4adf-b7d2-061d25aeea32",
   "metadata": {},
   "source": [
    "## Exercise 32:"
   ]
  },
  {
   "cell_type": "code",
   "execution_count": 41,
   "id": "ebf30899-8795-4059-8121-0ea8b7f6bf7b",
   "metadata": {},
   "outputs": [
    {
     "name": "stdin",
     "output_type": "stream",
     "text": [
      "Enter a number:  56\n"
     ]
    },
    {
     "name": "stdout",
     "output_type": "stream",
     "text": [
      "56.0 is not within 10 of 100 or 200.\n"
     ]
    }
   ],
   "source": [
    "def near_100_or_200(num):\n",
    "    return abs(100 - num) <= 10 or abs(200 - num) <= 10\n",
    "\n",
    "number = float(input(\"Enter a number: \"))\n",
    "\n",
    "if near_100_or_200(number):\n",
    "    print(f\"{number} is within 10 of 100 or 200.\")\n",
    "else:\n",
    "    print(f\"{number} is not within 10 of 100 or 200.\")\n"
   ]
  },
  {
   "cell_type": "markdown",
   "id": "9842787c-4472-4eb6-976c-ba163aa88fa6",
   "metadata": {},
   "source": [
    "## Exercise 33:"
   ]
  },
  {
   "cell_type": "code",
   "execution_count": 42,
   "id": "99699a20-ea57-47a7-944d-de813f778b85",
   "metadata": {},
   "outputs": [
    {
     "name": "stdin",
     "output_type": "stream",
     "text": [
      "Enter a URL:  hhttp/hu//gvg\n"
     ]
    },
    {
     "name": "stdout",
     "output_type": "stream",
     "text": [
      "The URL is invalid.\n"
     ]
    }
   ],
   "source": [
    "url = input(\"Enter a URL: \")\n",
    "\n",
    "if (url.startswith(\"http://\") or url.startswith(\"https://\")) and \".\" in url.split(\"://\")[1]:\n",
    "    print(\"The URL is valid.\")\n",
    "else:\n",
    "    print(\"The URL is invalid.\")\n"
   ]
  },
  {
   "cell_type": "markdown",
   "id": "5469e6b0-0ddc-486e-aa90-90caf691deb6",
   "metadata": {},
   "source": [
    "## Exercise 34:"
   ]
  },
  {
   "cell_type": "code",
   "execution_count": 43,
   "id": "318668f1-ade0-4dd2-a5f7-aad8fee448d8",
   "metadata": {},
   "outputs": [
    {
     "name": "stdout",
     "output_type": "stream",
     "text": [
      "All numbers in the list are even.\n"
     ]
    }
   ],
   "source": [
    "numbers = [2, 4, 6, 8, 10]\n",
    "\n",
    "if all(num % 2 == 0 for num in numbers):\n",
    "    print(\"All numbers in the list are even.\")\n",
    "else:\n",
    "    print(\"Not all numbers in the list are even.\")\n"
   ]
  },
  {
   "cell_type": "markdown",
   "id": "aa1408c3-0d22-4c26-91c9-4bcb6d263f5b",
   "metadata": {},
   "source": [
    "## Exercise 35:"
   ]
  },
  {
   "cell_type": "code",
   "execution_count": 45,
   "id": "88ebd7c7-fe50-4ad7-8c18-de17a7410e31",
   "metadata": {},
   "outputs": [
    {
     "name": "stdin",
     "output_type": "stream",
     "text": [
      "Enter a word:  ytyyu\n",
      "Enter the length to compare:  56\n"
     ]
    },
    {
     "name": "stdout",
     "output_type": "stream",
     "text": [
      "The word 'ytyyu' is not longer than 56 characters.\n"
     ]
    }
   ],
   "source": [
    "word = input(\"Enter a word: \")\n",
    "length = int(input(\"Enter the length to compare: \"))\n",
    "\n",
    "if len(word) > length:\n",
    "    print(f\"The word '{word}' is longer than {length} characters.\")\n",
    "else:\n",
    "    print(f\"The word '{word}' is not longer than {length} characters.\")\n"
   ]
  },
  {
   "cell_type": "markdown",
   "id": "5891e76e-0031-4675-b60e-8cb0434626d7",
   "metadata": {},
   "source": [
    "## Exercise 36:"
   ]
  },
  {
   "cell_type": "code",
   "execution_count": 46,
   "id": "d1f1c272-2ba7-4ba6-8165-d7b3bdfa9eaf",
   "metadata": {},
   "outputs": [
    {
     "name": "stdout",
     "output_type": "stream",
     "text": [
      "All numbers in the list are positive.\n"
     ]
    }
   ],
   "source": [
    "numbers = [1, 5, 10, 3, 8]\n",
    "\n",
    "if all(num > 0 for num in numbers):\n",
    "    print(\"All numbers in the list are positive.\")\n",
    "else:\n",
    "    print(\"The list contains non-positive numbers.\")\n"
   ]
  },
  {
   "cell_type": "markdown",
   "id": "8df86a5c-841a-454c-8d35-892ad4c9ff3c",
   "metadata": {},
   "source": [
    "## Exercise 37:"
   ]
  },
  {
   "cell_type": "code",
   "execution_count": 47,
   "id": "8344c0ef-64b4-4636-a2ad-db3c9731321d",
   "metadata": {},
   "outputs": [
    {
     "name": "stdin",
     "output_type": "stream",
     "text": [
      "Enter a year:  2025\n"
     ]
    },
    {
     "name": "stdout",
     "output_type": "stream",
     "text": [
      "2025 is not a century year.\n"
     ]
    }
   ],
   "source": [
    "def is_century_year(year):\n",
    "    return year % 100 == 0\n",
    "\n",
    "year = int(input(\"Enter a year: \"))\n",
    "\n",
    "if is_century_year(year):\n",
    "    print(f\"{year} is a century year.\")\n",
    "else:\n",
    "    print(f\"{year} is not a century year.\")\n"
   ]
  },
  {
   "cell_type": "markdown",
   "id": "26032697-74d5-47c3-a694-733f84686ef1",
   "metadata": {},
   "source": [
    "## Exercise 38:"
   ]
  },
  {
   "cell_type": "code",
   "execution_count": 48,
   "id": "8af42929-6ac3-483d-864b-a3330976d0f7",
   "metadata": {},
   "outputs": [
    {
     "name": "stdout",
     "output_type": "stream",
     "text": [
      "The sum of the list is 115, which is greater than 100.\n"
     ]
    }
   ],
   "source": [
    "numbers = [20, 30, 25, 40]\n",
    "\n",
    "total = sum(numbers)\n",
    "\n",
    "if total > 100:\n",
    "    print(f\"The sum of the list is {total}, which is greater than 100.\")\n",
    "else:\n",
    "    print(f\"The sum of the list is {total}, which is not greater than 100.\")\n"
   ]
  },
  {
   "cell_type": "markdown",
   "id": "def5e5e9-2a0a-4347-9ee2-fa5059f9d14e",
   "metadata": {},
   "source": [
    "## Exercise 39:"
   ]
  },
  {
   "cell_type": "code",
   "execution_count": 49,
   "id": "dfe51d22-e3f4-4a85-b083-8cabdb66ba51",
   "metadata": {},
   "outputs": [
    {
     "name": "stdin",
     "output_type": "stream",
     "text": [
      "Enter the main string:  bonjour\n",
      "Enter the word to check:  jour\n"
     ]
    },
    {
     "name": "stdout",
     "output_type": "stream",
     "text": [
      "'jour' is a substring of the main string.\n"
     ]
    }
   ],
   "source": [
    "def is_substring(word, text):\n",
    "    return word in text\n",
    "\n",
    "text = input(\"Enter the main string: \")\n",
    "word = input(\"Enter the word to check: \")\n",
    "\n",
    "if is_substring(word, text):\n",
    "    print(f\"'{word}' is a substring of the main string.\")\n",
    "else:\n",
    "    print(f\"'{word}' is not a substring of the main string.\")\n"
   ]
  },
  {
   "cell_type": "markdown",
   "id": "f29ede20-4a1b-4027-a8a4-94db6dfa59e4",
   "metadata": {},
   "source": [
    "## Exercise 40:"
   ]
  },
  {
   "cell_type": "code",
   "execution_count": 50,
   "id": "7d158f33-1f0f-4174-b195-bb780d396eae",
   "metadata": {},
   "outputs": [
    {
     "name": "stdin",
     "output_type": "stream",
     "text": [
      "Enter a number:  234\n"
     ]
    },
    {
     "name": "stdout",
     "output_type": "stream",
     "text": [
      "234 is not a power of 2.\n"
     ]
    }
   ],
   "source": [
    "num = int(input(\"Enter a number: \"))\n",
    "\n",
    "if num > 0 and (num & (num - 1)) == 0:\n",
    "    print(f\"{num} is a power of 2.\")\n",
    "else:\n",
    "    print(f\"{num} is not a power of 2.\")\n"
   ]
  },
  {
   "cell_type": "markdown",
   "id": "cb5b24a9-3d51-4e07-9afb-a1b88212d4b6",
   "metadata": {},
   "source": [
    "## Exercise 41:"
   ]
  },
  {
   "cell_type": "code",
   "execution_count": 51,
   "id": "fc6e098b-2f7b-405c-a7b9-1817c51f17d0",
   "metadata": {},
   "outputs": [
    {
     "name": "stdin",
     "output_type": "stream",
     "text": [
      "Enter a string:  hello\n"
     ]
    },
    {
     "name": "stdout",
     "output_type": "stream",
     "text": [
      "The string contains no spaces.\n"
     ]
    }
   ],
   "source": [
    "def no_spaces(s):\n",
    "    return ' ' not in s\n",
    "\n",
    "text = input(\"Enter a string: \")\n",
    "\n",
    "if no_spaces(text):\n",
    "    print(\"The string contains no spaces.\")\n",
    "else:\n",
    "    print(\"The string contains spaces.\")\n"
   ]
  },
  {
   "cell_type": "markdown",
   "id": "6fe57d5d-5d43-4c63-8abc-2bd07ae2ae4e",
   "metadata": {},
   "source": [
    "## Exercise 42:"
   ]
  },
  {
   "cell_type": "code",
   "execution_count": 52,
   "id": "544fdeab-d820-4a07-99b8-542ba5b18e22",
   "metadata": {},
   "outputs": [
    {
     "name": "stdin",
     "output_type": "stream",
     "text": [
      "Enter a number:  445\n"
     ]
    },
    {
     "name": "stdout",
     "output_type": "stream",
     "text": [
      "No\n"
     ]
    }
   ],
   "source": [
    "num = int(input(\"Enter a number: \"))\n",
    "\n",
    "if num % 2 == 0 and num % 3 == 0:\n",
    "    print(\"Yes\")\n",
    "else:\n",
    "    print(\"No\")\n"
   ]
  },
  {
   "cell_type": "markdown",
   "id": "eda064f0-5cdc-4e4f-b926-eebe3c8e831d",
   "metadata": {},
   "source": [
    "## Exercise 43:"
   ]
  },
  {
   "cell_type": "code",
   "execution_count": 53,
   "id": "b73cfaa4-0746-4780-96c3-3cf5f454a704",
   "metadata": {},
   "outputs": [
    {
     "name": "stdin",
     "output_type": "stream",
     "text": [
      "Enter a number:  55\n"
     ]
    },
    {
     "name": "stdout",
     "output_type": "stream",
     "text": [
      "55 is a palindrome.\n"
     ]
    }
   ],
   "source": [
    "num = input(\"Enter a number: \")\n",
    "\n",
    "if num == num[::-1]:\n",
    "    print(f\"{num} is a palindrome.\")\n",
    "else:\n",
    "    print(f\"{num} is not a palindrome.\")\n"
   ]
  },
  {
   "cell_type": "markdown",
   "id": "f17058df-fdd7-442f-911f-b281871f0e9b",
   "metadata": {},
   "source": [
    "## Exercise 44:"
   ]
  },
  {
   "cell_type": "code",
   "execution_count": 54,
   "id": "c886e00f-a54a-48f8-9093-b2649ff72a45",
   "metadata": {},
   "outputs": [
    {
     "name": "stdin",
     "output_type": "stream",
     "text": [
      "Enter a string:  morning\n"
     ]
    },
    {
     "name": "stdout",
     "output_type": "stream",
     "text": [
      "The string contains only lowercase letters.\n"
     ]
    }
   ],
   "source": [
    "def is_all_lowercase(s):\n",
    "    return s.islower() and s.isalpha()\n",
    "\n",
    "text = input(\"Enter a string: \")\n",
    "\n",
    "if is_all_lowercase(text):\n",
    "    print(\"The string contains only lowercase letters.\")\n",
    "else:\n",
    "    print(\"The string does not contain only lowercase letters.\")\n"
   ]
  },
  {
   "cell_type": "markdown",
   "id": "5b2677a7-fdd3-4aa6-bada-ce786e807aa9",
   "metadata": {},
   "source": [
    "## Exercise 45:"
   ]
  },
  {
   "cell_type": "code",
   "execution_count": 55,
   "id": "e3c57331-01e2-4ae9-ad93-3f002173da55",
   "metadata": {},
   "outputs": [
    {
     "name": "stdin",
     "output_type": "stream",
     "text": [
      "Enter a string:  good morning\n",
      "Enter the prefix to check:  good\n"
     ]
    },
    {
     "name": "stdout",
     "output_type": "stream",
     "text": [
      "The string starts with 'good'.\n"
     ]
    }
   ],
   "source": [
    "text = input(\"Enter a string: \")\n",
    "prefix = input(\"Enter the prefix to check: \")\n",
    "\n",
    "if text.startswith(prefix):\n",
    "    print(f\"The string starts with '{prefix}'.\")\n",
    "else:\n",
    "    print(f\"The string does not start with '{prefix}'.\")\n"
   ]
  },
  {
   "cell_type": "markdown",
   "id": "f3f93ab0-dee3-42ca-b4ec-db9839ece5d9",
   "metadata": {},
   "source": [
    "## Exercise 46:"
   ]
  },
  {
   "cell_type": "code",
   "execution_count": 56,
   "id": "8e5209f4-d27a-431d-9030-5a44d7584490",
   "metadata": {},
   "outputs": [
    {
     "name": "stdin",
     "output_type": "stream",
     "text": [
      "Enter a number:  56\n",
      "Enter a list of divisors separated by spaces:  6\n"
     ]
    },
    {
     "name": "stdout",
     "output_type": "stream",
     "text": [
      "56 is not divisible by any number in the list.\n"
     ]
    }
   ],
   "source": [
    "def divisible_by_any(num, divisors):\n",
    "    return any(num % d == 0 for d in divisors if d != 0)\n",
    "\n",
    "number = int(input(\"Enter a number: \"))\n",
    "divisors_list = [int(x) for x in input(\"Enter a list of divisors separated by spaces: \").split()]\n",
    "\n",
    "if divisible_by_any(number, divisors_list):\n",
    "    print(f\"{number} is divisible by at least one number in the list.\")\n",
    "else:\n",
    "    print(f\"{number} is not divisible by any number in the list.\")\n"
   ]
  },
  {
   "cell_type": "markdown",
   "id": "51f7132f-9479-46e7-aaf1-cd2161a1ef0f",
   "metadata": {},
   "source": [
    "## Exercise 47:"
   ]
  },
  {
   "cell_type": "code",
   "execution_count": 57,
   "id": "3f77437c-da68-4842-8bf2-62def44682f9",
   "metadata": {},
   "outputs": [
    {
     "name": "stdin",
     "output_type": "stream",
     "text": [
      "Enter a string:  everyone\n"
     ]
    },
    {
     "name": "stdout",
     "output_type": "stream",
     "text": [
      "Yes\n"
     ]
    }
   ],
   "source": [
    "text = input(\"Enter a string: \")\n",
    "\n",
    "if any(text.count(char) > 1 for char in text):\n",
    "    print(\"Yes\")\n",
    "else:\n",
    "    print(\"No\")\n"
   ]
  },
  {
   "cell_type": "markdown",
   "id": "79c4ef74-0a34-42e0-89cb-1017707b75af",
   "metadata": {},
   "source": [
    "## Exercise 48:"
   ]
  },
  {
   "cell_type": "code",
   "execution_count": 58,
   "id": "51524c76-61ce-45a8-ada9-cb2da3a0df02",
   "metadata": {},
   "outputs": [
    {
     "name": "stdin",
     "output_type": "stream",
     "text": [
      "Enter a number:  65\n"
     ]
    },
    {
     "name": "stdout",
     "output_type": "stream",
     "text": [
      "65 is not a prime number.\n"
     ]
    }
   ],
   "source": [
    "import math\n",
    "\n",
    "def is_prime(num):\n",
    "    if num <= 1:\n",
    "        return False\n",
    "    for i in range(2, int(math.sqrt(num)) + 1):\n",
    "        if num % i == 0:\n",
    "            return False\n",
    "    return True\n",
    "\n",
    "number = int(input(\"Enter a number: \"))\n",
    "\n",
    "if is_prime(number):\n",
    "    print(f\"{number} is a prime number.\")\n",
    "else:\n",
    "    print(f\"{number} is not a prime number.\")\n"
   ]
  },
  {
   "cell_type": "markdown",
   "id": "66823fd5-50db-403a-b183-db5dbed65ecc",
   "metadata": {},
   "source": [
    "## Exercise 49:"
   ]
  },
  {
   "cell_type": "code",
   "execution_count": 59,
   "id": "7e852298-cfa4-444b-b59b-12f045b8e306",
   "metadata": {},
   "outputs": [
    {
     "name": "stdin",
     "output_type": "stream",
     "text": [
      "Enter a number:  66\n"
     ]
    },
    {
     "name": "stdout",
     "output_type": "stream",
     "text": [
      "66 is not within 1 of a multiple of 10.\n"
     ]
    }
   ],
   "source": [
    "num = int(input(\"Enter a number: \"))\n",
    "\n",
    "if num % 10 <= 1 or num % 10 >= 9:\n",
    "    print(f\"{num} is within 1 of a multiple of 10.\")\n",
    "else:\n",
    "    print(f\"{num} is not within 1 of a multiple of 10.\")\n"
   ]
  },
  {
   "cell_type": "markdown",
   "id": "f9e3fa14-25e2-448a-a852-0fc0fa5a18d2",
   "metadata": {},
   "source": [
    "## Exercise 50:"
   ]
  },
  {
   "cell_type": "code",
   "execution_count": 60,
   "id": "d8764287-0230-4b54-a132-1e3353ad1f72",
   "metadata": {},
   "outputs": [
    {
     "name": "stdin",
     "output_type": "stream",
     "text": [
      "Enter a number:  667\n"
     ]
    },
    {
     "name": "stdout",
     "output_type": "stream",
     "text": [
      "Out of range\n"
     ]
    }
   ],
   "source": [
    "num = float(input(\"Enter a number: \"))\n",
    "\n",
    "if 10 <= num <= 20:\n",
    "    print(\"In range\")\n",
    "else:\n",
    "    print(\"Out of range\")\n"
   ]
  },
  {
   "cell_type": "code",
   "execution_count": null,
   "id": "157c19fa-e998-464a-b98d-0469eac87a42",
   "metadata": {},
   "outputs": [],
   "source": []
  }
 ],
 "metadata": {
  "kernelspec": {
   "display_name": "Python [conda env:base] *",
   "language": "python",
   "name": "conda-base-py"
  },
  "language_info": {
   "codemirror_mode": {
    "name": "ipython",
    "version": 3
   },
   "file_extension": ".py",
   "mimetype": "text/x-python",
   "name": "python",
   "nbconvert_exporter": "python",
   "pygments_lexer": "ipython3",
   "version": "3.11.5"
  }
 },
 "nbformat": 4,
 "nbformat_minor": 5
}
