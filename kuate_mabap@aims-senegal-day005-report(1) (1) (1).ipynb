{
 "cells": [
  {
   "cell_type": "markdown",
   "id": "0129dca6",
   "metadata": {},
   "source": [
    "## Exercise 1:"
   ]
  },
  {
   "cell_type": "code",
   "execution_count": 3,
   "id": "2f93d2b3",
   "metadata": {},
   "outputs": [
    {
     "data": {
      "text/plain": [
       "[1, 2, 3, 4, 5, 6, 7, 8, 9, 10]"
      ]
     },
     "execution_count": 3,
     "metadata": {},
     "output_type": "execute_result"
    }
   ],
   "source": [
    "liste = []\n",
    "for i in range(1,11):\n",
    "    liste.append(i)\n",
    "    \n",
    "liste"
   ]
  },
  {
   "cell_type": "markdown",
   "id": "95d80696",
   "metadata": {},
   "source": [
    "## Exercise 2:"
   ]
  },
  {
   "cell_type": "code",
   "execution_count": 4,
   "id": "3c73f0cf",
   "metadata": {},
   "outputs": [
    {
     "data": {
      "text/plain": [
       "tuple"
      ]
     },
     "execution_count": 4,
     "metadata": {},
     "output_type": "execute_result"
    }
   ],
   "source": [
    "a = (\"apple\", \"banana\", \"cherry\")\n",
    "type(a)"
   ]
  },
  {
   "cell_type": "markdown",
   "id": "aebf1f1d",
   "metadata": {},
   "source": [
    "## Exercise 3:"
   ]
  },
  {
   "cell_type": "code",
   "execution_count": 5,
   "id": "a1a2fcdc",
   "metadata": {},
   "outputs": [
    {
     "data": {
      "text/plain": [
       "tuple"
      ]
     },
     "execution_count": 5,
     "metadata": {},
     "output_type": "execute_result"
    }
   ],
   "source": [
    "numbers = [10, 20, 30, 40]\n",
    "b = tuple(numbers)\n",
    "type(b)"
   ]
  },
  {
   "cell_type": "markdown",
   "id": "60ae8b64",
   "metadata": {},
   "source": [
    "## Exercise 4:"
   ]
  },
  {
   "cell_type": "code",
   "execution_count": 7,
   "id": "cb487938",
   "metadata": {},
   "outputs": [
    {
     "data": {
      "text/plain": [
       "{1, 2, 3, 4, 5}"
      ]
     },
     "execution_count": 7,
     "metadata": {},
     "output_type": "execute_result"
    }
   ],
   "source": [
    "a = {1, 2, 3, 4, 5}\n",
    "    \n",
    "a    "
   ]
  },
  {
   "cell_type": "markdown",
   "id": "76970a36",
   "metadata": {},
   "source": [
    "## Exercise 5:"
   ]
  },
  {
   "cell_type": "code",
   "execution_count": 8,
   "id": "80a6f827",
   "metadata": {},
   "outputs": [
    {
     "data": {
      "text/plain": [
       "{'name': 'kuate', 'age': 13, 'grade': 6}"
      ]
     },
     "execution_count": 8,
     "metadata": {},
     "output_type": "execute_result"
    }
   ],
   "source": [
    "student = {\n",
    "    \"name\":\"kuate\", \"age\": 13, \"grade\":6\n",
    "}\n",
    "\n",
    "student"
   ]
  },
  {
   "cell_type": "markdown",
   "id": "d58317b6",
   "metadata": {},
   "source": [
    "## Exercise 6:"
   ]
  },
  {
   "cell_type": "code",
   "execution_count": 9,
   "id": "f4eeb35e",
   "metadata": {},
   "outputs": [
    {
     "data": {
      "text/plain": [
       "20"
      ]
     },
     "execution_count": 9,
     "metadata": {},
     "output_type": "execute_result"
    }
   ],
   "source": [
    "liste = [10, 20, 30, 40, 50]\n",
    "liste[1]"
   ]
  },
  {
   "cell_type": "markdown",
   "id": "a8d76502",
   "metadata": {},
   "source": [
    "## Exercise 7:"
   ]
  },
  {
   "cell_type": "code",
   "execution_count": 10,
   "id": "53b2cfe6",
   "metadata": {},
   "outputs": [
    {
     "data": {
      "text/plain": [
       "['apple', 'banana', 'mango', 'orange']"
      ]
     },
     "execution_count": 10,
     "metadata": {},
     "output_type": "execute_result"
    }
   ],
   "source": [
    "fruits = [\"apple\", \"banana\", \"cherry\", \"orange\"]\n",
    "fruits[2]=\"mango\"\n",
    "\n",
    "fruits"
   ]
  },
  {
   "cell_type": "markdown",
   "id": "1f6ce0b9",
   "metadata": {},
   "source": [
    "## Exercise 8:"
   ]
  },
  {
   "cell_type": "code",
   "execution_count": 11,
   "id": "8738ebd6",
   "metadata": {},
   "outputs": [
    {
     "data": {
      "text/plain": [
       "{1, 2, 3, 4, 5, 6}"
      ]
     },
     "execution_count": 11,
     "metadata": {},
     "output_type": "execute_result"
    }
   ],
   "source": [
    "numbers = {1, 2, 3, 4, 5}\n",
    "numbers.add(6)\n",
    "\n",
    "numbers"
   ]
  },
  {
   "cell_type": "markdown",
   "id": "3e19574b",
   "metadata": {},
   "source": [
    "## Exercise 9:"
   ]
  },
  {
   "cell_type": "code",
   "execution_count": 16,
   "id": "e9dbf27d",
   "metadata": {},
   "outputs": [
    {
     "data": {
      "text/plain": [
       "{'name': 'John', 'city': 'New York'}"
      ]
     },
     "execution_count": 16,
     "metadata": {},
     "output_type": "execute_result"
    }
   ],
   "source": [
    "person = {\"name\": \"John\", \"age\": 25, \"city\": \"New York\"}\n",
    "\n",
    "del person[\"age\"]\n",
    "\n",
    "person"
   ]
  },
  {
   "cell_type": "markdown",
   "id": "b76c63f0",
   "metadata": {},
   "source": [
    "## Exercise 10:"
   ]
  },
  {
   "cell_type": "code",
   "execution_count": 18,
   "id": "2a8f300c",
   "metadata": {},
   "outputs": [
    {
     "data": {
      "text/plain": [
       "[0, 1, 2, 3, 4, 5, 6, 7, 8, 9]"
      ]
     },
     "execution_count": 18,
     "metadata": {},
     "output_type": "execute_result"
    }
   ],
   "source": [
    "rang = []\n",
    "for i in range(10):\n",
    "    rang.append(i)\n",
    "    \n",
    "rang"
   ]
  },
  {
   "cell_type": "markdown",
   "id": "60593275",
   "metadata": {},
   "source": [
    "## Exercise 11:"
   ]
  },
  {
   "cell_type": "code",
   "execution_count": 21,
   "id": "b2fd0469",
   "metadata": {},
   "outputs": [
    {
     "data": {
      "text/plain": [
       "[1, 4, 9, 16, 25, 36, 49, 64, 81, 100]"
      ]
     },
     "execution_count": 21,
     "metadata": {},
     "output_type": "execute_result"
    }
   ],
   "source": [
    "squares = [i ** 2 for i in range (1,11)]\n",
    "squares"
   ]
  },
  {
   "cell_type": "markdown",
   "id": "649767be",
   "metadata": {},
   "source": [
    "## Exercise 12:"
   ]
  },
  {
   "cell_type": "code",
   "execution_count": 43,
   "id": "c331c6b8",
   "metadata": {},
   "outputs": [
    {
     "data": {
      "text/plain": [
       "(4, 6, 8, 10)"
      ]
     },
     "execution_count": 43,
     "metadata": {},
     "output_type": "execute_result"
    }
   ],
   "source": [
    "even_number = tuple([i*2 for i in range(2,6)])\n",
    "even_number"
   ]
  },
  {
   "cell_type": "markdown",
   "id": "96ebef71",
   "metadata": {},
   "source": [
    "## Exercise 13:"
   ]
  },
  {
   "cell_type": "code",
   "execution_count": 44,
   "id": "43bd9531",
   "metadata": {},
   "outputs": [
    {
     "name": "stdout",
     "output_type": "stream",
     "text": [
      "apple\n",
      "banana\n",
      "cherry\n"
     ]
    }
   ],
   "source": [
    "fruits = [\"apple\", \"banana\", \"cherry\"]\n",
    "\n",
    "for i in fruits:\n",
    "    print(i)"
   ]
  },
  {
   "cell_type": "markdown",
   "id": "33b7a072",
   "metadata": {},
   "source": [
    "## Exercise 14:"
   ]
  },
  {
   "cell_type": "code",
   "execution_count": 45,
   "id": "dea97d8b",
   "metadata": {},
   "outputs": [
    {
     "name": "stdout",
     "output_type": "stream",
     "text": [
      "3\n"
     ]
    }
   ],
   "source": [
    "numbers = {1, 2, 3, 4, 5}\n",
    "\n",
    "if 3 in numbers:\n",
    "    print(3)\n",
    "else:\n",
    "    print(\"there is not here\")"
   ]
  },
  {
   "cell_type": "markdown",
   "id": "b780b4a4",
   "metadata": {},
   "source": [
    "## Exercise 15:"
   ]
  },
  {
   "cell_type": "code",
   "execution_count": 46,
   "id": "798af144",
   "metadata": {},
   "outputs": [
    {
     "data": {
      "text/plain": [
       "3"
      ]
     },
     "execution_count": 46,
     "metadata": {},
     "output_type": "execute_result"
    }
   ],
   "source": [
    "numbers = (10, 20, 30)\n",
    "\n",
    "len(numbers)"
   ]
  },
  {
   "cell_type": "markdown",
   "id": "53250043",
   "metadata": {},
   "source": [
    "## Exercise 16:"
   ]
  },
  {
   "cell_type": "code",
   "execution_count": 47,
   "id": "02a5f092",
   "metadata": {},
   "outputs": [
    {
     "data": {
      "text/plain": [
       "[80, 85, 90, 95, 100]"
      ]
     },
     "execution_count": 47,
     "metadata": {},
     "output_type": "execute_result"
    }
   ],
   "source": [
    "scores = [80, 85, 90, 95]\n",
    "scores.append(100)\n",
    "scores\n",
    "\n"
   ]
  },
  {
   "cell_type": "markdown",
   "id": "23b88572",
   "metadata": {},
   "source": [
    "## Exercise 17:"
   ]
  },
  {
   "cell_type": "code",
   "execution_count": 48,
   "id": "0bce3be7",
   "metadata": {},
   "outputs": [
    {
     "name": "stdout",
     "output_type": "stream",
     "text": [
      "45\n"
     ]
    }
   ],
   "source": [
    "def function_sum (element):\n",
    "    return sum(element)\n",
    "\n",
    "print(function_sum ([i for i in range(10)]))"
   ]
  },
  {
   "cell_type": "markdown",
   "id": "dce81590",
   "metadata": {},
   "source": [
    "## Exercise 18:\n"
   ]
  },
  {
   "cell_type": "code",
   "execution_count": 49,
   "id": "b453e72a",
   "metadata": {},
   "outputs": [
    {
     "data": {
      "text/plain": [
       "{1, 2, 3, 4, 5}"
      ]
     },
     "execution_count": 49,
     "metadata": {},
     "output_type": "execute_result"
    }
   ],
   "source": [
    "numbers = [1, 2, 2, 3, 4, 4, 5]\n",
    "number_set = set(numbers)\n",
    "\n",
    "number_set"
   ]
  },
  {
   "cell_type": "markdown",
   "id": "71073cbe",
   "metadata": {},
   "source": [
    "## Exercise 19:"
   ]
  },
  {
   "cell_type": "code",
   "execution_count": 50,
   "id": "7cab59a2",
   "metadata": {},
   "outputs": [
    {
     "data": {
      "text/plain": [
       "['h', 'e', 'l', 'l', 'o']"
      ]
     },
     "execution_count": 50,
     "metadata": {},
     "output_type": "execute_result"
    }
   ],
   "source": [
    "liste = []\n",
    "for i in \"hello\":\n",
    "    liste.append(i)\n",
    "    \n",
    "liste"
   ]
  },
  {
   "cell_type": "markdown",
   "id": "96751588",
   "metadata": {},
   "source": [
    "## Exercise 20:"
   ]
  },
  {
   "cell_type": "code",
   "execution_count": 51,
   "id": "a6c9818f",
   "metadata": {},
   "outputs": [
    {
     "data": {
      "text/plain": [
       "(4, 3, 2, 1)"
      ]
     },
     "execution_count": 51,
     "metadata": {},
     "output_type": "execute_result"
    }
   ],
   "source": [
    "a = (1, 2, 3, 4)\n",
    "\n",
    "b = a[::-1]\n",
    "b"
   ]
  },
  {
   "cell_type": "markdown",
   "id": "57448ddd",
   "metadata": {},
   "source": [
    "## Exercise 21:"
   ]
  },
  {
   "cell_type": "code",
   "execution_count": 53,
   "id": "448b1833",
   "metadata": {},
   "outputs": [
    {
     "data": {
      "text/plain": [
       "{'a': 1, 'b': 2, 'c': 3, 'd': 4}"
      ]
     },
     "execution_count": 53,
     "metadata": {},
     "output_type": "execute_result"
    }
   ],
   "source": [
    "dict1 = {\"a\": 1, \"b\": 2}\n",
    "dict2 = {\"c\": 3, \"d\": 4} \n",
    "\n",
    "dict1.update(dict2)\n",
    "dict1"
   ]
  },
  {
   "cell_type": "markdown",
   "id": "b5dc5410",
   "metadata": {},
   "source": [
    "## Exercise 22:"
   ]
  },
  {
   "cell_type": "code",
   "execution_count": 56,
   "id": "a8802207",
   "metadata": {},
   "outputs": [
    {
     "name": "stdout",
     "output_type": "stream",
     "text": [
      "{1: 1, 2: 8, 3: 27, 4: 64, 5: 125}\n",
      "<class 'dict'>\n"
     ]
    }
   ],
   "source": [
    "dict_1 = {i:i**3 for i in range(1,6)}\n",
    "print(dict_1)\n",
    "print(type(dict_1))"
   ]
  },
  {
   "cell_type": "markdown",
   "id": "57589ebb",
   "metadata": {},
   "source": [
    "## Exercise 23:"
   ]
  },
  {
   "cell_type": "code",
   "execution_count": 59,
   "id": "bec90ac9",
   "metadata": {},
   "outputs": [
    {
     "name": "stdout",
     "output_type": "stream",
     "text": [
      "1 1\n",
      "2 8\n",
      "3 27\n",
      "4 64\n",
      "5 125\n"
     ]
    }
   ],
   "source": [
    "for k in dict_1:\n",
    "    print(k, dict_1[k])"
   ]
  },
  {
   "cell_type": "markdown",
   "id": "b1953606",
   "metadata": {},
   "source": [
    "## Exercise 24:"
   ]
  },
  {
   "cell_type": "code",
   "execution_count": 46,
   "id": "6822f3f2",
   "metadata": {},
   "outputs": [
    {
     "name": "stdout",
     "output_type": "stream",
     "text": [
      "['a', 'b', 'c', 'd', 'e']\n"
     ]
    }
   ],
   "source": [
    "letters = [chr(i) for i in range(ord('a'), ord('a') + 5)]\n",
    "\n",
    "print(letters)\n"
   ]
  },
  {
   "cell_type": "markdown",
   "id": "7300a4fc",
   "metadata": {},
   "source": [
    "## Exercise 25:"
   ]
  },
  {
   "cell_type": "code",
   "execution_count": 6,
   "id": "5ff63eae",
   "metadata": {},
   "outputs": [
    {
     "data": {
      "text/plain": [
       "[(1, 'a'), (2, 'b'), (3, 'c')]"
      ]
     },
     "execution_count": 6,
     "metadata": {},
     "output_type": "execute_result"
    }
   ],
   "source": [
    "A = [1, 2, 3]\n",
    "B = [\"a\", \"b\", \"c\"]\n",
    "\n",
    "C = [(i,j) for i,j in zip(A, B)]\n",
    "C"
   ]
  },
  {
   "cell_type": "markdown",
   "id": "7459c5b0",
   "metadata": {},
   "source": [
    "## Exercise 26:"
   ]
  },
  {
   "cell_type": "code",
   "execution_count": 8,
   "id": "b38af3fa",
   "metadata": {},
   "outputs": [
    {
     "name": "stdout",
     "output_type": "stream",
     "text": [
      "4\n"
     ]
    }
   ],
   "source": [
    "A = [10, 20, 30, 40, 50]\n",
    "\n",
    "print(A.index(50))"
   ]
  },
  {
   "cell_type": "markdown",
   "id": "3569726f",
   "metadata": {},
   "source": [
    "## Exercise 27:"
   ]
  },
  {
   "cell_type": "code",
   "execution_count": 45,
   "id": "423afe11",
   "metadata": {},
   "outputs": [
    {
     "name": "stdout",
     "output_type": "stream",
     "text": [
      "['Alice', 'Bob', 'Charlie', 'David']\n"
     ]
    }
   ],
   "source": [
    "names = [\"Alice\", \"Bob\", \"Charlie\", \"David\"]\n",
    "\n",
    "sorted_names = sorted(names)\n",
    "\n",
    "print(sorted_names)"
   ]
  },
  {
   "cell_type": "markdown",
   "id": "8c05a98b",
   "metadata": {},
   "source": [
    "## Exercises 28:"
   ]
  },
  {
   "cell_type": "code",
   "execution_count": 20,
   "id": "ef073599",
   "metadata": {},
   "outputs": [
    {
     "data": {
      "text/plain": [
       "50"
      ]
     },
     "execution_count": 20,
     "metadata": {},
     "output_type": "execute_result"
    }
   ],
   "source": [
    "liste = [10, 20, 30, 40, 50]\n",
    "\n",
    "max(liste)"
   ]
  },
  {
   "cell_type": "markdown",
   "id": "9efb1a29",
   "metadata": {},
   "source": [
    "## Exercise 29:"
   ]
  },
  {
   "cell_type": "code",
   "execution_count": 21,
   "id": "66f2cfb6",
   "metadata": {},
   "outputs": [
    {
     "data": {
      "text/plain": [
       "2"
      ]
     },
     "execution_count": 21,
     "metadata": {},
     "output_type": "execute_result"
    }
   ],
   "source": [
    "fruits = [\"apple\", \"banana\", \"apple\", \"orange\"]\n",
    "\n",
    "fruits.count(\"apple\")"
   ]
  },
  {
   "cell_type": "markdown",
   "id": "f12814c9",
   "metadata": {},
   "source": [
    "## Exercise 30:"
   ]
  },
  {
   "cell_type": "code",
   "execution_count": 25,
   "id": "086071a2",
   "metadata": {},
   "outputs": [
    {
     "data": {
      "text/plain": [
       "'New York'"
      ]
     },
     "execution_count": 25,
     "metadata": {},
     "output_type": "execute_result"
    }
   ],
   "source": [
    "person = {\n",
    "    \"name\":\"Alice\", \"age\": 25, \"city\": \"New York\"\n",
    "}\n",
    "\n",
    "person[\"city\"]"
   ]
  },
  {
   "cell_type": "markdown",
   "id": "4fb0820f",
   "metadata": {},
   "source": [
    "## Exercise 31:"
   ]
  },
  {
   "cell_type": "code",
   "execution_count": 33,
   "id": "d0803713",
   "metadata": {},
   "outputs": [
    {
     "name": "stdout",
     "output_type": "stream",
     "text": [
      "Enter a number: 1\n",
      "Enter a number: 1\n",
      "Enter a number: 1\n",
      "Enter a number: 2\n",
      "Enter a number: 3\n",
      "Enter a number: 4\n",
      "Enter a number: 5\n"
     ]
    },
    {
     "data": {
      "text/plain": [
       "[1, 2, 3, 4]"
      ]
     },
     "execution_count": 33,
     "metadata": {},
     "output_type": "execute_result"
    }
   ],
   "source": [
    "liste = []\n",
    "a = 0\n",
    "for i in range (7):\n",
    "    a = int(input(\"Enter a number: \"))\n",
    "    liste.append(a)\n",
    "\n",
    "    \n",
    "def dupli (A):\n",
    "    liste1 = []\n",
    "    for i in A:\n",
    "        if liste.count(i) < 2:\n",
    "            liste1.append(liste[i])\n",
    "            \n",
    "    return liste1\n",
    "    \n",
    "dupli(liste)   "
   ]
  },
  {
   "cell_type": "markdown",
   "id": "95b5c466",
   "metadata": {},
   "source": [
    "## Exercise 32:"
   ]
  },
  {
   "cell_type": "code",
   "execution_count": null,
   "id": "e4886e0f",
   "metadata": {},
   "outputs": [],
   "source": [
    "fruits = [\"apple\", \"banana\", \"apple\", \"orange\"]\n",
    "\n",
    "names = [\"Alice\", \"Bob\", \"Charlie\", \"David\", \"apple\"]\n",
    "\n",
    "for i in range(min(len))\n",
    "if (i in fruits) and (i in names):\n",
    "    print(fruits[i])"
   ]
  },
  {
   "cell_type": "markdown",
   "id": "b7154503",
   "metadata": {},
   "source": [
    "## Exercise 33:"
   ]
  },
  {
   "cell_type": "code",
   "execution_count": 44,
   "id": "0a900927",
   "metadata": {},
   "outputs": [
    {
     "name": "stdout",
     "output_type": "stream",
     "text": [
      "1\n",
      "4\n",
      "9\n",
      "16\n",
      "25\n",
      "36\n",
      "49\n",
      "64\n",
      "81\n",
      "100\n"
     ]
    }
   ],
   "source": [
    "def squares_generator():\n",
    "    for i in range(1, 11):\n",
    "        yield i ** 2\n",
    "\n",
    "for square in squares_generator():\n",
    "    print(square)\n"
   ]
  },
  {
   "cell_type": "markdown",
   "id": "0e15f37f",
   "metadata": {},
   "source": [
    "## Exercise 34:"
   ]
  },
  {
   "cell_type": "code",
   "execution_count": 44,
   "id": "5938fb42",
   "metadata": {},
   "outputs": [
    {
     "data": {
      "text/plain": [
       "55"
      ]
     },
     "execution_count": 44,
     "metadata": {},
     "output_type": "execute_result"
    }
   ],
   "source": [
    "dict_1 = {i:i**2 for i in range(1,6)}\n",
    "\n",
    "def somme(A):\n",
    "    return sum(A.values())\n",
    "\n",
    "somme(dict_1)"
   ]
  },
  {
   "cell_type": "markdown",
   "id": "fe1a7906",
   "metadata": {},
   "source": [
    "## Exercise 35:"
   ]
  },
  {
   "cell_type": "code",
   "execution_count": 43,
   "id": "e36dea29",
   "metadata": {},
   "outputs": [
    {
     "name": "stdout",
     "output_type": "stream",
     "text": [
      "[1, 1, 3, 4, 5, 9]\n"
     ]
    }
   ],
   "source": [
    "numbers = [3, 1, 4, 1, 5, 9]\n",
    "\n",
    "sorted_numbers = sorted(numbers)\n",
    "\n",
    "print(sorted_numbers)\n"
   ]
  },
  {
   "cell_type": "markdown",
   "id": "4d635236",
   "metadata": {},
   "source": [
    "## Exercise 36:"
   ]
  },
  {
   "cell_type": "code",
   "execution_count": 42,
   "id": "8090ea12",
   "metadata": {},
   "outputs": [
    {
     "name": "stdout",
     "output_type": "stream",
     "text": [
      "banana\n"
     ]
    }
   ],
   "source": [
    "def longest_string(strings):\n",
    "    if not strings:  \n",
    "        return None\n",
    "    longest = strings[0]\n",
    "    for s in strings[1:]:\n",
    "        if len(s) > len(longest):\n",
    "            longest = s\n",
    "    return longest\n",
    "\n",
    "words = [\"apple\", \"banana\", \"cherry\", \"date\"]\n",
    "print(longest_string(words))\n"
   ]
  },
  {
   "cell_type": "markdown",
   "id": "d1c0b725-8e83-4067-b932-cd873f3a01c3",
   "metadata": {},
   "source": [
    "## Exercise 37:"
   ]
  },
  {
   "cell_type": "code",
   "execution_count": 40,
   "id": "8d7cf829-b864-470b-80d9-636e3244262f",
   "metadata": {},
   "outputs": [
    {
     "name": "stdout",
     "output_type": "stream",
     "text": [
      "True\n"
     ]
    }
   ],
   "source": [
    "numbers = [1, 2, 3, 4, 5]\n",
    "\n",
    "all_positive = all(x > 0 for x in numbers)\n",
    "\n",
    "print(all_positive)\n"
   ]
  },
  {
   "cell_type": "markdown",
   "id": "086d8b86-ae9f-47cc-b639-3caac9c2f663",
   "metadata": {},
   "source": [
    "## Exercise 38:"
   ]
  },
  {
   "cell_type": "code",
   "execution_count": 9,
   "id": "3173d602-7194-4c55-b3c3-659984cb447e",
   "metadata": {},
   "outputs": [
    {
     "data": {
      "text/plain": [
       "[(1, 1), (2, 4), (3, 9), (4, 16), (5, 25)]"
      ]
     },
     "execution_count": 9,
     "metadata": {},
     "output_type": "execute_result"
    }
   ],
   "source": [
    "liste = [(i, i**2) for i in range(1, 6)]\n",
    "liste"
   ]
  },
  {
   "cell_type": "markdown",
   "id": "298e61b4-a667-4280-b6ea-dbf3118b4244",
   "metadata": {},
   "source": [
    "\n",
    "## Exercise 39:"
   ]
  },
  {
   "cell_type": "code",
   "execution_count": 20,
   "id": "a6d6890b-13fb-48c5-8bd7-8c5e7c1b0920",
   "metadata": {},
   "outputs": [
    {
     "name": "stdout",
     "output_type": "stream",
     "text": [
      "5\n"
     ]
    },
    {
     "data": {
      "text/plain": [
       "[1, 4, 9, 16, 25]"
      ]
     },
     "execution_count": 20,
     "metadata": {},
     "output_type": "execute_result"
    }
   ],
   "source": [
    "print(len(liste))\n",
    "def tuples(A):\n",
    "    liste = []\n",
    "    for i in range(len(A)):\n",
    "        liste.append(A[i][1])\n",
    "    return liste\n",
    "\n",
    "tuples([(i, i**2) for i in range(1, 6)])"
   ]
  },
  {
   "cell_type": "markdown",
   "id": "93a5a4f6-a029-4f2a-aafa-d7c3afe7f84e",
   "metadata": {},
   "source": [
    "## Exercise 40:"
   ]
  },
  {
   "cell_type": "code",
   "execution_count": 39,
   "id": "0bbcd34b-836c-47ee-8192-cc7a4e4a89f0",
   "metadata": {},
   "outputs": [
    {
     "name": "stdout",
     "output_type": "stream",
     "text": [
      "[1, 2, 3, 4, 5, 6]\n"
     ]
    }
   ],
   "source": [
    "def flatten_list(nested_list):\n",
    "    flat_list = []\n",
    "    for sublist in nested_list:\n",
    "        for item in sublist:\n",
    "            flat_list.append(item)\n",
    "    return flat_list\n",
    "\n",
    "nested = [[1, 2], [3, 4], [5, 6]]\n",
    "print(flatten_list(nested))\n"
   ]
  },
  {
   "cell_type": "markdown",
   "id": "17054d02-adac-46b2-b686-d5f4f8768633",
   "metadata": {},
   "source": [
    "## Exercise 41:"
   ]
  },
  {
   "cell_type": "code",
   "execution_count": 38,
   "id": "173273c6-0a13-4d6a-8984-fa195517182f",
   "metadata": {},
   "outputs": [
    {
     "name": "stdout",
     "output_type": "stream",
     "text": [
      "0 apple\n",
      "1 banana\n",
      "2 cherry\n"
     ]
    }
   ],
   "source": [
    "fruits = [\"apple\", \"banana\", \"cherry\"]\n",
    "\n",
    "for index, value in enumerate(fruits):\n",
    "    print(index, value)\n"
   ]
  },
  {
   "cell_type": "markdown",
   "id": "34595955-139c-42d0-9561-ebb02f343d17",
   "metadata": {},
   "source": [
    "## Exercise 42:"
   ]
  },
  {
   "cell_type": "code",
   "execution_count": 29,
   "id": "c1131ee3-69aa-4f6e-951f-a5c6d943b733",
   "metadata": {},
   "outputs": [],
   "source": [
    "A = ()\n",
    "\n",
    "for i in range(len(A)):\n",
    "    if A[i] == () :\n",
    "        print(\"A is empty set\")\n",
    "    else:\n",
    "        print(\"A contain at least one element\")\n"
   ]
  },
  {
   "cell_type": "markdown",
   "id": "485c0bb1-7edf-4a1c-83a5-f03f403911ff",
   "metadata": {},
   "source": [
    "## Exercise 43:"
   ]
  },
  {
   "cell_type": "code",
   "execution_count": 33,
   "id": "b77c8469-b5b8-4a29-83a5-58a864b80a71",
   "metadata": {},
   "outputs": [
    {
     "name": "stdout",
     "output_type": "stream",
     "text": [
      "2\n",
      "4\n",
      "6\n",
      "8\n",
      "10\n",
      "12\n",
      "14\n",
      "16\n",
      "18\n",
      "20\n"
     ]
    }
   ],
   "source": [
    "for i in range(2, 21, 2):\n",
    "    print(i)"
   ]
  },
  {
   "cell_type": "markdown",
   "id": "b286510c-ac23-4569-a7f2-b4060534b440",
   "metadata": {},
   "source": [
    "## Exercise 44:"
   ]
  },
  {
   "cell_type": "code",
   "execution_count": 37,
   "id": "e57d54cd-14a6-4c81-9e35-4646aaed407a",
   "metadata": {},
   "outputs": [
    {
     "name": "stdout",
     "output_type": "stream",
     "text": [
      "[5, 4, 3, 2, 1]\n"
     ]
    }
   ],
   "source": [
    "def reverse_list(numbers):\n",
    "    reversed_numbers = []\n",
    "    for i in range(len(numbers)-1, -1, -1):\n",
    "        reversed_numbers.append(numbers[i])\n",
    "    return reversed_numbers\n",
    "\n",
    "nums = [1, 2, 3, 4, 5]\n",
    "print(reverse_list(nums))\n"
   ]
  },
  {
   "cell_type": "markdown",
   "id": "078df83b-77a5-47ad-b0f6-4661923ba690",
   "metadata": {},
   "source": [
    "## Exercise 45:"
   ]
  },
  {
   "cell_type": "code",
   "execution_count": 48,
   "id": "4433adf1-63f9-41f5-b8eb-08d5948b5db3",
   "metadata": {},
   "outputs": [
    {
     "data": {
      "text/plain": [
       "{1: 1, 2: 8, 3: 27, 4: 64, 5: 125}"
      ]
     },
     "execution_count": 48,
     "metadata": {},
     "output_type": "execute_result"
    }
   ],
   "source": [
    "dict_2 = {i:i**3 for i in range(1, 6)}\n",
    "dict_2\n"
   ]
  },
  {
   "cell_type": "markdown",
   "id": "197623fc-4bd0-44f8-8454-906b5f60f6a3",
   "metadata": {},
   "source": [
    "## Exercise 46:"
   ]
  },
  {
   "cell_type": "code",
   "execution_count": 50,
   "id": "b70a9d0f-8143-4fb6-8088-e2164c44cb1f",
   "metadata": {},
   "outputs": [
    {
     "data": {
      "text/plain": [
       "[1, 3, 5, 6]"
      ]
     },
     "execution_count": 50,
     "metadata": {},
     "output_type": "execute_result"
    }
   ],
   "source": [
    "A = [1, 2, 2, 3, 4, 4, 5]\n",
    "B = []\n",
    "\n",
    "for i in range(1, len(A)):\n",
    "    if A.count(i) < 2:\n",
    "        B.append(i)\n",
    "\n",
    "B"
   ]
  },
  {
   "cell_type": "markdown",
   "id": "4e1c4914-33d4-4f6f-a9f4-c21dd0bd98ff",
   "metadata": {},
   "source": [
    "## Exercise 47:"
   ]
  },
  {
   "cell_type": "code",
   "execution_count": 36,
   "id": "1fa01d03-a366-4d68-9130-dbcda03649aa",
   "metadata": {},
   "outputs": [
    {
     "name": "stdout",
     "output_type": "stream",
     "text": [
      "[25, 30]\n"
     ]
    }
   ],
   "source": [
    "def get_values(dict_list, key):\n",
    "    return [d[key] for d in dict_list if key in d]\n",
    "\n",
    "data = [\n",
    "    {'name': 'Alice', 'age': 25},\n",
    "    {'name': 'Bob', 'age': 30},\n",
    "    {'name': 'Charlie'}\n",
    "]\n",
    "\n",
    "ages = get_values(data, 'age')\n",
    "print(ages)\n"
   ]
  },
  {
   "cell_type": "markdown",
   "id": "c995da85",
   "metadata": {},
   "source": [
    "## Exercise 48:"
   ]
  },
  {
   "cell_type": "code",
   "execution_count": 7,
   "id": "fc835948",
   "metadata": {},
   "outputs": [
    {
     "data": {
      "text/plain": [
       "[0, 1, 1, 2, 3, 5, 8, 13, 21, 34, 55]"
      ]
     },
     "execution_count": 7,
     "metadata": {},
     "output_type": "execute_result"
    }
   ],
   "source": [
    "def fibonacci(n):\n",
    "    F = [i for i in range(n+1)]\n",
    "    F[0] = 0\n",
    "    F[1] = 1\n",
    "\n",
    "    for i in range(2, n+1):\n",
    "        F[i] = F[i-1] + F[i-2]\n",
    "    return F\n",
    "\n",
    "fibonacci(10)"
   ]
  },
  {
   "cell_type": "markdown",
   "id": "69571e94",
   "metadata": {},
   "source": [
    "## Exercise 49:"
   ]
  },
  {
   "cell_type": "code",
   "execution_count": 35,
   "id": "881b59ed",
   "metadata": {},
   "outputs": [
    {
     "name": "stdout",
     "output_type": "stream",
     "text": [
      "[' ', 'w', 'o', 'h', 'e', 'l', 'r', 'd']\n"
     ]
    }
   ],
   "source": [
    "def unique_characters(s):\n",
    "    return list(set(s))\n",
    "\n",
    "text = \"hello world\"\n",
    "result = unique_characters(text)\n",
    "print(result)\n"
   ]
  },
  {
   "cell_type": "markdown",
   "id": "ec58ec6f",
   "metadata": {},
   "source": [
    "## Exercise 50:"
   ]
  },
  {
   "cell_type": "code",
   "execution_count": 11,
   "id": "89729bb7",
   "metadata": {},
   "outputs": [
    {
     "data": {
      "text/plain": [
       "[0, 1, 1, 2, 3, 5, 8, 13, 21, 34, 55, 'bonjour', 'hello']"
      ]
     },
     "execution_count": 11,
     "metadata": {},
     "output_type": "execute_result"
    }
   ],
   "source": [
    "A = fibonacci(10)\n",
    "B = [\"bonjour\", \"hello\"]\n",
    "\n",
    "A.extend(B)\n",
    "A"
   ]
  },
  {
   "cell_type": "markdown",
   "id": "d56684af",
   "metadata": {},
   "source": [
    "## Exercise 51:"
   ]
  },
  {
   "cell_type": "code",
   "execution_count": 34,
   "id": "7b8cb5f1",
   "metadata": {},
   "outputs": [
    {
     "name": "stdout",
     "output_type": "stream",
     "text": [
      "[2, 4, 6]\n"
     ]
    }
   ],
   "source": [
    "numbers = [1, 2, 3, 4, 5, 6]\n",
    "\n",
    "even_numbers = list(filter(lambda x: x % 2 == 0, numbers))\n",
    "\n",
    "print(even_numbers)\n"
   ]
  },
  {
   "cell_type": "markdown",
   "id": "72b7dda6",
   "metadata": {},
   "source": [
    "## Exercise 52:"
   ]
  },
  {
   "cell_type": "code",
   "execution_count": 13,
   "id": "5e473b40",
   "metadata": {},
   "outputs": [
    {
     "data": {
      "text/plain": [
       "{1: 2, 3: 4, 5: 6}"
      ]
     },
     "execution_count": 13,
     "metadata": {},
     "output_type": "execute_result"
    }
   ],
   "source": [
    "A = [(1, 2), (3, 4), (5, 6)]\n",
    "dict(A)"
   ]
  },
  {
   "cell_type": "markdown",
   "id": "d578603d",
   "metadata": {},
   "source": [
    "## Exercise 53:"
   ]
  },
  {
   "cell_type": "code",
   "execution_count": 33,
   "id": "6dca72aa",
   "metadata": {},
   "outputs": [
    {
     "name": "stdout",
     "output_type": "stream",
     "text": [
      "{1, 2, 5, 6}\n"
     ]
    }
   ],
   "source": [
    "def symmetric_difference(set1, set2):\n",
    "    return set1 ^ set2  \n",
    "\n",
    "set_a = {1, 2, 3, 4}\n",
    "set_b = {3, 4, 5, 6}\n",
    "\n",
    "result = symmetric_difference(set_a, set_b)\n",
    "print(result)\n"
   ]
  },
  {
   "cell_type": "markdown",
   "id": "67657405",
   "metadata": {},
   "source": [
    "## Exercise 54:"
   ]
  },
  {
   "cell_type": "code",
   "execution_count": 16,
   "id": "2bd26b0f",
   "metadata": {},
   "outputs": [
    {
     "data": {
      "text/plain": [
       "[2]"
      ]
     },
     "execution_count": 16,
     "metadata": {},
     "output_type": "execute_result"
    }
   ],
   "source": [
    "list1 = [1, 2, 3, 4, 5, 6] \n",
    "\n",
    "list2 = [2, 1, 3, 5, 8, 9]  \n",
    "\n",
    "list3 = [2, 7, 0, 10, 4]\n",
    "\n",
    "intercept = set(list1) & set(list2) & set(list3)\n",
    "Common = list(intercept)\n",
    "Common"
   ]
  },
  {
   "cell_type": "markdown",
   "id": "ccccf997",
   "metadata": {},
   "source": [
    "## Exercise 55:"
   ]
  },
  {
   "cell_type": "code",
   "execution_count": 17,
   "id": "fda99f1f",
   "metadata": {},
   "outputs": [
    {
     "data": {
      "text/plain": [
       "24"
      ]
     },
     "execution_count": 17,
     "metadata": {},
     "output_type": "execute_result"
    }
   ],
   "source": [
    "def fact(n):\n",
    "    if n <= 1:  \n",
    "        return 1\n",
    "    return n * fact(n-1) \n",
    "\n",
    "fact(4)"
   ]
  },
  {
   "cell_type": "markdown",
   "id": "5238fcc0",
   "metadata": {},
   "source": [
    "## Exercise 56:"
   ]
  },
  {
   "cell_type": "code",
   "execution_count": 20,
   "id": "fa43922e",
   "metadata": {},
   "outputs": [
    {
     "data": {
      "text/plain": [
       "['apple', 'banana', 'cherry']"
      ]
     },
     "execution_count": 20,
     "metadata": {},
     "output_type": "execute_result"
    }
   ],
   "source": [
    "A = [\"apple\", \"\", \"banana\", \"\", \"cherry\"]\n",
    "\n",
    "del A[1:4:2]\n",
    "\n",
    "A"
   ]
  },
  {
   "cell_type": "markdown",
   "id": "d979afd1",
   "metadata": {},
   "source": [
    "## Exercise 57:"
   ]
  },
  {
   "cell_type": "code",
   "execution_count": 32,
   "id": "aaf46679",
   "metadata": {},
   "outputs": [
    {
     "name": "stdout",
     "output_type": "stream",
     "text": [
      "{1: 'a', 2: 'b', 3: 'c'}\n"
     ]
    }
   ],
   "source": [
    "def swap_dict(d):\n",
    "    return {value: key for key, value in d.items()}\n",
    "\n",
    "my_dict = {'a': 1, 'b': 2, 'c': 3}\n",
    "swapped = swap_dict(my_dict)\n",
    "print(swapped)\n"
   ]
  },
  {
   "cell_type": "markdown",
   "id": "bece3875",
   "metadata": {},
   "source": [
    "## Exercise 58:"
   ]
  },
  {
   "cell_type": "code",
   "execution_count": 28,
   "id": "48534f65",
   "metadata": {},
   "outputs": [
    {
     "data": {
      "text/plain": [
       "[2, 4, 6]"
      ]
     },
     "execution_count": 28,
     "metadata": {},
     "output_type": "execute_result"
    }
   ],
   "source": [
    "list1 = [1, 2, 3, 4, 5, 6] \n",
    "\n",
    "def even_number(A):\n",
    "    liste4 = []\n",
    "\n",
    "    for i in range(len(list1)):\n",
    "        if list1[i] % 2 == 0:\n",
    "            liste4.append(list1[i])\n",
    "        \n",
    "    return liste4\n",
    "        \n",
    "even_number(list1)"
   ]
  },
  {
   "cell_type": "markdown",
   "id": "b93ce447",
   "metadata": {},
   "source": [
    "## Exercise 59:"
   ]
  },
  {
   "cell_type": "code",
   "execution_count": 29,
   "id": "cbafc66e",
   "metadata": {},
   "outputs": [
    {
     "data": {
      "text/plain": [
       "[1, 3, 5]"
      ]
     },
     "execution_count": 29,
     "metadata": {},
     "output_type": "execute_result"
    }
   ],
   "source": [
    "A = [(1, 2), (3, 4), (5, 6)]\n",
    "\n",
    "def element(elt):\n",
    "    element = []\n",
    "    for i in range(len(elt)):\n",
    "        element.append(elt[i][0])\n",
    "        \n",
    "    return element\n",
    "\n",
    "element(A)"
   ]
  },
  {
   "cell_type": "markdown",
   "id": "1dc8a763",
   "metadata": {},
   "source": [
    "## Exercise 60:"
   ]
  },
  {
   "cell_type": "code",
   "execution_count": 37,
   "id": "66d46486",
   "metadata": {},
   "outputs": [
    {
     "data": {
      "text/plain": [
       "[1, 4, 2, 6]"
      ]
     },
     "execution_count": 37,
     "metadata": {},
     "output_type": "execute_result"
    }
   ],
   "source": [
    "list1 = [1, 2, 1, 4, 2, 6]\n",
    "\n",
    "unique = []\n",
    "\n",
    "for i in range(len(list1)):\n",
    "    if list1.count(i) < 2:\n",
    "        unique.append(list1[i])\n",
    "        \n",
    "unique"
   ]
  },
  {
   "cell_type": "markdown",
   "id": "7647ae49",
   "metadata": {},
   "source": [
    "## Exercise 61:"
   ]
  },
  {
   "cell_type": "code",
   "execution_count": 31,
   "id": "400b4baf",
   "metadata": {},
   "outputs": [
    {
     "name": "stdout",
     "output_type": "stream",
     "text": [
      "[5, 6, 6]\n"
     ]
    }
   ],
   "source": [
    "words = [\"apple\", \"banana\", \"cherry\"]\n",
    "\n",
    "lengths = list(map(len, words))\n",
    "\n",
    "print(lengths)\n"
   ]
  },
  {
   "cell_type": "markdown",
   "id": "19ba3303",
   "metadata": {},
   "source": [
    "## Exercie 62:"
   ]
  },
  {
   "cell_type": "code",
   "execution_count": 41,
   "id": "3d5375d9",
   "metadata": {},
   "outputs": [
    {
     "data": {
      "text/plain": [
       "2.6666666666666665"
      ]
     },
     "execution_count": 41,
     "metadata": {},
     "output_type": "execute_result"
    }
   ],
   "source": [
    "list1 = [1, 2, 1, 4, 2, 6]\n",
    "\n",
    "mean = sum(list1) / len(list1)\n",
    "\n",
    "mean"
   ]
  },
  {
   "cell_type": "markdown",
   "id": "cc53ced0",
   "metadata": {},
   "source": [
    "## Exercise 63:"
   ]
  },
  {
   "cell_type": "code",
   "execution_count": 43,
   "id": "43c84138",
   "metadata": {},
   "outputs": [
    {
     "data": {
      "text/plain": [
       "[0,\n",
       " 1,\n",
       " 1,\n",
       " 2,\n",
       " 3,\n",
       " 5,\n",
       " 8,\n",
       " 13,\n",
       " 21,\n",
       " 34,\n",
       " 55,\n",
       " 89,\n",
       " 144,\n",
       " 233,\n",
       " 377,\n",
       " 610,\n",
       " 987,\n",
       " 1597,\n",
       " 2584,\n",
       " 4181,\n",
       " 6765]"
      ]
     },
     "execution_count": 43,
     "metadata": {},
     "output_type": "execute_result"
    }
   ],
   "source": [
    "def fibonacci(n):\n",
    "    F = [i for i in range(n+1)]\n",
    "    F[0] = 0\n",
    "    F[1] = 1\n",
    "\n",
    "    for i in range(2, n+1):\n",
    "        F[i] = F[i-1] + F[i-2]\n",
    "    return F\n",
    "\n",
    "fibonacci(20)"
   ]
  },
  {
   "cell_type": "markdown",
   "id": "d71bcdaa",
   "metadata": {},
   "source": [
    "## Exercise 64:"
   ]
  },
  {
   "cell_type": "code",
   "execution_count": 44,
   "id": "63549b96",
   "metadata": {},
   "outputs": [
    {
     "name": "stdout",
     "output_type": "stream",
     "text": [
      "apple apparait 0\n",
      "banana apparait 0\n",
      "apple apparait 0\n",
      "cherry apparait 0\n"
     ]
    }
   ],
   "source": [
    "A = [\"apple\", \"banana\", \"apple\", \"cherry\"]\n",
    "\n",
    "for i in range(len(A)):\n",
    "    print(\"{} apparait {}\".format(A[i], A.count(i)))"
   ]
  },
  {
   "cell_type": "markdown",
   "id": "2120414b",
   "metadata": {},
   "source": [
    "## Exercise 65:"
   ]
  },
  {
   "cell_type": "code",
   "execution_count": 30,
   "id": "e5a3a2e3",
   "metadata": {},
   "outputs": [
    {
     "name": "stdout",
     "output_type": "stream",
     "text": [
      "[1, 3, 4, 5]\n"
     ]
    }
   ],
   "source": [
    "def remove_value(lst, value):\n",
    "    return [x for x in lst if x != value]\n",
    "\n",
    "numbers = [1, 2, 3, 2, 4, 2, 5]\n",
    "value_to_remove = 2\n",
    "\n",
    "result = remove_value(numbers, value_to_remove)\n",
    "print(result)\n"
   ]
  },
  {
   "cell_type": "markdown",
   "id": "a523e894",
   "metadata": {},
   "source": [
    "## Exercise 66:"
   ]
  },
  {
   "cell_type": "code",
   "execution_count": 45,
   "id": "0fe15330",
   "metadata": {},
   "outputs": [
    {
     "data": {
      "text/plain": [
       "['apple', 'orange']"
      ]
     },
     "execution_count": 45,
     "metadata": {},
     "output_type": "execute_result"
    }
   ],
   "source": [
    "A = [\"apple\", \"banana\", \"orange\", \"cherry\"]\n",
    "\n",
    "B = []\n",
    "for i in range(len(A)):\n",
    "    if A[i][0] in \"aeiouyAEOIUY\":\n",
    "        B.append(A[i])\n",
    "        \n",
    "B\n",
    "        "
   ]
  },
  {
   "cell_type": "markdown",
   "id": "24c05226",
   "metadata": {},
   "source": [
    "## Exercise 67:"
   ]
  },
  {
   "cell_type": "code",
   "execution_count": 29,
   "id": "bc09e4a3",
   "metadata": {},
   "outputs": [
    {
     "name": "stdout",
     "output_type": "stream",
     "text": [
      "Intersection: {4, 5}\n"
     ]
    }
   ],
   "source": [
    "set1 = {1, 2, 3, 4, 5}\n",
    "set2 = {4, 5, 6, 7, 8}\n",
    "\n",
    "intersection = set1 & set2  \n",
    "\n",
    "print(\"Intersection:\", intersection)\n"
   ]
  },
  {
   "cell_type": "markdown",
   "id": "30829e96",
   "metadata": {},
   "source": [
    "## Exercise 68:"
   ]
  },
  {
   "cell_type": "code",
   "execution_count": 28,
   "id": "f0e2ada2",
   "metadata": {},
   "outputs": [
    {
     "name": "stdout",
     "output_type": "stream",
     "text": [
      "[1, 2, 3, 4, 5]\n"
     ]
    }
   ],
   "source": [
    "def flatten(nested_list):\n",
    "    flat_list = []\n",
    "    for sublist in nested_list:\n",
    "        for item in sublist:\n",
    "            flat_list.append(item)\n",
    "    return flat_list\n",
    "\n",
    "nested = [[1, 2], [3, 4], [5]]\n",
    "print(flatten(nested))\n"
   ]
  },
  {
   "cell_type": "markdown",
   "id": "e3a019b0",
   "metadata": {},
   "source": [
    "## Exercise 69:"
   ]
  },
  {
   "cell_type": "code",
   "execution_count": 27,
   "id": "86339ca3",
   "metadata": {},
   "outputs": [
    {
     "name": "stdout",
     "output_type": "stream",
     "text": [
      "True\n",
      "False\n"
     ]
    }
   ],
   "source": [
    "def all_unique(lst):\n",
    "    return len(lst) == len(set(lst))\n",
    "\n",
    "numbers1 = [1, 2, 3, 4, 5]\n",
    "numbers2 = [1, 2, 3, 2, 5]\n",
    "\n",
    "print(all_unique(numbers1))  \n",
    "print(all_unique(numbers2)) \n"
   ]
  },
  {
   "cell_type": "markdown",
   "id": "cb2f9948",
   "metadata": {},
   "source": [
    "##  Exercise 70:"
   ]
  },
  {
   "cell_type": "code",
   "execution_count": 26,
   "id": "11247e2d",
   "metadata": {},
   "outputs": [
    {
     "name": "stdout",
     "output_type": "stream",
     "text": [
      "Product of all elements: 120\n"
     ]
    }
   ],
   "source": [
    "from functools import reduce\n",
    "\n",
    "def multiply_list(numbers):\n",
    "    return reduce(lambda x, y: x * y, numbers)\n",
    "\n",
    "nums = [1, 2, 3, 4, 5]\n",
    "result = multiply_list(nums)\n",
    "print(\"Product of all elements:\", result)\n"
   ]
  },
  {
   "cell_type": "markdown",
   "id": "e89e5adf",
   "metadata": {},
   "source": [
    "## Exercise 71:"
   ]
  },
  {
   "cell_type": "code",
   "execution_count": 8,
   "id": "ae669901",
   "metadata": {},
   "outputs": [
    {
     "data": {
      "text/plain": [
       "{'apple': 5, 'banana': 6, 'orange': 6, 'cherry': 6}"
      ]
     },
     "execution_count": 8,
     "metadata": {},
     "output_type": "execute_result"
    }
   ],
   "source": [
    "var = [\"apple\", \"banana\", \"orange\", \"cherry\"]\n",
    "\n",
    "def dictionary(X):\n",
    "    dict_1 = {X[i]:len(X[i]) for i in range(len(X))}\n",
    "    return dict_1\n",
    "    \n",
    "dictionary(var)"
   ]
  },
  {
   "cell_type": "markdown",
   "id": "6dbcddfe",
   "metadata": {},
   "source": [
    "## Exercise 72:"
   ]
  },
  {
   "cell_type": "code",
   "execution_count": 9,
   "id": "5a85062e",
   "metadata": {},
   "outputs": [
    {
     "data": {
      "text/plain": [
       "13"
      ]
     },
     "execution_count": 9,
     "metadata": {},
     "output_type": "execute_result"
    }
   ],
   "source": [
    "A = \"helo, how are you? And your night?\"\n",
    "\n",
    "somme = 0\n",
    "\n",
    "for i in range(len(A)):\n",
    "    if A[i] in \"aeiouyAEOIUY\":\n",
    "        somme = somme + 1\n",
    "        \n",
    "somme"
   ]
  },
  {
   "cell_type": "markdown",
   "id": "96b51e89",
   "metadata": {},
   "source": [
    "## Exercise 73:"
   ]
  },
  {
   "cell_type": "code",
   "execution_count": 10,
   "id": "d1f422f5",
   "metadata": {},
   "outputs": [
    {
     "name": "stdout",
     "output_type": "stream",
     "text": [
      "[(1, 1), (2, 2), (3, 6), (4, 24)]\n"
     ]
    }
   ],
   "source": [
    "def fact(n):\n",
    "    if n <= 1:  \n",
    "        return 1\n",
    "    return n * fact(n-1) \n",
    "\n",
    "\n",
    "\n",
    "liste = [(i,fact(i)) for i in range(1,5)]\n",
    "print(liste)"
   ]
  },
  {
   "cell_type": "markdown",
   "id": "3c3b398b",
   "metadata": {},
   "source": [
    "## Exercise 74:"
   ]
  },
  {
   "cell_type": "code",
   "execution_count": 12,
   "id": "deaf67ef",
   "metadata": {},
   "outputs": [
    {
     "data": {
      "text/plain": [
       "{'apple': 5,\n",
       " 'banana': 6,\n",
       " 'orange': 6,\n",
       " 'cherry': 6,\n",
       " 'pomme': 5,\n",
       " 'juit': 4,\n",
       " 'patatoes': 8,\n",
       " 'raperi': 6}"
      ]
     },
     "execution_count": 12,
     "metadata": {},
     "output_type": "execute_result"
    }
   ],
   "source": [
    "voix = [\"pomme\", \"juit\", \"patatoes\", \"raperi\"]\n",
    "\n",
    "dict1 = dictionary(var)\n",
    "dict2 = dictionary(voix)\n",
    "\n",
    "dict1.update(dict2)\n",
    "dict1"
   ]
  },
  {
   "cell_type": "markdown",
   "id": "d2aca2c9",
   "metadata": {},
   "source": [
    "## Exercise 75:"
   ]
  },
  {
   "cell_type": "code",
   "execution_count": 13,
   "id": "0ba04668",
   "metadata": {},
   "outputs": [
    {
     "data": {
      "text/plain": [
       "False"
      ]
     },
     "execution_count": 13,
     "metadata": {},
     "output_type": "execute_result"
    }
   ],
   "source": [
    "set1 = {\"1\", '2', '3', '5', '7'}\n",
    "\n",
    "set2 = {'3', '6'}\n",
    "\n",
    "set2 in set1"
   ]
  },
  {
   "cell_type": "markdown",
   "id": "d96bfce6",
   "metadata": {},
   "source": [
    "## Exercise 76:"
   ]
  },
  {
   "cell_type": "code",
   "execution_count": 25,
   "id": "5df429cc",
   "metadata": {},
   "outputs": [
    {
     "name": "stdout",
     "output_type": "stream",
     "text": [
      "[(3, 2), (2, 3), (1, 5), (4, 7)]\n"
     ]
    }
   ],
   "source": [
    "def sort_by_second(tuples_list):\n",
    "    return sorted(tuples_list, key=lambda x: x[1])\n",
    "\n",
    "data = [(1, 5), (3, 2), (4, 7), (2, 3)]\n",
    "sorted_data = sort_by_second(data)\n",
    "print(sorted_data)\n"
   ]
  },
  {
   "cell_type": "markdown",
   "id": "aefef4c9",
   "metadata": {},
   "source": [
    "## Exercise 77:"
   ]
  },
  {
   "cell_type": "code",
   "execution_count": 14,
   "id": "5c703e6f",
   "metadata": {},
   "outputs": [
    {
     "data": {
      "text/plain": [
       "[1, 2, 3]"
      ]
     },
     "execution_count": 14,
     "metadata": {},
     "output_type": "execute_result"
    }
   ],
   "source": [
    "def interger(var):\n",
    "    liste = []\n",
    "    for i in var:\n",
    "        if i >= 0:\n",
    "            liste.append(i)\n",
    "    return liste\n",
    "\n",
    "A = [1,2,3,-5,-7,-9, -55]\n",
    "\n",
    "interger(A)"
   ]
  },
  {
   "cell_type": "markdown",
   "id": "f2a0d417",
   "metadata": {},
   "source": [
    "## Exercise 78:"
   ]
  },
  {
   "cell_type": "code",
   "execution_count": 16,
   "id": "d20db548",
   "metadata": {},
   "outputs": [
    {
     "data": {
      "text/plain": [
       "{'1', '2', '3', '5', '6', '7'}"
      ]
     },
     "execution_count": 16,
     "metadata": {},
     "output_type": "execute_result"
    }
   ],
   "source": [
    "def union(A,B):\n",
    "    set3 = A | B\n",
    "    return set3\n",
    "\n",
    "union(set1, set2)"
   ]
  },
  {
   "cell_type": "markdown",
   "id": "b38e81a3",
   "metadata": {},
   "source": [
    "## Exercise 79:"
   ]
  },
  {
   "cell_type": "code",
   "execution_count": 17,
   "id": "8e597397",
   "metadata": {},
   "outputs": [
    {
     "data": {
      "text/plain": [
       "103950"
      ]
     },
     "execution_count": 17,
     "metadata": {},
     "output_type": "execute_result"
    }
   ],
   "source": [
    "def product(var):\n",
    "    product = 1\n",
    "    for i in var:\n",
    "        product = product * i\n",
    "    return product\n",
    "\n",
    "A = [1,2,3,-5,-7,-9, -55]\n",
    "\n",
    "product(A)"
   ]
  },
  {
   "cell_type": "markdown",
   "id": "32517741",
   "metadata": {},
   "source": [
    "## Exercise 80:"
   ]
  },
  {
   "cell_type": "code",
   "execution_count": 24,
   "id": "a6f3dc91",
   "metadata": {},
   "outputs": [
    {
     "name": "stdout",
     "output_type": "stream",
     "text": [
      "Hello\n"
     ]
    }
   ],
   "source": [
    "def chars_to_string(char_list):\n",
    "    return ''.join(char_list)\n",
    "\n",
    "chars = ['H', 'e', 'l', 'l', 'o']\n",
    "result = chars_to_string(chars)\n",
    "print(result)\n"
   ]
  },
  {
   "cell_type": "markdown",
   "id": "2799574b",
   "metadata": {},
   "source": [
    "## Exercise 81:"
   ]
  },
  {
   "cell_type": "code",
   "execution_count": 2,
   "id": "2bfb215b",
   "metadata": {},
   "outputs": [
    {
     "data": {
      "text/plain": [
       "8"
      ]
     },
     "execution_count": 2,
     "metadata": {},
     "output_type": "execute_result"
    }
   ],
   "source": [
    "def second_largest(numbers):\n",
    "    numbers = list(set(numbers))     \n",
    "    numbers.sort()                    \n",
    "    return numbers[-2]                \n",
    "\n",
    "liste = [3, 8, 1, 5, 8, 9]\n",
    "second_largest(liste)\n"
   ]
  },
  {
   "cell_type": "markdown",
   "id": "6858e061",
   "metadata": {},
   "source": [
    "## Exercise 82:"
   ]
  },
  {
   "cell_type": "code",
   "execution_count": 3,
   "id": "29db48cc",
   "metadata": {},
   "outputs": [
    {
     "name": "stdout",
     "output_type": "stream",
     "text": [
      "['apple', 'banana', 'cherry']\n"
     ]
    }
   ],
   "source": [
    "def sorted_keys(d):\n",
    "    return sorted(d.keys())\n",
    "\n",
    "my_dict = {'banana': 3, 'apple': 5, 'cherry': 2}\n",
    "print(sorted_keys(my_dict))\n"
   ]
  },
  {
   "cell_type": "markdown",
   "id": "80f7476b",
   "metadata": {},
   "source": [
    "## Exercise 83:"
   ]
  },
  {
   "cell_type": "code",
   "execution_count": 5,
   "id": "c57d8346",
   "metadata": {},
   "outputs": [
    {
     "data": {
      "text/plain": [
       "3"
      ]
     },
     "execution_count": 5,
     "metadata": {},
     "output_type": "execute_result"
    }
   ],
   "source": [
    "def most_common_element(lst):\n",
    "    return max(set(lst), key=lst.count)\n",
    "\n",
    "numbers = [1, 3, 2, 3, 4, 3, 2, 1]\n",
    "most_common_element(numbers)\n"
   ]
  },
  {
   "cell_type": "markdown",
   "id": "b0d958c8",
   "metadata": {},
   "source": [
    "## Exercise 84:"
   ]
  },
  {
   "cell_type": "code",
   "execution_count": 6,
   "id": "fc52061a",
   "metadata": {},
   "outputs": [
    {
     "data": {
      "text/plain": [
       "[(1, 'banana'), (2, 'cherry'), (3, 'apple')]"
      ]
     },
     "execution_count": 6,
     "metadata": {},
     "output_type": "execute_result"
    }
   ],
   "source": [
    "def sort_by_first(tuples_list):\n",
    "    return sorted(tuples_list, key=lambda x: x[0])\n",
    "\n",
    "data = [(3, 'apple'), (1, 'banana'), (2, 'cherry')]\n",
    "sort_by_first(data)\n"
   ]
  },
  {
   "cell_type": "markdown",
   "id": "c2f74031",
   "metadata": {},
   "source": [
    "## Exercise 85:"
   ]
  },
  {
   "cell_type": "code",
   "execution_count": 7,
   "id": "d6370de7",
   "metadata": {},
   "outputs": [
    {
     "data": {
      "text/plain": [
       "[{'name': 'Alice', 'age': 25},\n",
       " {'name': 'Bob', 'age': 30},\n",
       " {'name': 'Charlie', 'age': 35}]"
      ]
     },
     "execution_count": 7,
     "metadata": {},
     "output_type": "execute_result"
    }
   ],
   "source": [
    "def remove_duplicate_dicts(dict_list):\n",
    "    unique_dicts = []\n",
    "    for d in dict_list:\n",
    "        if d not in unique_dicts:\n",
    "            unique_dicts.append(d)\n",
    "    return unique_dicts\n",
    "\n",
    "\n",
    "data = [\n",
    "    {'name': 'Alice', 'age': 25},\n",
    "    {'name': 'Bob', 'age': 30},\n",
    "    {'name': 'Alice', 'age': 25},  \n",
    "    {'name': 'Charlie', 'age': 35}\n",
    "]\n",
    "\n",
    "remove_duplicate_dicts(data)\n"
   ]
  },
  {
   "cell_type": "markdown",
   "id": "b57b355c",
   "metadata": {},
   "source": [
    "## Exercise 86:"
   ]
  },
  {
   "cell_type": "code",
   "execution_count": 9,
   "id": "55d9cc2c",
   "metadata": {},
   "outputs": [
    {
     "name": "stdout",
     "output_type": "stream",
     "text": [
      "1\n",
      "9\n"
     ]
    }
   ],
   "source": [
    "def find_min_max(numbers):\n",
    "    return min(numbers), max(numbers)\n",
    "\n",
    "\n",
    "nums = [5, 2, 9, 1, 7]\n",
    "minimum, maximum = find_min_max(nums)\n",
    "print(minimum)\n",
    "print(maximum)\n"
   ]
  },
  {
   "cell_type": "markdown",
   "id": "eaae0d47",
   "metadata": {},
   "source": [
    "## Exercise 87:"
   ]
  },
  {
   "cell_type": "code",
   "execution_count": 10,
   "id": "0ea9a36d",
   "metadata": {},
   "outputs": [
    {
     "name": "stdout",
     "output_type": "stream",
     "text": [
      "[('Alice', 25), ('Bob', 30), ('Charlie', 35)]\n"
     ]
    }
   ],
   "source": [
    "def create_tuples(list1, list2):\n",
    "    return list(zip(list1, list2))\n",
    "\n",
    "names = ['Alice', 'Bob', 'Charlie']\n",
    "ages = [25, 30, 35]\n",
    "\n",
    "result = create_tuples(names, ages)\n",
    "print(result)\n"
   ]
  },
  {
   "cell_type": "markdown",
   "id": "13b5bd6a-70a2-40a0-9a86-893bc77e4dd7",
   "metadata": {},
   "source": [
    "## Exercise 88:"
   ]
  },
  {
   "cell_type": "code",
   "execution_count": 11,
   "id": "9b439402-6d8d-4453-a8be-a203c6ccefc8",
   "metadata": {},
   "outputs": [
    {
     "name": "stdout",
     "output_type": "stream",
     "text": [
      "['cherry', 'banana', 'apple']\n"
     ]
    }
   ],
   "source": [
    "def reverse_strings(strings):\n",
    "    return strings[::-1]\n",
    "\n",
    "words = [\"apple\", \"banana\", \"cherry\"]\n",
    "print(reverse_strings(words))\n"
   ]
  },
  {
   "cell_type": "markdown",
   "id": "1765df76-1b0d-44c2-9851-5b077a97f96c",
   "metadata": {},
   "source": [
    "## Exercise 89:"
   ]
  },
  {
   "cell_type": "code",
   "execution_count": 12,
   "id": "2523ea83-058a-4503-b581-a3bfe4e257e5",
   "metadata": {},
   "outputs": [
    {
     "name": "stdout",
     "output_type": "stream",
     "text": [
      "Sum of odd numbers: 9\n"
     ]
    }
   ],
   "source": [
    "def sum_of_odds(numbers):\n",
    "    total = 0\n",
    "    for num in numbers:\n",
    "        if num % 2 != 0:  \n",
    "            total += num\n",
    "    return total\n",
    "\n",
    "\n",
    "nums = [1, 2, 3, 4, 5]\n",
    "print(\"Sum of odd numbers:\", sum_of_odds(nums))\n"
   ]
  },
  {
   "cell_type": "markdown",
   "id": "bbac1b4f-789e-4deb-b57a-6a5cdeacfe2e",
   "metadata": {},
   "source": [
    "## Exercise 90:"
   ]
  },
  {
   "cell_type": "code",
   "execution_count": 13,
   "id": "e27b4986-2fc7-42c8-ae57-970ebdb659ae",
   "metadata": {},
   "outputs": [
    {
     "name": "stdout",
     "output_type": "stream",
     "text": [
      "\"Racecar\" is a palindrome.\n"
     ]
    }
   ],
   "source": [
    "def is_palindrome(s):\n",
    "    s = s.lower().replace(\" \", \"\")  \n",
    "    return s == s[::-1]\n",
    "\n",
    "word = \"Racecar\"\n",
    "if is_palindrome(word):\n",
    "    print(f'\"{word}\" is a palindrome.')\n",
    "else:\n",
    "    print(f'\"{word}\" is not a palindrome.')\n"
   ]
  },
  {
   "cell_type": "markdown",
   "id": "24666829-53ce-4af2-be3f-13afbe36c45f",
   "metadata": {},
   "source": [
    "## Exercise 91:"
   ]
  },
  {
   "cell_type": "code",
   "execution_count": 14,
   "id": "f425fcd8-a720-4f85-a2ab-59ade651c827",
   "metadata": {},
   "outputs": [
    {
     "name": "stdout",
     "output_type": "stream",
     "text": [
      "Median: 5\n"
     ]
    }
   ],
   "source": [
    "def find_median(numbers):\n",
    "    numbers = sorted(numbers)  \n",
    "    n = len(numbers)\n",
    "    mid = n // 2\n",
    "\n",
    "    if n % 2 == 0:  \n",
    "        median = (numbers[mid - 1] + numbers[mid]) / 2\n",
    "    else:  \n",
    "        median = numbers[mid]\n",
    "\n",
    "    return median\n",
    "\n",
    "nums = [5, 2, 9, 1, 7]\n",
    "print(\"Median:\", find_median(nums))\n"
   ]
  },
  {
   "cell_type": "markdown",
   "id": "6cac1cbc-ca0d-45ab-8185-738c2b289e66",
   "metadata": {},
   "source": [
    "## Exercise 92:"
   ]
  },
  {
   "cell_type": "code",
   "execution_count": 15,
   "id": "6d998cd5-9b2a-4bf8-9498-46f869a711f8",
   "metadata": {},
   "outputs": [
    {
     "name": "stdout",
     "output_type": "stream",
     "text": [
      "{'apples': 7, 'oranges': 4, 'bananas': 6}\n"
     ]
    }
   ],
   "source": [
    "def sum_dicts(dict_list):\n",
    "    total = {}\n",
    "    for d in dict_list:\n",
    "        for key, value in d.items():\n",
    "            if key in total:\n",
    "                total[key] += value\n",
    "            else:\n",
    "                total[key] = value\n",
    "    return total\n",
    "\n",
    "data = [\n",
    "    {'apples': 5, 'oranges': 3},\n",
    "    {'apples': 2, 'bananas': 4},\n",
    "    {'oranges': 1, 'bananas': 2}\n",
    "]\n",
    "\n",
    "print(sum_dicts(data))\n"
   ]
  },
  {
   "cell_type": "markdown",
   "id": "7456c19f-50e6-4aef-88e0-18c233f03704",
   "metadata": {},
   "source": [
    "## Exercise 93:"
   ]
  },
  {
   "cell_type": "code",
   "execution_count": 16,
   "id": "2e81ddad-9efb-42ed-ac1c-6a887bfe8912",
   "metadata": {},
   "outputs": [
    {
     "name": "stdout",
     "output_type": "stream",
     "text": [
      "Mode: 2\n"
     ]
    }
   ],
   "source": [
    "def calculate_mode(numbers):\n",
    "    counts = {}\n",
    "    for num in numbers:\n",
    "        if num in counts:\n",
    "            counts[num] += 1\n",
    "        else:\n",
    "            counts[num] = 1\n",
    "\n",
    "    most_common = None\n",
    "    highest_count = 0\n",
    "    for num, count in counts.items():\n",
    "        if count > highest_count:\n",
    "            highest_count = count\n",
    "            most_common = num\n",
    "\n",
    "    return most_common\n",
    "\n",
    "nums = [1, 2, 2, 3, 4, 2, 5, 3]\n",
    "print(\"Mode:\", calculate_mode(nums))\n"
   ]
  },
  {
   "cell_type": "markdown",
   "id": "1d0cdac1-84be-4278-86a5-42f17d144838",
   "metadata": {},
   "source": [
    "## Exercise 94:"
   ]
  },
  {
   "cell_type": "code",
   "execution_count": 17,
   "id": "b1c36c75-73dc-4df2-ad77-da8032bbdf34",
   "metadata": {},
   "outputs": [
    {
     "name": "stdout",
     "output_type": "stream",
     "text": [
      "Sum of squares: 30\n"
     ]
    }
   ],
   "source": [
    "def sum_of_squares(numbers):\n",
    "    total = 0\n",
    "    for num in numbers:\n",
    "        total += num ** 2\n",
    "    return total\n",
    "\n",
    "nums = [1, 2, 3, 4]\n",
    "print(\"Sum of squares:\", sum_of_squares(nums))\n"
   ]
  },
  {
   "cell_type": "markdown",
   "id": "3bd35291-3aa4-40fa-8ff0-e6f4e425fe3e",
   "metadata": {},
   "source": [
    "## Exercise 95:"
   ]
  },
  {
   "cell_type": "code",
   "execution_count": 18,
   "id": "ec70544c-727a-47bb-b47e-61efb44e871b",
   "metadata": {},
   "outputs": [
    {
     "name": "stdout",
     "output_type": "stream",
     "text": [
      "[(1, 1), (2, 8), (3, 27), (4, 64), (5, 125)]\n"
     ]
    }
   ],
   "source": [
    "cubes = [(x, x**3) for x in range(1, 6)]\n",
    "\n",
    "print(cubes)\n"
   ]
  },
  {
   "cell_type": "markdown",
   "id": "c213d2dd-0646-4fd3-afa6-a6c4392f8b6d",
   "metadata": {},
   "source": [
    "## Exercise 96:"
   ]
  },
  {
   "cell_type": "code",
   "execution_count": 19,
   "id": "2db38a29-e423-447c-a220-cdd76d3acb43",
   "metadata": {},
   "outputs": [
    {
     "name": "stdout",
     "output_type": "stream",
     "text": [
      "Prime numbers up to 20 : [2, 3, 5, 7, 11, 13, 17, 19]\n"
     ]
    }
   ],
   "source": [
    "def primes_up_to(n):\n",
    "    primes = []\n",
    "    for num in range(2, n+1):\n",
    "        is_prime = True\n",
    "        for i in range(2, int(num**0.5)+1):\n",
    "            if num % i == 0:\n",
    "                is_prime = False\n",
    "                break\n",
    "        if is_prime:\n",
    "            primes.append(num)\n",
    "    return primes\n",
    "\n",
    "n = 20\n",
    "print(\"Prime numbers up to\", n, \":\", primes_up_to(n))\n"
   ]
  },
  {
   "cell_type": "markdown",
   "id": "4984dfd0-73b1-4668-8027-3a28e0354cfe",
   "metadata": {},
   "source": [
    "## Exercise 97:"
   ]
  },
  {
   "cell_type": "code",
   "execution_count": 20,
   "id": "1005c67d-cfb8-4d64-be85-e7b5346bd7ff",
   "metadata": {},
   "outputs": [
    {
     "name": "stdout",
     "output_type": "stream",
     "text": [
      "Common keys: ['b', 'c']\n"
     ]
    }
   ],
   "source": [
    "def common_keys(dict1, dict2):\n",
    "    return list(set(dict1.keys()) & set(dict2.keys()))\n",
    "\n",
    "dict_a = {'a': 1, 'b': 2, 'c': 3}\n",
    "dict_b = {'b': 4, 'c': 5, 'd': 6}\n",
    "\n",
    "print(\"Common keys:\", common_keys(dict_a, dict_b))\n"
   ]
  },
  {
   "cell_type": "markdown",
   "id": "d0ce55a1-d2cc-4c0b-959c-8f433d0a1dba",
   "metadata": {},
   "source": [
    "## Exercise 98:"
   ]
  },
  {
   "cell_type": "code",
   "execution_count": 21,
   "id": "caf5057d-c37f-4058-b509-5859f14bb4e8",
   "metadata": {},
   "outputs": [
    {
     "name": "stdout",
     "output_type": "stream",
     "text": [
      "['banana', 'cherry', 'grapefruit']\n"
     ]
    }
   ],
   "source": [
    "def long_strings(strings):\n",
    "    result = []\n",
    "    for s in strings:\n",
    "        if len(s) > 5:\n",
    "            result.append(s)\n",
    "    return result\n",
    "\n",
    "words = [\"apple\", \"banana\", \"cherry\", \"fig\", \"grapefruit\"]\n",
    "print(long_strings(words))\n"
   ]
  },
  {
   "cell_type": "markdown",
   "id": "13f6d3cb-6371-44a3-b5a8-9e4817e459e8",
   "metadata": {},
   "source": [
    "## Exercise 99:"
   ]
  },
  {
   "cell_type": "code",
   "execution_count": 22,
   "id": "ac33ee94-f8c0-41ff-ab01-5f33b5633c2f",
   "metadata": {},
   "outputs": [
    {
     "name": "stdout",
     "output_type": "stream",
     "text": [
      "[('apple', 5), ('banana', 6), ('cherry', 6)]\n"
     ]
    }
   ],
   "source": [
    "def strings_to_tuples(strings):\n",
    "    return [(s, len(s)) for s in strings]\n",
    "\n",
    "words = [\"apple\", \"banana\", \"cherry\"]\n",
    "result = strings_to_tuples(words)\n",
    "print(result)\n"
   ]
  },
  {
   "cell_type": "markdown",
   "id": "3fdd1e6d-10e2-41c0-8a36-49c814d4699f",
   "metadata": {},
   "source": [
    "## Exercise 100:"
   ]
  },
  {
   "cell_type": "code",
   "execution_count": 23,
   "id": "35389db2-8a3c-4c75-806e-e7d5cd5de572",
   "metadata": {},
   "outputs": [
    {
     "name": "stdout",
     "output_type": "stream",
     "text": [
      "{'apples': 7, 'oranges': 4, 'bananas': 6}\n"
     ]
    }
   ],
   "source": [
    "def sum_values(dict_list):\n",
    "    result = {}\n",
    "    for d in dict_list:\n",
    "        for key, value in d.items():\n",
    "            if key in result:\n",
    "                result[key] += value\n",
    "            else:\n",
    "                result[key] = value\n",
    "    return result\n",
    "\n",
    "data = [\n",
    "    {'apples': 5, 'oranges': 3},\n",
    "    {'apples': 2, 'bananas': 4},\n",
    "    {'oranges': 1, 'bananas': 2}\n",
    "]\n",
    "\n",
    "print(sum_values(data))\n"
   ]
  },
  {
   "cell_type": "code",
   "execution_count": null,
   "id": "5365965f-84a1-4e5a-8ccd-71b2e8d59acc",
   "metadata": {},
   "outputs": [],
   "source": []
  }
 ],
 "metadata": {
  "kernelspec": {
   "display_name": "Python [conda env:base] *",
   "language": "python",
   "name": "conda-base-py"
  },
  "language_info": {
   "codemirror_mode": {
    "name": "ipython",
    "version": 3
   },
   "file_extension": ".py",
   "mimetype": "text/x-python",
   "name": "python",
   "nbconvert_exporter": "python",
   "pygments_lexer": "ipython3",
   "version": "3.11.5"
  }
 },
 "nbformat": 4,
 "nbformat_minor": 5
}
