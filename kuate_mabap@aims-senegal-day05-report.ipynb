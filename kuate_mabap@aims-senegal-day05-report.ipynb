{
 "cells": [
  {
   "cell_type": "markdown",
   "id": "0129dca6",
   "metadata": {},
   "source": [
    "## Exercise 1:"
   ]
  },
  {
   "cell_type": "code",
   "execution_count": 3,
   "id": "2f93d2b3",
   "metadata": {},
   "outputs": [
    {
     "data": {
      "text/plain": [
       "[1, 2, 3, 4, 5, 6, 7, 8, 9, 10]"
      ]
     },
     "execution_count": 3,
     "metadata": {},
     "output_type": "execute_result"
    }
   ],
   "source": [
    "liste = []\n",
    "for i in range(1,11):\n",
    "    liste.append(i)\n",
    "    \n",
    "liste"
   ]
  },
  {
   "cell_type": "markdown",
   "id": "95d80696",
   "metadata": {},
   "source": [
    "## Exercise 2:"
   ]
  },
  {
   "cell_type": "code",
   "execution_count": 4,
   "id": "3c73f0cf",
   "metadata": {},
   "outputs": [
    {
     "data": {
      "text/plain": [
       "tuple"
      ]
     },
     "execution_count": 4,
     "metadata": {},
     "output_type": "execute_result"
    }
   ],
   "source": [
    "a = (\"apple\", \"banana\", \"cherry\")\n",
    "type(a)"
   ]
  },
  {
   "cell_type": "markdown",
   "id": "aebf1f1d",
   "metadata": {},
   "source": [
    "## Exercise 3:"
   ]
  },
  {
   "cell_type": "code",
   "execution_count": 5,
   "id": "a1a2fcdc",
   "metadata": {},
   "outputs": [
    {
     "data": {
      "text/plain": [
       "tuple"
      ]
     },
     "execution_count": 5,
     "metadata": {},
     "output_type": "execute_result"
    }
   ],
   "source": [
    "numbers = [10, 20, 30, 40]\n",
    "b = tuple(numbers)\n",
    "type(b)"
   ]
  },
  {
   "cell_type": "markdown",
   "id": "60ae8b64",
   "metadata": {},
   "source": [
    "## Exercise 4:"
   ]
  },
  {
   "cell_type": "code",
   "execution_count": 7,
   "id": "cb487938",
   "metadata": {},
   "outputs": [
    {
     "data": {
      "text/plain": [
       "{1, 2, 3, 4, 5}"
      ]
     },
     "execution_count": 7,
     "metadata": {},
     "output_type": "execute_result"
    }
   ],
   "source": [
    "a = {1, 2, 3, 4, 5}\n",
    "    \n",
    "a    "
   ]
  },
  {
   "cell_type": "markdown",
   "id": "76970a36",
   "metadata": {},
   "source": [
    "## Exercise 5:"
   ]
  },
  {
   "cell_type": "code",
   "execution_count": 8,
   "id": "80a6f827",
   "metadata": {},
   "outputs": [
    {
     "data": {
      "text/plain": [
       "{'name': 'kuate', 'age': 13, 'grade': 6}"
      ]
     },
     "execution_count": 8,
     "metadata": {},
     "output_type": "execute_result"
    }
   ],
   "source": [
    "student = {\n",
    "    \"name\":\"kuate\", \"age\": 13, \"grade\":6\n",
    "}\n",
    "\n",
    "student"
   ]
  },
  {
   "cell_type": "markdown",
   "id": "d58317b6",
   "metadata": {},
   "source": [
    "## Exercise 6:"
   ]
  },
  {
   "cell_type": "code",
   "execution_count": 9,
   "id": "f4eeb35e",
   "metadata": {},
   "outputs": [
    {
     "data": {
      "text/plain": [
       "20"
      ]
     },
     "execution_count": 9,
     "metadata": {},
     "output_type": "execute_result"
    }
   ],
   "source": [
    "liste = [10, 20, 30, 40, 50]\n",
    "liste[1]"
   ]
  },
  {
   "cell_type": "markdown",
   "id": "a8d76502",
   "metadata": {},
   "source": [
    "## Exercise 7:"
   ]
  },
  {
   "cell_type": "code",
   "execution_count": 10,
   "id": "53b2cfe6",
   "metadata": {},
   "outputs": [
    {
     "data": {
      "text/plain": [
       "['apple', 'banana', 'mango', 'orange']"
      ]
     },
     "execution_count": 10,
     "metadata": {},
     "output_type": "execute_result"
    }
   ],
   "source": [
    "fruits = [\"apple\", \"banana\", \"cherry\", \"orange\"]\n",
    "fruits[2]=\"mango\"\n",
    "\n",
    "fruits"
   ]
  },
  {
   "cell_type": "markdown",
   "id": "1f6ce0b9",
   "metadata": {},
   "source": [
    "## Exercise 8:"
   ]
  },
  {
   "cell_type": "code",
   "execution_count": 11,
   "id": "8738ebd6",
   "metadata": {},
   "outputs": [
    {
     "data": {
      "text/plain": [
       "{1, 2, 3, 4, 5, 6}"
      ]
     },
     "execution_count": 11,
     "metadata": {},
     "output_type": "execute_result"
    }
   ],
   "source": [
    "numbers = {1, 2, 3, 4, 5}\n",
    "numbers.add(6)\n",
    "\n",
    "numbers"
   ]
  },
  {
   "cell_type": "markdown",
   "id": "3e19574b",
   "metadata": {},
   "source": [
    "## Exercise 9:"
   ]
  },
  {
   "cell_type": "code",
   "execution_count": 16,
   "id": "e9dbf27d",
   "metadata": {},
   "outputs": [
    {
     "data": {
      "text/plain": [
       "{'name': 'John', 'city': 'New York'}"
      ]
     },
     "execution_count": 16,
     "metadata": {},
     "output_type": "execute_result"
    }
   ],
   "source": [
    "person = {\"name\": \"John\", \"age\": 25, \"city\": \"New York\"}\n",
    "\n",
    "del person[\"age\"]\n",
    "\n",
    "person"
   ]
  },
  {
   "cell_type": "markdown",
   "id": "b76c63f0",
   "metadata": {},
   "source": [
    "## Exercise 10:"
   ]
  },
  {
   "cell_type": "code",
   "execution_count": 18,
   "id": "2a8f300c",
   "metadata": {},
   "outputs": [
    {
     "data": {
      "text/plain": [
       "[0, 1, 2, 3, 4, 5, 6, 7, 8, 9]"
      ]
     },
     "execution_count": 18,
     "metadata": {},
     "output_type": "execute_result"
    }
   ],
   "source": [
    "rang = []\n",
    "for i in range(10):\n",
    "    rang.append(i)\n",
    "    \n",
    "rang"
   ]
  },
  {
   "cell_type": "markdown",
   "id": "60593275",
   "metadata": {},
   "source": [
    "## Exercise 11:"
   ]
  },
  {
   "cell_type": "code",
   "execution_count": 21,
   "id": "b2fd0469",
   "metadata": {},
   "outputs": [
    {
     "data": {
      "text/plain": [
       "[1, 4, 9, 16, 25, 36, 49, 64, 81, 100]"
      ]
     },
     "execution_count": 21,
     "metadata": {},
     "output_type": "execute_result"
    }
   ],
   "source": [
    "squares = [i ** 2 for i in range (1,11)]\n",
    "squares"
   ]
  },
  {
   "cell_type": "markdown",
   "id": "649767be",
   "metadata": {},
   "source": [
    "## Exercise 12:"
   ]
  },
  {
   "cell_type": "code",
   "execution_count": 43,
   "id": "c331c6b8",
   "metadata": {},
   "outputs": [
    {
     "data": {
      "text/plain": [
       "(4, 6, 8, 10)"
      ]
     },
     "execution_count": 43,
     "metadata": {},
     "output_type": "execute_result"
    }
   ],
   "source": [
    "even_number = tuple([i*2 for i in range(2,6)])\n",
    "even_number"
   ]
  },
  {
   "cell_type": "markdown",
   "id": "96ebef71",
   "metadata": {},
   "source": [
    "## Exercise 13:"
   ]
  },
  {
   "cell_type": "code",
   "execution_count": 44,
   "id": "43bd9531",
   "metadata": {},
   "outputs": [
    {
     "name": "stdout",
     "output_type": "stream",
     "text": [
      "apple\n",
      "banana\n",
      "cherry\n"
     ]
    }
   ],
   "source": [
    "fruits = [\"apple\", \"banana\", \"cherry\"]\n",
    "\n",
    "for i in fruits:\n",
    "    print(i)"
   ]
  },
  {
   "cell_type": "markdown",
   "id": "33b7a072",
   "metadata": {},
   "source": [
    "## Exercise 14:"
   ]
  },
  {
   "cell_type": "code",
   "execution_count": 45,
   "id": "dea97d8b",
   "metadata": {},
   "outputs": [
    {
     "name": "stdout",
     "output_type": "stream",
     "text": [
      "3\n"
     ]
    }
   ],
   "source": [
    "numbers = {1, 2, 3, 4, 5}\n",
    "\n",
    "if 3 in numbers:\n",
    "    print(3)\n",
    "else:\n",
    "    print(\"there is not here\")"
   ]
  },
  {
   "cell_type": "markdown",
   "id": "b780b4a4",
   "metadata": {},
   "source": [
    "## Exercise 15:"
   ]
  },
  {
   "cell_type": "code",
   "execution_count": 46,
   "id": "798af144",
   "metadata": {},
   "outputs": [
    {
     "data": {
      "text/plain": [
       "3"
      ]
     },
     "execution_count": 46,
     "metadata": {},
     "output_type": "execute_result"
    }
   ],
   "source": [
    "numbers = (10, 20, 30)\n",
    "\n",
    "len(numbers)"
   ]
  },
  {
   "cell_type": "markdown",
   "id": "53250043",
   "metadata": {},
   "source": [
    "## Exercise 16:"
   ]
  },
  {
   "cell_type": "code",
   "execution_count": 47,
   "id": "02a5f092",
   "metadata": {},
   "outputs": [
    {
     "data": {
      "text/plain": [
       "[80, 85, 90, 95, 100]"
      ]
     },
     "execution_count": 47,
     "metadata": {},
     "output_type": "execute_result"
    }
   ],
   "source": [
    "scores = [80, 85, 90, 95]\n",
    "scores.append(100)\n",
    "scores\n",
    "\n"
   ]
  },
  {
   "cell_type": "markdown",
   "id": "23b88572",
   "metadata": {},
   "source": [
    "## Exercise 17:"
   ]
  },
  {
   "cell_type": "code",
   "execution_count": 48,
   "id": "0bce3be7",
   "metadata": {},
   "outputs": [
    {
     "name": "stdout",
     "output_type": "stream",
     "text": [
      "45\n"
     ]
    }
   ],
   "source": [
    "def function_sum (element):\n",
    "    return sum(element)\n",
    "\n",
    "print(function_sum ([i for i in range(10)]))"
   ]
  },
  {
   "cell_type": "markdown",
   "id": "dce81590",
   "metadata": {},
   "source": [
    "## Exercise 18:\n"
   ]
  },
  {
   "cell_type": "code",
   "execution_count": 49,
   "id": "b453e72a",
   "metadata": {},
   "outputs": [
    {
     "data": {
      "text/plain": [
       "{1, 2, 3, 4, 5}"
      ]
     },
     "execution_count": 49,
     "metadata": {},
     "output_type": "execute_result"
    }
   ],
   "source": [
    "numbers = [1, 2, 2, 3, 4, 4, 5]\n",
    "number_set = set(numbers)\n",
    "\n",
    "number_set"
   ]
  },
  {
   "cell_type": "markdown",
   "id": "71073cbe",
   "metadata": {},
   "source": [
    "## Exercise 19:"
   ]
  },
  {
   "cell_type": "code",
   "execution_count": 50,
   "id": "7cab59a2",
   "metadata": {},
   "outputs": [
    {
     "data": {
      "text/plain": [
       "['h', 'e', 'l', 'l', 'o']"
      ]
     },
     "execution_count": 50,
     "metadata": {},
     "output_type": "execute_result"
    }
   ],
   "source": [
    "liste = []\n",
    "for i in \"hello\":\n",
    "    liste.append(i)\n",
    "    \n",
    "liste"
   ]
  },
  {
   "cell_type": "markdown",
   "id": "96751588",
   "metadata": {},
   "source": [
    "## Exercise 20:"
   ]
  },
  {
   "cell_type": "code",
   "execution_count": 51,
   "id": "a6c9818f",
   "metadata": {},
   "outputs": [
    {
     "data": {
      "text/plain": [
       "(4, 3, 2, 1)"
      ]
     },
     "execution_count": 51,
     "metadata": {},
     "output_type": "execute_result"
    }
   ],
   "source": [
    "a = (1, 2, 3, 4)\n",
    "\n",
    "b = a[::-1]\n",
    "b"
   ]
  },
  {
   "cell_type": "markdown",
   "id": "57448ddd",
   "metadata": {},
   "source": [
    "## Exercise 21:"
   ]
  },
  {
   "cell_type": "code",
   "execution_count": 53,
   "id": "448b1833",
   "metadata": {},
   "outputs": [
    {
     "data": {
      "text/plain": [
       "{'a': 1, 'b': 2, 'c': 3, 'd': 4}"
      ]
     },
     "execution_count": 53,
     "metadata": {},
     "output_type": "execute_result"
    }
   ],
   "source": [
    "dict1 = {\"a\": 1, \"b\": 2}\n",
    "dict2 = {\"c\": 3, \"d\": 4} \n",
    "\n",
    "dict1.update(dict2)\n",
    "dict1"
   ]
  },
  {
   "cell_type": "markdown",
   "id": "b5dc5410",
   "metadata": {},
   "source": [
    "## Exercise 22:"
   ]
  },
  {
   "cell_type": "code",
   "execution_count": 56,
   "id": "a8802207",
   "metadata": {},
   "outputs": [
    {
     "name": "stdout",
     "output_type": "stream",
     "text": [
      "{1: 1, 2: 8, 3: 27, 4: 64, 5: 125}\n",
      "<class 'dict'>\n"
     ]
    }
   ],
   "source": [
    "dict_1 = {i:i**3 for i in range(1,6)}\n",
    "print(dict_1)\n",
    "print(type(dict_1))"
   ]
  },
  {
   "cell_type": "markdown",
   "id": "57589ebb",
   "metadata": {},
   "source": [
    "## Exercise 23:"
   ]
  },
  {
   "cell_type": "code",
   "execution_count": 59,
   "id": "bec90ac9",
   "metadata": {},
   "outputs": [
    {
     "name": "stdout",
     "output_type": "stream",
     "text": [
      "1 1\n",
      "2 8\n",
      "3 27\n",
      "4 64\n",
      "5 125\n"
     ]
    }
   ],
   "source": [
    "for k in dict_1:\n",
    "    print(k, dict_1[k])"
   ]
  },
  {
   "cell_type": "markdown",
   "id": "b1953606",
   "metadata": {},
   "source": [
    "## Exercise 24:"
   ]
  },
  {
   "cell_type": "code",
   "execution_count": 3,
   "id": "6822f3f2",
   "metadata": {},
   "outputs": [
    {
     "ename": "SyntaxError",
     "evalue": "invalid syntax (3735975444.py, line 2)",
     "output_type": "error",
     "traceback": [
      "\u001b[0;36m  File \u001b[0;32m\"/tmp/ipykernel_18744/3735975444.py\"\u001b[0;36m, line \u001b[0;32m2\u001b[0m\n\u001b[0;31m    chr()__doc__\u001b[0m\n\u001b[0m         ^\u001b[0m\n\u001b[0;31mSyntaxError\u001b[0m\u001b[0;31m:\u001b[0m invalid syntax\n"
     ]
    }
   ],
   "source": [
    "name = \"maman\"\n",
    "chr()."
   ]
  },
  {
   "cell_type": "markdown",
   "id": "7300a4fc",
   "metadata": {},
   "source": [
    "## Exercise 25:"
   ]
  },
  {
   "cell_type": "code",
   "execution_count": 6,
   "id": "5ff63eae",
   "metadata": {},
   "outputs": [
    {
     "data": {
      "text/plain": [
       "[(1, 'a'), (2, 'b'), (3, 'c')]"
      ]
     },
     "execution_count": 6,
     "metadata": {},
     "output_type": "execute_result"
    }
   ],
   "source": [
    "A = [1, 2, 3]\n",
    "B = [\"a\", \"b\", \"c\"]\n",
    "\n",
    "C = [(i,j) for i,j in zip(A, B)]\n",
    "C"
   ]
  },
  {
   "cell_type": "markdown",
   "id": "7459c5b0",
   "metadata": {},
   "source": [
    "## Exercise 26:"
   ]
  },
  {
   "cell_type": "code",
   "execution_count": 8,
   "id": "b38af3fa",
   "metadata": {},
   "outputs": [
    {
     "name": "stdout",
     "output_type": "stream",
     "text": [
      "4\n"
     ]
    }
   ],
   "source": [
    "A = [10, 20, 30, 40, 50]\n",
    "\n",
    "print(A.index(50))"
   ]
  },
  {
   "cell_type": "markdown",
   "id": "3569726f",
   "metadata": {},
   "source": [
    "## Exercise 27:"
   ]
  },
  {
   "cell_type": "code",
   "execution_count": 19,
   "id": "423afe11",
   "metadata": {},
   "outputs": [
    {
     "name": "stdout",
     "output_type": "stream",
     "text": [
      "None\n"
     ]
    }
   ],
   "source": [
    "## names = [\"Alice\", \"Bob\", \"Charlie\", \"David\"]\n",
    "`"
   ]
  },
  {
   "cell_type": "markdown",
   "id": "8c05a98b",
   "metadata": {},
   "source": [
    "## Exercises 28:"
   ]
  },
  {
   "cell_type": "code",
   "execution_count": 20,
   "id": "ef073599",
   "metadata": {},
   "outputs": [
    {
     "data": {
      "text/plain": [
       "50"
      ]
     },
     "execution_count": 20,
     "metadata": {},
     "output_type": "execute_result"
    }
   ],
   "source": [
    "liste = [10, 20, 30, 40, 50]\n",
    "\n",
    "max(liste)"
   ]
  },
  {
   "cell_type": "markdown",
   "id": "9efb1a29",
   "metadata": {},
   "source": [
    "## Exercise 29:"
   ]
  },
  {
   "cell_type": "code",
   "execution_count": 21,
   "id": "66f2cfb6",
   "metadata": {},
   "outputs": [
    {
     "data": {
      "text/plain": [
       "2"
      ]
     },
     "execution_count": 21,
     "metadata": {},
     "output_type": "execute_result"
    }
   ],
   "source": [
    "fruits = [\"apple\", \"banana\", \"apple\", \"orange\"]\n",
    "\n",
    "fruits.count(\"apple\")"
   ]
  },
  {
   "cell_type": "markdown",
   "id": "f12814c9",
   "metadata": {},
   "source": [
    "## Exercise 30:"
   ]
  },
  {
   "cell_type": "code",
   "execution_count": 25,
   "id": "086071a2",
   "metadata": {},
   "outputs": [
    {
     "data": {
      "text/plain": [
       "'New York'"
      ]
     },
     "execution_count": 25,
     "metadata": {},
     "output_type": "execute_result"
    }
   ],
   "source": [
    "person = {\n",
    "    \"name\":\"Alice\", \"age\": 25, \"city\": \"New York\"\n",
    "}\n",
    "\n",
    "person[\"city\"]"
   ]
  },
  {
   "cell_type": "markdown",
   "id": "4fb0820f",
   "metadata": {},
   "source": [
    "## Exercise 31:"
   ]
  },
  {
   "cell_type": "code",
   "execution_count": 33,
   "id": "d0803713",
   "metadata": {},
   "outputs": [
    {
     "name": "stdout",
     "output_type": "stream",
     "text": [
      "Enter a number: 1\n",
      "Enter a number: 1\n",
      "Enter a number: 1\n",
      "Enter a number: 2\n",
      "Enter a number: 3\n",
      "Enter a number: 4\n",
      "Enter a number: 5\n"
     ]
    },
    {
     "data": {
      "text/plain": [
       "[1, 2, 3, 4]"
      ]
     },
     "execution_count": 33,
     "metadata": {},
     "output_type": "execute_result"
    }
   ],
   "source": [
    "liste = []\n",
    "a = 0\n",
    "for i in range (7):\n",
    "    a = int(input(\"Enter a number: \"))\n",
    "    liste.append(a)\n",
    "\n",
    "    \n",
    "def dupli (A):\n",
    "    liste1 = []\n",
    "    for i in A:\n",
    "        if liste.count(i) < 2:\n",
    "            liste1.append(liste[i])\n",
    "            \n",
    "    return liste1\n",
    "    \n",
    "dupli(liste)   "
   ]
  },
  {
   "cell_type": "markdown",
   "id": "95b5c466",
   "metadata": {},
   "source": [
    "## Exercise 32:"
   ]
  },
  {
   "cell_type": "code",
   "execution_count": null,
   "id": "e4886e0f",
   "metadata": {},
   "outputs": [],
   "source": [
    "fruits = [\"apple\", \"banana\", \"apple\", \"orange\"]\n",
    "\n",
    "names = [\"Alice\", \"Bob\", \"Charlie\", \"David\", \"apple\"]\n",
    "\n",
    "for i in range(min(len))\n",
    "if (i in fruits) and (i in names):\n",
    "    print(fruits[i])"
   ]
  },
  {
   "cell_type": "markdown",
   "id": "b7154503",
   "metadata": {},
   "source": [
    "## Exercise 33:"
   ]
  },
  {
   "cell_type": "code",
   "execution_count": null,
   "id": "0a900927",
   "metadata": {},
   "outputs": [],
   "source": []
  },
  {
   "cell_type": "markdown",
   "id": "0e15f37f",
   "metadata": {},
   "source": [
    "## Exercise 34:"
   ]
  },
  {
   "cell_type": "code",
   "execution_count": 44,
   "id": "5938fb42",
   "metadata": {},
   "outputs": [
    {
     "data": {
      "text/plain": [
       "55"
      ]
     },
     "execution_count": 44,
     "metadata": {},
     "output_type": "execute_result"
    }
   ],
   "source": [
    "dict_1 = {i:i**2 for i in range(1,6)}\n",
    "\n",
    "def somme(A):\n",
    "    return sum(A.values())\n",
    "\n",
    "somme(dict_1)"
   ]
  },
  {
   "cell_type": "markdown",
   "id": "fe1a7906",
   "metadata": {},
   "source": [
    "## Exercise 35:"
   ]
  },
  {
   "cell_type": "code",
   "execution_count": 47,
   "id": "e36dea29",
   "metadata": {},
   "outputs": [
    {
     "name": "stdout",
     "output_type": "stream",
     "text": [
      "None\n"
     ]
    }
   ],
   "source": [
    "#A = [3, 1, 4, 1, 5, 9]\n",
    "\n",
    "#B = A.sort()\n",
    "\n",
    "#print(B)"
   ]
  },
  {
   "cell_type": "markdown",
   "id": "4d635236",
   "metadata": {},
   "source": [
    "## *Exercise 36:"
   ]
  },
  {
   "cell_type": "code",
   "execution_count": 2,
   "id": "8090ea12",
   "metadata": {},
   "outputs": [
    {
     "data": {
      "text/plain": [
       "'maman'"
      ]
     },
     "execution_count": 2,
     "metadata": {},
     "output_type": "execute_result"
    }
   ],
   "source": [
    "A = [\"hello\", \"maman\", \"kuate\", \"Hello everyone\", \"I hope that your are fine today\"]\n",
    "\n",
    "for i in range(len(A)):\n",
    "    print(max(A)\n",
    "    "
   ]
  },
  {
   "cell_type": "markdown",
   "id": "d1c0b725-8e83-4067-b932-cd873f3a01c3",
   "metadata": {},
   "source": [
    "## *Exercise 37:"
   ]
  },
  {
   "cell_type": "code",
   "execution_count": 7,
   "id": "8d7cf829-b864-470b-80d9-636e3244262f",
   "metadata": {},
   "outputs": [
    {
     "data": {
      "text/plain": [
       "True"
      ]
     },
     "execution_count": 7,
     "metadata": {},
     "output_type": "execute_result"
    }
   ],
   "source": [
    "A = [-1, 2, -3, 4, 5]\n",
    "\n",
    "all(A)"
   ]
  },
  {
   "cell_type": "markdown",
   "id": "086d8b86-ae9f-47cc-b639-3caac9c2f663",
   "metadata": {},
   "source": [
    "## Exercise 38:"
   ]
  },
  {
   "cell_type": "code",
   "execution_count": 9,
   "id": "3173d602-7194-4c55-b3c3-659984cb447e",
   "metadata": {},
   "outputs": [
    {
     "data": {
      "text/plain": [
       "[(1, 1), (2, 4), (3, 9), (4, 16), (5, 25)]"
      ]
     },
     "execution_count": 9,
     "metadata": {},
     "output_type": "execute_result"
    }
   ],
   "source": [
    "liste = [(i, i**2) for i in range(1, 6)]\n",
    "liste"
   ]
  },
  {
   "cell_type": "markdown",
   "id": "298e61b4-a667-4280-b6ea-dbf3118b4244",
   "metadata": {},
   "source": [
    "\n",
    "## Exercise 39:"
   ]
  },
  {
   "cell_type": "code",
   "execution_count": 20,
   "id": "a6d6890b-13fb-48c5-8bd7-8c5e7c1b0920",
   "metadata": {},
   "outputs": [
    {
     "name": "stdout",
     "output_type": "stream",
     "text": [
      "5\n"
     ]
    },
    {
     "data": {
      "text/plain": [
       "[1, 4, 9, 16, 25]"
      ]
     },
     "execution_count": 20,
     "metadata": {},
     "output_type": "execute_result"
    }
   ],
   "source": [
    "print(len(liste))\n",
    "def tuples(A):\n",
    "    liste = []\n",
    "    for i in range(len(A)):\n",
    "        liste.append(A[i][1])\n",
    "    return liste\n",
    "\n",
    "tuples([(i, i**2) for i in range(1, 6)])"
   ]
  },
  {
   "cell_type": "markdown",
   "id": "93a5a4f6-a029-4f2a-aafa-d7c3afe7f84e",
   "metadata": {},
   "source": [
    "## *Exercise 40"
   ]
  },
  {
   "cell_type": "code",
   "execution_count": null,
   "id": "0bbcd34b-836c-47ee-8192-cc7a4e4a89f0",
   "metadata": {},
   "outputs": [],
   "source": []
  },
  {
   "cell_type": "markdown",
   "id": "17054d02-adac-46b2-b686-d5f4f8768633",
   "metadata": {},
   "source": [
    "## *Exercise 41"
   ]
  },
  {
   "cell_type": "code",
   "execution_count": null,
   "id": "173273c6-0a13-4d6a-8984-fa195517182f",
   "metadata": {},
   "outputs": [],
   "source": []
  },
  {
   "cell_type": "markdown",
   "id": "34595955-139c-42d0-9561-ebb02f343d17",
   "metadata": {},
   "source": [
    "## Exercise 42:"
   ]
  },
  {
   "cell_type": "code",
   "execution_count": 29,
   "id": "c1131ee3-69aa-4f6e-951f-a5c6d943b733",
   "metadata": {},
   "outputs": [],
   "source": [
    "A = ()\n",
    "\n",
    "for i in range(len(A)):\n",
    "    if A[i] == () :\n",
    "        print(\"A is empty set\")\n",
    "    else:\n",
    "        print(\"A contain at least one element\")\n"
   ]
  },
  {
   "cell_type": "markdown",
   "id": "485c0bb1-7edf-4a1c-83a5-f03f403911ff",
   "metadata": {},
   "source": [
    "## Exercise 43:"
   ]
  },
  {
   "cell_type": "code",
   "execution_count": 33,
   "id": "b77c8469-b5b8-4a29-83a5-58a864b80a71",
   "metadata": {},
   "outputs": [
    {
     "name": "stdout",
     "output_type": "stream",
     "text": [
      "2\n",
      "4\n",
      "6\n",
      "8\n",
      "10\n",
      "12\n",
      "14\n",
      "16\n",
      "18\n",
      "20\n"
     ]
    }
   ],
   "source": [
    "for i in range(2, 21, 2):\n",
    "    print(i)"
   ]
  },
  {
   "cell_type": "markdown",
   "id": "b286510c-ac23-4569-a7f2-b4060534b440",
   "metadata": {},
   "source": [
    "## *Exercise 44:"
   ]
  },
  {
   "cell_type": "code",
   "execution_count": 44,
   "id": "e57d54cd-14a6-4c81-9e35-4646aaed407a",
   "metadata": {},
   "outputs": [
    {
     "name": "stdout",
     "output_type": "stream",
     "text": [
      "[5, 4, 3, 2, 10]\n",
      "None\n"
     ]
    }
   ],
   "source": [
    "A = [10, 2, 3, 4, 5]\n",
    "A.reverse()\n",
    "print(A)\n",
    "def function(C):\n",
    "     C.reverse()\n",
    "\n",
    "\n",
    "print(function(A))"
   ]
  },
  {
   "cell_type": "markdown",
   "id": "078df83b-77a5-47ad-b0f6-4661923ba690",
   "metadata": {},
   "source": [
    "## Exercise 45:"
   ]
  },
  {
   "cell_type": "code",
   "execution_count": 48,
   "id": "4433adf1-63f9-41f5-b8eb-08d5948b5db3",
   "metadata": {},
   "outputs": [
    {
     "data": {
      "text/plain": [
       "{1: 1, 2: 8, 3: 27, 4: 64, 5: 125}"
      ]
     },
     "execution_count": 48,
     "metadata": {},
     "output_type": "execute_result"
    }
   ],
   "source": [
    "dict_2 = {i:i**3 for i in range(1, 6)}\n",
    "dict_2\n"
   ]
  },
  {
   "cell_type": "markdown",
   "id": "197623fc-4bd0-44f8-8454-906b5f60f6a3",
   "metadata": {},
   "source": [
    "## Exercise 46:"
   ]
  },
  {
   "cell_type": "code",
   "execution_count": 50,
   "id": "b70a9d0f-8143-4fb6-8088-e2164c44cb1f",
   "metadata": {},
   "outputs": [
    {
     "data": {
      "text/plain": [
       "[1, 3, 5, 6]"
      ]
     },
     "execution_count": 50,
     "metadata": {},
     "output_type": "execute_result"
    }
   ],
   "source": [
    "A = [1, 2, 2, 3, 4, 4, 5]\n",
    "B = []\n",
    "\n",
    "for i in range(1, len(A)):\n",
    "    if A.count(i) < 2:\n",
    "        B.append(i)\n",
    "\n",
    "B"
   ]
  },
  {
   "cell_type": "markdown",
   "id": "4e1c4914-33d4-4f6f-a9f4-c21dd0bd98ff",
   "metadata": {},
   "source": [
    "## Exercise 47:"
   ]
  },
  {
   "cell_type": "code",
   "execution_count": 56,
   "id": "1fa01d03-a366-4d68-9130-dbcda03649aa",
   "metadata": {},
   "outputs": [
    {
     "name": "stdout",
     "output_type": "stream",
     "text": [
      "1 1\n",
      "2 4\n",
      "3 9\n",
      "4 16\n",
      "5 25\n",
      "dict_keys([1, 2, 3, 4, 5])\n"
     ]
    },
    {
     "ename": "NameError",
     "evalue": "name 'somme' is not defined",
     "output_type": "error",
     "traceback": [
      "\u001b[1;31m---------------------------------------------------------------------------\u001b[0m",
      "\u001b[1;31mNameError\u001b[0m                                 Traceback (most recent call last)",
      "Cell \u001b[1;32mIn[56], line 9\u001b[0m\n\u001b[0;32m      5\u001b[0m \u001b[38;5;28;01mdef\u001b[39;00m \u001b[38;5;21mvalues\u001b[39m(A):\n\u001b[0;32m      7\u001b[0m     \u001b[38;5;28;01mreturn\u001b[39;00m \u001b[38;5;28msum\u001b[39m(A\u001b[38;5;241m.\u001b[39mvalues())\n\u001b[1;32m----> 9\u001b[0m somme(dict_1)\n",
      "\u001b[1;31mNameError\u001b[0m: name 'somme' is not defined"
     ]
    }
   ],
   "source": [
    "dict_1 = {i:i**2 for i in range(1,6)}\n",
    "for k in dict_1:\n",
    "    print(k, dict_1[k])\n",
    "print(dict_1.keys())\n",
    "def values(A):\n",
    "    \n",
    "    \n",
    "    return sum(A.values())\n",
    "\n",
    "somme(dict_1)"
   ]
  },
  {
   "cell_type": "code",
   "execution_count": null,
   "id": "d108dee8-bd94-4efb-ba63-809c3fa6f3ef",
   "metadata": {},
   "outputs": [],
   "source": []
  }
 ],
 "metadata": {
  "kernelspec": {
   "display_name": "Python [conda env:base] *",
   "language": "python",
   "name": "conda-base-py"
  },
  "language_info": {
   "codemirror_mode": {
    "name": "ipython",
    "version": 3
   },
   "file_extension": ".py",
   "mimetype": "text/x-python",
   "name": "python",
   "nbconvert_exporter": "python",
   "pygments_lexer": "ipython3",
   "version": "3.11.5"
  }
 },
 "nbformat": 4,
 "nbformat_minor": 5
}
